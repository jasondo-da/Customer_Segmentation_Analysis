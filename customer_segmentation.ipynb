{
 "cells": [
  {
   "cell_type": "markdown",
   "metadata": {},
   "source": [
    "# Visualizing Customer Segments: Merging Demographics with Shopping Behavior\n",
    "\n",
    "## Table of Contents <a id='back'></a>\n",
    "- [Project Introduction](#project-introduction)\n",
    "    - [Analysis Outline](#analysis-outline)\n",
    "    - [Results](#results)\n",
    "- [Importing Libraries and Opening Data Files](#importing-libraries-and-opening-data-files)\n",
    "- [Data Wrangling](#data-wrangling)\n",
    "    - [Duplicates](#duplicates)\n",
    "    - [Missing Values](#missing-values)\n",
    "    - [Formatting](#formatting)\n",
    "    - [Removing Irrelevant Data](#removing-irrelevant-data)\n",
    "- [Exploratory Data Analysis](#exploratory-data-analysis)\n",
    "- [Conclusions and Reccomendations](#conclusions-and-reccomendations)\n",
    "- [Dataset Citation](#dataset-citation)"
   ]
  },
  {
   "cell_type": "markdown",
   "metadata": {},
   "source": [
    "## Project Introduction\n",
    "\n",
    "[project intro]\n",
    "\n",
    "### Analysis Outline\n",
    "\n",
    "[Analysis Outline]\n",
    "\n",
    "### Results\n",
    "\n",
    "[Results]\n"
   ]
  },
  {
   "cell_type": "markdown",
   "metadata": {},
   "source": [
    "[Back to Table of Contents](#back)"
   ]
  },
  {
   "cell_type": "markdown",
   "metadata": {},
   "source": [
    "## Importing Libraries and Opening Data Files"
   ]
  },
  {
   "cell_type": "code",
   "execution_count": null,
   "metadata": {},
   "outputs": [],
   "source": [
    "# Importing the needed libraries for this assignment\n",
    "import pandas as pd\n",
    "import numpy as np\n",
    "from matplotlib import pyplot as plt\n",
    "import seaborn as sns"
   ]
  },
  {
   "cell_type": "code",
   "execution_count": 2,
   "metadata": {},
   "outputs": [],
   "source": [
    "# Importing file for assignment\n",
    "try:\n",
    "    df = pd.read_csv('shopping_behavior_updated.csv', sep=',')\n",
    "except:\n",
    "    df = pd.read_csv('/datasets/shopping_behavior_updated.csv', sep=',')"
   ]
  },
  {
   "cell_type": "markdown",
   "metadata": {},
   "source": [
    "[Back to Table of Contents](#back)"
   ]
  },
  {
   "cell_type": "markdown",
   "metadata": {},
   "source": [
    "## Data Wrangling"
   ]
  },
  {
   "cell_type": "code",
   "execution_count": 3,
   "metadata": {},
   "outputs": [
    {
     "name": "stdout",
     "output_type": "stream",
     "text": [
      "<class 'pandas.core.frame.DataFrame'>\n",
      "RangeIndex: 3900 entries, 0 to 3899\n",
      "Data columns (total 18 columns):\n",
      " #   Column                  Non-Null Count  Dtype  \n",
      "---  ------                  --------------  -----  \n",
      " 0   Customer ID             3900 non-null   int64  \n",
      " 1   Age                     3900 non-null   int64  \n",
      " 2   Gender                  3900 non-null   object \n",
      " 3   Item Purchased          3900 non-null   object \n",
      " 4   Category                3900 non-null   object \n",
      " 5   Purchase Amount (USD)   3900 non-null   int64  \n",
      " 6   Location                3900 non-null   object \n",
      " 7   Size                    3900 non-null   object \n",
      " 8   Color                   3900 non-null   object \n",
      " 9   Season                  3900 non-null   object \n",
      " 10  Review Rating           3900 non-null   float64\n",
      " 11  Subscription Status     3900 non-null   object \n",
      " 12  Shipping Type           3900 non-null   object \n",
      " 13  Discount Applied        3900 non-null   object \n",
      " 14  Promo Code Used         3900 non-null   object \n",
      " 15  Previous Purchases      3900 non-null   int64  \n",
      " 16  Payment Method          3900 non-null   object \n",
      " 17  Frequency of Purchases  3900 non-null   object \n",
      "dtypes: float64(1), int64(4), object(13)\n",
      "memory usage: 548.6+ KB\n"
     ]
    },
    {
     "data": {
      "text/html": [
       "<div>\n",
       "<style scoped>\n",
       "    .dataframe tbody tr th:only-of-type {\n",
       "        vertical-align: middle;\n",
       "    }\n",
       "\n",
       "    .dataframe tbody tr th {\n",
       "        vertical-align: top;\n",
       "    }\n",
       "\n",
       "    .dataframe thead th {\n",
       "        text-align: right;\n",
       "    }\n",
       "</style>\n",
       "<table border=\"1\" class=\"dataframe\">\n",
       "  <thead>\n",
       "    <tr style=\"text-align: right;\">\n",
       "      <th></th>\n",
       "      <th>Customer ID</th>\n",
       "      <th>Age</th>\n",
       "      <th>Gender</th>\n",
       "      <th>Item Purchased</th>\n",
       "      <th>Category</th>\n",
       "      <th>Purchase Amount (USD)</th>\n",
       "      <th>Location</th>\n",
       "      <th>Size</th>\n",
       "      <th>Color</th>\n",
       "      <th>Season</th>\n",
       "      <th>Review Rating</th>\n",
       "      <th>Subscription Status</th>\n",
       "      <th>Shipping Type</th>\n",
       "      <th>Discount Applied</th>\n",
       "      <th>Promo Code Used</th>\n",
       "      <th>Previous Purchases</th>\n",
       "      <th>Payment Method</th>\n",
       "      <th>Frequency of Purchases</th>\n",
       "    </tr>\n",
       "  </thead>\n",
       "  <tbody>\n",
       "    <tr>\n",
       "      <th>0</th>\n",
       "      <td>1</td>\n",
       "      <td>55</td>\n",
       "      <td>Male</td>\n",
       "      <td>Blouse</td>\n",
       "      <td>Clothing</td>\n",
       "      <td>53</td>\n",
       "      <td>Kentucky</td>\n",
       "      <td>L</td>\n",
       "      <td>Gray</td>\n",
       "      <td>Winter</td>\n",
       "      <td>3.1</td>\n",
       "      <td>Yes</td>\n",
       "      <td>Express</td>\n",
       "      <td>Yes</td>\n",
       "      <td>Yes</td>\n",
       "      <td>14</td>\n",
       "      <td>Venmo</td>\n",
       "      <td>Fortnightly</td>\n",
       "    </tr>\n",
       "    <tr>\n",
       "      <th>1</th>\n",
       "      <td>2</td>\n",
       "      <td>19</td>\n",
       "      <td>Male</td>\n",
       "      <td>Sweater</td>\n",
       "      <td>Clothing</td>\n",
       "      <td>64</td>\n",
       "      <td>Maine</td>\n",
       "      <td>L</td>\n",
       "      <td>Maroon</td>\n",
       "      <td>Winter</td>\n",
       "      <td>3.1</td>\n",
       "      <td>Yes</td>\n",
       "      <td>Express</td>\n",
       "      <td>Yes</td>\n",
       "      <td>Yes</td>\n",
       "      <td>2</td>\n",
       "      <td>Cash</td>\n",
       "      <td>Fortnightly</td>\n",
       "    </tr>\n",
       "    <tr>\n",
       "      <th>2</th>\n",
       "      <td>3</td>\n",
       "      <td>50</td>\n",
       "      <td>Male</td>\n",
       "      <td>Jeans</td>\n",
       "      <td>Clothing</td>\n",
       "      <td>73</td>\n",
       "      <td>Massachusetts</td>\n",
       "      <td>S</td>\n",
       "      <td>Maroon</td>\n",
       "      <td>Spring</td>\n",
       "      <td>3.1</td>\n",
       "      <td>Yes</td>\n",
       "      <td>Free Shipping</td>\n",
       "      <td>Yes</td>\n",
       "      <td>Yes</td>\n",
       "      <td>23</td>\n",
       "      <td>Credit Card</td>\n",
       "      <td>Weekly</td>\n",
       "    </tr>\n",
       "    <tr>\n",
       "      <th>3</th>\n",
       "      <td>4</td>\n",
       "      <td>21</td>\n",
       "      <td>Male</td>\n",
       "      <td>Sandals</td>\n",
       "      <td>Footwear</td>\n",
       "      <td>90</td>\n",
       "      <td>Rhode Island</td>\n",
       "      <td>M</td>\n",
       "      <td>Maroon</td>\n",
       "      <td>Spring</td>\n",
       "      <td>3.5</td>\n",
       "      <td>Yes</td>\n",
       "      <td>Next Day Air</td>\n",
       "      <td>Yes</td>\n",
       "      <td>Yes</td>\n",
       "      <td>49</td>\n",
       "      <td>PayPal</td>\n",
       "      <td>Weekly</td>\n",
       "    </tr>\n",
       "    <tr>\n",
       "      <th>4</th>\n",
       "      <td>5</td>\n",
       "      <td>45</td>\n",
       "      <td>Male</td>\n",
       "      <td>Blouse</td>\n",
       "      <td>Clothing</td>\n",
       "      <td>49</td>\n",
       "      <td>Oregon</td>\n",
       "      <td>M</td>\n",
       "      <td>Turquoise</td>\n",
       "      <td>Spring</td>\n",
       "      <td>2.7</td>\n",
       "      <td>Yes</td>\n",
       "      <td>Free Shipping</td>\n",
       "      <td>Yes</td>\n",
       "      <td>Yes</td>\n",
       "      <td>31</td>\n",
       "      <td>PayPal</td>\n",
       "      <td>Annually</td>\n",
       "    </tr>\n",
       "  </tbody>\n",
       "</table>\n",
       "</div>"
      ],
      "text/plain": [
       "   Customer ID  Age Gender Item Purchased  Category  Purchase Amount (USD)  \\\n",
       "0            1   55   Male         Blouse  Clothing                     53   \n",
       "1            2   19   Male        Sweater  Clothing                     64   \n",
       "2            3   50   Male          Jeans  Clothing                     73   \n",
       "3            4   21   Male        Sandals  Footwear                     90   \n",
       "4            5   45   Male         Blouse  Clothing                     49   \n",
       "\n",
       "        Location Size      Color  Season  Review Rating Subscription Status  \\\n",
       "0       Kentucky    L       Gray  Winter            3.1                 Yes   \n",
       "1          Maine    L     Maroon  Winter            3.1                 Yes   \n",
       "2  Massachusetts    S     Maroon  Spring            3.1                 Yes   \n",
       "3   Rhode Island    M     Maroon  Spring            3.5                 Yes   \n",
       "4         Oregon    M  Turquoise  Spring            2.7                 Yes   \n",
       "\n",
       "   Shipping Type Discount Applied Promo Code Used  Previous Purchases  \\\n",
       "0        Express              Yes             Yes                  14   \n",
       "1        Express              Yes             Yes                   2   \n",
       "2  Free Shipping              Yes             Yes                  23   \n",
       "3   Next Day Air              Yes             Yes                  49   \n",
       "4  Free Shipping              Yes             Yes                  31   \n",
       "\n",
       "  Payment Method Frequency of Purchases  \n",
       "0          Venmo            Fortnightly  \n",
       "1           Cash            Fortnightly  \n",
       "2    Credit Card                 Weekly  \n",
       "3         PayPal                 Weekly  \n",
       "4         PayPal               Annually  "
      ]
     },
     "execution_count": 3,
     "metadata": {},
     "output_type": "execute_result"
    }
   ],
   "source": [
    "# Getting general information about the dataset\n",
    "df.info()\n",
    "df.head()"
   ]
  },
  {
   "cell_type": "markdown",
   "metadata": {},
   "source": [
    "### Duplicates"
   ]
  },
  {
   "cell_type": "code",
   "execution_count": 4,
   "metadata": {},
   "outputs": [
    {
     "data": {
      "text/plain": [
       "0"
      ]
     },
     "execution_count": 4,
     "metadata": {},
     "output_type": "execute_result"
    }
   ],
   "source": [
    "# Checking for duplicates\n",
    "df.duplicated().sum()"
   ]
  },
  {
   "cell_type": "markdown",
   "metadata": {},
   "source": [
    "[Back to Table of Contents](#back)"
   ]
  },
  {
   "cell_type": "markdown",
   "metadata": {},
   "source": [
    "### Missing Values"
   ]
  },
  {
   "cell_type": "code",
   "execution_count": 5,
   "metadata": {},
   "outputs": [
    {
     "data": {
      "text/plain": [
       "Customer ID               0\n",
       "Age                       0\n",
       "Gender                    0\n",
       "Item Purchased            0\n",
       "Category                  0\n",
       "Purchase Amount (USD)     0\n",
       "Location                  0\n",
       "Size                      0\n",
       "Color                     0\n",
       "Season                    0\n",
       "Review Rating             0\n",
       "Subscription Status       0\n",
       "Shipping Type             0\n",
       "Discount Applied          0\n",
       "Promo Code Used           0\n",
       "Previous Purchases        0\n",
       "Payment Method            0\n",
       "Frequency of Purchases    0\n",
       "dtype: int64"
      ]
     },
     "execution_count": 5,
     "metadata": {},
     "output_type": "execute_result"
    }
   ],
   "source": [
    "# Checking for null values\n",
    "df.isna().sum()"
   ]
  },
  {
   "cell_type": "markdown",
   "metadata": {},
   "source": [
    "[Back to Table of Contents](#back)"
   ]
  },
  {
   "cell_type": "markdown",
   "metadata": {},
   "source": [
    "### Formatting"
   ]
  },
  {
   "cell_type": "code",
   "execution_count": 6,
   "metadata": {},
   "outputs": [
    {
     "name": "stdout",
     "output_type": "stream",
     "text": [
      "<class 'pandas.core.frame.DataFrame'>\n",
      "RangeIndex: 3900 entries, 0 to 3899\n",
      "Data columns (total 18 columns):\n",
      " #   Column                  Non-Null Count  Dtype  \n",
      "---  ------                  --------------  -----  \n",
      " 0   Customer ID             3900 non-null   int64  \n",
      " 1   Age                     3900 non-null   int64  \n",
      " 2   Gender                  3900 non-null   object \n",
      " 3   Item Purchased          3900 non-null   object \n",
      " 4   Category                3900 non-null   object \n",
      " 5   Purchase Amount (USD)   3900 non-null   int64  \n",
      " 6   Location                3900 non-null   object \n",
      " 7   Size                    3900 non-null   object \n",
      " 8   Color                   3900 non-null   object \n",
      " 9   Season                  3900 non-null   object \n",
      " 10  Review Rating           3900 non-null   float64\n",
      " 11  Subscription Status     3900 non-null   object \n",
      " 12  Shipping Type           3900 non-null   object \n",
      " 13  Discount Applied        3900 non-null   object \n",
      " 14  Promo Code Used         3900 non-null   object \n",
      " 15  Previous Purchases      3900 non-null   int64  \n",
      " 16  Payment Method          3900 non-null   object \n",
      " 17  Frequency of Purchases  3900 non-null   object \n",
      "dtypes: float64(1), int64(4), object(13)\n",
      "memory usage: 548.6+ KB\n"
     ]
    },
    {
     "data": {
      "text/html": [
       "<div>\n",
       "<style scoped>\n",
       "    .dataframe tbody tr th:only-of-type {\n",
       "        vertical-align: middle;\n",
       "    }\n",
       "\n",
       "    .dataframe tbody tr th {\n",
       "        vertical-align: top;\n",
       "    }\n",
       "\n",
       "    .dataframe thead th {\n",
       "        text-align: right;\n",
       "    }\n",
       "</style>\n",
       "<table border=\"1\" class=\"dataframe\">\n",
       "  <thead>\n",
       "    <tr style=\"text-align: right;\">\n",
       "      <th></th>\n",
       "      <th>Customer ID</th>\n",
       "      <th>Age</th>\n",
       "      <th>Gender</th>\n",
       "      <th>Item Purchased</th>\n",
       "      <th>Category</th>\n",
       "      <th>Purchase Amount (USD)</th>\n",
       "      <th>Location</th>\n",
       "      <th>Size</th>\n",
       "      <th>Color</th>\n",
       "      <th>Season</th>\n",
       "      <th>Review Rating</th>\n",
       "      <th>Subscription Status</th>\n",
       "      <th>Shipping Type</th>\n",
       "      <th>Discount Applied</th>\n",
       "      <th>Promo Code Used</th>\n",
       "      <th>Previous Purchases</th>\n",
       "      <th>Payment Method</th>\n",
       "      <th>Frequency of Purchases</th>\n",
       "    </tr>\n",
       "  </thead>\n",
       "  <tbody>\n",
       "    <tr>\n",
       "      <th>0</th>\n",
       "      <td>1</td>\n",
       "      <td>55</td>\n",
       "      <td>Male</td>\n",
       "      <td>Blouse</td>\n",
       "      <td>Clothing</td>\n",
       "      <td>53</td>\n",
       "      <td>Kentucky</td>\n",
       "      <td>L</td>\n",
       "      <td>Gray</td>\n",
       "      <td>Winter</td>\n",
       "      <td>3.1</td>\n",
       "      <td>Yes</td>\n",
       "      <td>Express</td>\n",
       "      <td>Yes</td>\n",
       "      <td>Yes</td>\n",
       "      <td>14</td>\n",
       "      <td>Venmo</td>\n",
       "      <td>Fortnightly</td>\n",
       "    </tr>\n",
       "    <tr>\n",
       "      <th>1</th>\n",
       "      <td>2</td>\n",
       "      <td>19</td>\n",
       "      <td>Male</td>\n",
       "      <td>Sweater</td>\n",
       "      <td>Clothing</td>\n",
       "      <td>64</td>\n",
       "      <td>Maine</td>\n",
       "      <td>L</td>\n",
       "      <td>Maroon</td>\n",
       "      <td>Winter</td>\n",
       "      <td>3.1</td>\n",
       "      <td>Yes</td>\n",
       "      <td>Express</td>\n",
       "      <td>Yes</td>\n",
       "      <td>Yes</td>\n",
       "      <td>2</td>\n",
       "      <td>Cash</td>\n",
       "      <td>Fortnightly</td>\n",
       "    </tr>\n",
       "    <tr>\n",
       "      <th>2</th>\n",
       "      <td>3</td>\n",
       "      <td>50</td>\n",
       "      <td>Male</td>\n",
       "      <td>Jeans</td>\n",
       "      <td>Clothing</td>\n",
       "      <td>73</td>\n",
       "      <td>Massachusetts</td>\n",
       "      <td>S</td>\n",
       "      <td>Maroon</td>\n",
       "      <td>Spring</td>\n",
       "      <td>3.1</td>\n",
       "      <td>Yes</td>\n",
       "      <td>Free Shipping</td>\n",
       "      <td>Yes</td>\n",
       "      <td>Yes</td>\n",
       "      <td>23</td>\n",
       "      <td>Credit Card</td>\n",
       "      <td>Weekly</td>\n",
       "    </tr>\n",
       "    <tr>\n",
       "      <th>3</th>\n",
       "      <td>4</td>\n",
       "      <td>21</td>\n",
       "      <td>Male</td>\n",
       "      <td>Sandals</td>\n",
       "      <td>Footwear</td>\n",
       "      <td>90</td>\n",
       "      <td>Rhode Island</td>\n",
       "      <td>M</td>\n",
       "      <td>Maroon</td>\n",
       "      <td>Spring</td>\n",
       "      <td>3.5</td>\n",
       "      <td>Yes</td>\n",
       "      <td>Next Day Air</td>\n",
       "      <td>Yes</td>\n",
       "      <td>Yes</td>\n",
       "      <td>49</td>\n",
       "      <td>PayPal</td>\n",
       "      <td>Weekly</td>\n",
       "    </tr>\n",
       "    <tr>\n",
       "      <th>4</th>\n",
       "      <td>5</td>\n",
       "      <td>45</td>\n",
       "      <td>Male</td>\n",
       "      <td>Blouse</td>\n",
       "      <td>Clothing</td>\n",
       "      <td>49</td>\n",
       "      <td>Oregon</td>\n",
       "      <td>M</td>\n",
       "      <td>Turquoise</td>\n",
       "      <td>Spring</td>\n",
       "      <td>2.7</td>\n",
       "      <td>Yes</td>\n",
       "      <td>Free Shipping</td>\n",
       "      <td>Yes</td>\n",
       "      <td>Yes</td>\n",
       "      <td>31</td>\n",
       "      <td>PayPal</td>\n",
       "      <td>Annually</td>\n",
       "    </tr>\n",
       "  </tbody>\n",
       "</table>\n",
       "</div>"
      ],
      "text/plain": [
       "   Customer ID  Age Gender Item Purchased  Category  Purchase Amount (USD)  \\\n",
       "0            1   55   Male         Blouse  Clothing                     53   \n",
       "1            2   19   Male        Sweater  Clothing                     64   \n",
       "2            3   50   Male          Jeans  Clothing                     73   \n",
       "3            4   21   Male        Sandals  Footwear                     90   \n",
       "4            5   45   Male         Blouse  Clothing                     49   \n",
       "\n",
       "        Location Size      Color  Season  Review Rating Subscription Status  \\\n",
       "0       Kentucky    L       Gray  Winter            3.1                 Yes   \n",
       "1          Maine    L     Maroon  Winter            3.1                 Yes   \n",
       "2  Massachusetts    S     Maroon  Spring            3.1                 Yes   \n",
       "3   Rhode Island    M     Maroon  Spring            3.5                 Yes   \n",
       "4         Oregon    M  Turquoise  Spring            2.7                 Yes   \n",
       "\n",
       "   Shipping Type Discount Applied Promo Code Used  Previous Purchases  \\\n",
       "0        Express              Yes             Yes                  14   \n",
       "1        Express              Yes             Yes                   2   \n",
       "2  Free Shipping              Yes             Yes                  23   \n",
       "3   Next Day Air              Yes             Yes                  49   \n",
       "4  Free Shipping              Yes             Yes                  31   \n",
       "\n",
       "  Payment Method Frequency of Purchases  \n",
       "0          Venmo            Fortnightly  \n",
       "1           Cash            Fortnightly  \n",
       "2    Credit Card                 Weekly  \n",
       "3         PayPal                 Weekly  \n",
       "4         PayPal               Annually  "
      ]
     },
     "execution_count": 6,
     "metadata": {},
     "output_type": "execute_result"
    }
   ],
   "source": [
    "# Getting general information about the dataset\n",
    "df.info()\n",
    "df.head()"
   ]
  },
  {
   "cell_type": "code",
   "execution_count": 7,
   "metadata": {},
   "outputs": [
    {
     "data": {
      "text/plain": [
       "Index(['Customer ID', 'Age', 'Gender', 'Item Purchased', 'Category',\n",
       "       'Purchase Amount (USD)', 'Location', 'Size', 'Color', 'Season',\n",
       "       'Review Rating', 'Subscription Status', 'Shipping Type',\n",
       "       'Discount Applied', 'Promo Code Used', 'Previous Purchases',\n",
       "       'Payment Method', 'Frequency of Purchases'],\n",
       "      dtype='object')"
      ]
     },
     "execution_count": 7,
     "metadata": {},
     "output_type": "execute_result"
    }
   ],
   "source": [
    "#checking for snakecase format\n",
    "df.columns"
   ]
  },
  {
   "cell_type": "code",
   "execution_count": 8,
   "metadata": {},
   "outputs": [
    {
     "data": {
      "text/plain": [
       "Index(['customer_id', 'age', 'gender', 'item_purchased', 'category',\n",
       "       'usd_total', 'location', 'size', 'color', 'season', 'customer_rating',\n",
       "       'sub_status', 'shipping_type', 'discount_applied', 'promo_code_applied',\n",
       "       'previous_orders', 'payment_method', 'order_freq'],\n",
       "      dtype='object')"
      ]
     },
     "execution_count": 8,
     "metadata": {},
     "output_type": "execute_result"
    }
   ],
   "source": [
    "# Renaming column names to snake_case format\n",
    "df = df.rename(columns={'Customer ID': 'customer_id',\n",
    "                        'Age': 'age',\n",
    "                        'Gender': 'gender',\n",
    "                        'Item Purchased': 'item_purchased',\n",
    "                        'Category': 'category',\n",
    "                        'Purchase Amount (USD)': 'usd_total',\n",
    "                        'Location': 'location',\n",
    "                        'Size': 'size',\n",
    "                        'Color': 'color',\n",
    "                        'Season': 'season',\n",
    "                        'Review Rating': 'customer_rating',\n",
    "                        'Subscription Status': 'sub_status',\n",
    "                        'Shipping Type': 'shipping_type',\n",
    "                        'Discount Applied': 'discount_applied',\n",
    "                        'Promo Code Used': 'promo_code_applied',\n",
    "                        'Previous Purchases': 'previous_orders',\n",
    "                        'Payment Method': 'payment_method',\n",
    "                        'Frequency of Purchases': 'order_freq'})\n",
    "df.columns"
   ]
  },
  {
   "cell_type": "code",
   "execution_count": 9,
   "metadata": {},
   "outputs": [
    {
     "name": "stdout",
     "output_type": "stream",
     "text": [
      "<class 'pandas.core.frame.DataFrame'>\n",
      "RangeIndex: 3900 entries, 0 to 3899\n",
      "Data columns (total 18 columns):\n",
      " #   Column              Non-Null Count  Dtype   \n",
      "---  ------              --------------  -----   \n",
      " 0   customer_id         3900 non-null   int64   \n",
      " 1   age                 3900 non-null   int64   \n",
      " 2   gender              3900 non-null   category\n",
      " 3   item_purchased      3900 non-null   category\n",
      " 4   category            3900 non-null   category\n",
      " 5   usd_total           3900 non-null   int64   \n",
      " 6   location            3900 non-null   category\n",
      " 7   size                3900 non-null   category\n",
      " 8   color               3900 non-null   category\n",
      " 9   season              3900 non-null   category\n",
      " 10  customer_rating     3900 non-null   float64 \n",
      " 11  sub_status          3900 non-null   category\n",
      " 12  shipping_type       3900 non-null   category\n",
      " 13  discount_applied    3900 non-null   category\n",
      " 14  promo_code_applied  3900 non-null   category\n",
      " 15  previous_orders     3900 non-null   int64   \n",
      " 16  payment_method      3900 non-null   category\n",
      " 17  order_freq          3900 non-null   category\n",
      "dtypes: category(13), float64(1), int64(4)\n",
      "memory usage: 207.8 KB\n"
     ]
    },
    {
     "data": {
      "text/html": [
       "<div>\n",
       "<style scoped>\n",
       "    .dataframe tbody tr th:only-of-type {\n",
       "        vertical-align: middle;\n",
       "    }\n",
       "\n",
       "    .dataframe tbody tr th {\n",
       "        vertical-align: top;\n",
       "    }\n",
       "\n",
       "    .dataframe thead th {\n",
       "        text-align: right;\n",
       "    }\n",
       "</style>\n",
       "<table border=\"1\" class=\"dataframe\">\n",
       "  <thead>\n",
       "    <tr style=\"text-align: right;\">\n",
       "      <th></th>\n",
       "      <th>customer_id</th>\n",
       "      <th>age</th>\n",
       "      <th>gender</th>\n",
       "      <th>item_purchased</th>\n",
       "      <th>category</th>\n",
       "      <th>usd_total</th>\n",
       "      <th>location</th>\n",
       "      <th>size</th>\n",
       "      <th>color</th>\n",
       "      <th>season</th>\n",
       "      <th>customer_rating</th>\n",
       "      <th>sub_status</th>\n",
       "      <th>shipping_type</th>\n",
       "      <th>discount_applied</th>\n",
       "      <th>promo_code_applied</th>\n",
       "      <th>previous_orders</th>\n",
       "      <th>payment_method</th>\n",
       "      <th>order_freq</th>\n",
       "    </tr>\n",
       "  </thead>\n",
       "  <tbody>\n",
       "    <tr>\n",
       "      <th>0</th>\n",
       "      <td>1</td>\n",
       "      <td>55</td>\n",
       "      <td>male</td>\n",
       "      <td>blouse</td>\n",
       "      <td>clothing</td>\n",
       "      <td>53</td>\n",
       "      <td>kentucky</td>\n",
       "      <td>l</td>\n",
       "      <td>gray</td>\n",
       "      <td>winter</td>\n",
       "      <td>3.1</td>\n",
       "      <td>yes</td>\n",
       "      <td>express</td>\n",
       "      <td>yes</td>\n",
       "      <td>yes</td>\n",
       "      <td>14</td>\n",
       "      <td>venmo</td>\n",
       "      <td>fortnightly</td>\n",
       "    </tr>\n",
       "    <tr>\n",
       "      <th>1</th>\n",
       "      <td>2</td>\n",
       "      <td>19</td>\n",
       "      <td>male</td>\n",
       "      <td>sweater</td>\n",
       "      <td>clothing</td>\n",
       "      <td>64</td>\n",
       "      <td>maine</td>\n",
       "      <td>l</td>\n",
       "      <td>maroon</td>\n",
       "      <td>winter</td>\n",
       "      <td>3.1</td>\n",
       "      <td>yes</td>\n",
       "      <td>express</td>\n",
       "      <td>yes</td>\n",
       "      <td>yes</td>\n",
       "      <td>2</td>\n",
       "      <td>cash</td>\n",
       "      <td>fortnightly</td>\n",
       "    </tr>\n",
       "    <tr>\n",
       "      <th>2</th>\n",
       "      <td>3</td>\n",
       "      <td>50</td>\n",
       "      <td>male</td>\n",
       "      <td>jeans</td>\n",
       "      <td>clothing</td>\n",
       "      <td>73</td>\n",
       "      <td>massachusetts</td>\n",
       "      <td>s</td>\n",
       "      <td>maroon</td>\n",
       "      <td>spring</td>\n",
       "      <td>3.1</td>\n",
       "      <td>yes</td>\n",
       "      <td>free_shipping</td>\n",
       "      <td>yes</td>\n",
       "      <td>yes</td>\n",
       "      <td>23</td>\n",
       "      <td>credit_card</td>\n",
       "      <td>weekly</td>\n",
       "    </tr>\n",
       "    <tr>\n",
       "      <th>3</th>\n",
       "      <td>4</td>\n",
       "      <td>21</td>\n",
       "      <td>male</td>\n",
       "      <td>sandals</td>\n",
       "      <td>footwear</td>\n",
       "      <td>90</td>\n",
       "      <td>rhode_island</td>\n",
       "      <td>m</td>\n",
       "      <td>maroon</td>\n",
       "      <td>spring</td>\n",
       "      <td>3.5</td>\n",
       "      <td>yes</td>\n",
       "      <td>next_day_air</td>\n",
       "      <td>yes</td>\n",
       "      <td>yes</td>\n",
       "      <td>49</td>\n",
       "      <td>paypal</td>\n",
       "      <td>weekly</td>\n",
       "    </tr>\n",
       "    <tr>\n",
       "      <th>4</th>\n",
       "      <td>5</td>\n",
       "      <td>45</td>\n",
       "      <td>male</td>\n",
       "      <td>blouse</td>\n",
       "      <td>clothing</td>\n",
       "      <td>49</td>\n",
       "      <td>oregon</td>\n",
       "      <td>m</td>\n",
       "      <td>turquoise</td>\n",
       "      <td>spring</td>\n",
       "      <td>2.7</td>\n",
       "      <td>yes</td>\n",
       "      <td>free_shipping</td>\n",
       "      <td>yes</td>\n",
       "      <td>yes</td>\n",
       "      <td>31</td>\n",
       "      <td>paypal</td>\n",
       "      <td>annually</td>\n",
       "    </tr>\n",
       "  </tbody>\n",
       "</table>\n",
       "</div>"
      ],
      "text/plain": [
       "   customer_id  age gender item_purchased  category  usd_total       location  \\\n",
       "0            1   55   male         blouse  clothing         53       kentucky   \n",
       "1            2   19   male        sweater  clothing         64          maine   \n",
       "2            3   50   male          jeans  clothing         73  massachusetts   \n",
       "3            4   21   male        sandals  footwear         90   rhode_island   \n",
       "4            5   45   male         blouse  clothing         49         oregon   \n",
       "\n",
       "  size      color  season  customer_rating sub_status  shipping_type  \\\n",
       "0    l       gray  winter              3.1        yes        express   \n",
       "1    l     maroon  winter              3.1        yes        express   \n",
       "2    s     maroon  spring              3.1        yes  free_shipping   \n",
       "3    m     maroon  spring              3.5        yes   next_day_air   \n",
       "4    m  turquoise  spring              2.7        yes  free_shipping   \n",
       "\n",
       "  discount_applied promo_code_applied  previous_orders payment_method  \\\n",
       "0              yes                yes               14          venmo   \n",
       "1              yes                yes                2           cash   \n",
       "2              yes                yes               23    credit_card   \n",
       "3              yes                yes               49         paypal   \n",
       "4              yes                yes               31         paypal   \n",
       "\n",
       "    order_freq  \n",
       "0  fortnightly  \n",
       "1  fortnightly  \n",
       "2       weekly  \n",
       "3       weekly  \n",
       "4     annually  "
      ]
     },
     "execution_count": 9,
     "metadata": {},
     "output_type": "execute_result"
    }
   ],
   "source": [
    "# Converting all cell values into snakecase format and removing all nonlegible characters\n",
    "for column in df.columns:\n",
    "    if df[column].dtype == 'object':\n",
    "        df[column] = df[column].str.lower()\n",
    "        df[column] = df[column].str.strip()\n",
    "        df[column] = df[column].str.rstrip()\n",
    "        df[column] = df[column].str.replace(' ', '_')\n",
    "        df[column] = df[column].str.replace('[^a-z0-9_]', '')\n",
    "        df[column] = df[column].astype('category')\n",
    "df.info()\n",
    "df.head()"
   ]
  },
  {
   "cell_type": "markdown",
   "metadata": {},
   "source": [
    "Observation:\n",
    "\n",
    "- By converting string columns to snake_case and refining table data types, data usage has dropped 62.1%, from over 548.6 KB at the start to 207.8 KB. This optimization process will help reduce data costs and enhance performance as more data is added in the future."
   ]
  },
  {
   "cell_type": "code",
   "execution_count": 10,
   "metadata": {},
   "outputs": [
    {
     "name": "stdout",
     "output_type": "stream",
     "text": [
      "     discount_applied promo_code_applied\n",
      "3356               no                 no\n",
      "2041               no                 no\n",
      "3413               no                 no\n",
      "2776               no                 no\n",
      "1614              yes                yes\n",
      "1312              yes                yes\n",
      "1577              yes                yes\n",
      "983               yes                yes\n",
      "2593               no                 no\n",
      "2003               no                 no\n",
      "discount_applied\n",
      "no     2223\n",
      "yes    1677\n",
      "Name: count, dtype: int64\n",
      "promo_code_applied\n",
      "no     2223\n",
      "yes    1677\n",
      "Name: count, dtype: int64\n"
     ]
    }
   ],
   "source": [
    "# The ‘discount_applied’ and ‘promo_code_applied’ columns contain duplicate information, so one can be removed\n",
    "discount = df[['discount_applied', 'promo_code_applied']]\n",
    "\n",
    "print(discount.sample(10))\n",
    "print(df['discount_applied'].value_counts())\n",
    "print(df['promo_code_applied'].value_counts())"
   ]
  },
  {
   "cell_type": "markdown",
   "metadata": {},
   "source": [
    "Observation:\n",
    "\n",
    "- It appears the promo_code_applied column is a redundant duplicate of the discount_applied column, and can be removed to further reduce data usage"
   ]
  },
  {
   "cell_type": "code",
   "execution_count": 11,
   "metadata": {},
   "outputs": [
    {
     "data": {
      "text/plain": [
       "['express', 'free_shipping', 'next_day_air', 'standard', '2-day_shipping', 'store_pickup']\n",
       "Categories (6, object): ['2-day_shipping', 'express', 'free_shipping', 'next_day_air', 'standard', 'store_pickup']"
      ]
     },
     "execution_count": 11,
     "metadata": {},
     "output_type": "execute_result"
    }
   ],
   "source": [
    "# Looking at the different shipping types it can be condensed into fewer unique values to simplify the analysis\n",
    "df['shipping_type'].unique()"
   ]
  },
  {
   "cell_type": "code",
   "execution_count": 12,
   "metadata": {},
   "outputs": [
    {
     "name": "stderr",
     "output_type": "stream",
     "text": [
      "C:\\Users\\jason\\AppData\\Local\\Temp\\ipykernel_1824\\1085959409.py:2: FutureWarning: The behavior of Series.replace (and DataFrame.replace) with CategoricalDtype is deprecated. In a future version, replace will only be used for cases that preserve the categories. To change the categories, use ser.cat.rename_categories instead.\n",
      "  df['shipping_type'] = df['shipping_type'].replace('express', 'paid_shipping').replace('next_day_air', 'paid_shipping').replace('standard', 'paid_shipping').replace('2-day_shipping', 'paid_shipping').replace('store_pickup', 'free_shipping')\n"
     ]
    },
    {
     "data": {
      "text/plain": [
       "['paid_shipping', 'free_shipping']\n",
       "Categories (2, object): ['paid_shipping', 'free_shipping']"
      ]
     },
     "execution_count": 12,
     "metadata": {},
     "output_type": "execute_result"
    }
   ],
   "source": [
    "# Replacing shipping types to paid or free shipping\n",
    "df['shipping_type'] = df['shipping_type'].replace('express', 'paid_shipping').replace('next_day_air', 'paid_shipping').replace('standard', 'paid_shipping').replace('2-day_shipping', 'paid_shipping').replace('store_pickup', 'free_shipping')\n",
    "df['shipping_type'].unique()"
   ]
  },
  {
   "cell_type": "code",
   "execution_count": 13,
   "metadata": {},
   "outputs": [
    {
     "data": {
      "text/plain": [
       "['venmo', 'cash', 'credit_card', 'paypal', 'bank_transfer', 'debit_card']\n",
       "Categories (6, object): ['bank_transfer', 'cash', 'credit_card', 'debit_card', 'paypal', 'venmo']"
      ]
     },
     "execution_count": 13,
     "metadata": {},
     "output_type": "execute_result"
    }
   ],
   "source": [
    "# Looking at the different payment methods can be condensed into fewer unique values to simplify the analysis\n",
    "df['payment_method'].unique()"
   ]
  },
  {
   "cell_type": "code",
   "execution_count": 14,
   "metadata": {},
   "outputs": [
    {
     "name": "stderr",
     "output_type": "stream",
     "text": [
      "C:\\Users\\jason\\AppData\\Local\\Temp\\ipykernel_1824\\3231755079.py:2: FutureWarning: The behavior of Series.replace (and DataFrame.replace) with CategoricalDtype is deprecated. In a future version, replace will only be used for cases that preserve the categories. To change the categories, use ser.cat.rename_categories instead.\n",
      "  df['payment_method'] = df['payment_method'].replace('venmo', 'payment_service').replace('credit_card', 'credit_debit_card').replace('paypal', 'payment_service').replace('bank_transfer', 'cash').replace('debit_card', 'credit_debit_card')\n"
     ]
    },
    {
     "data": {
      "text/plain": [
       "['payment_service', 'cash', 'credit_debit_card']\n",
       "Categories (3, object): ['cash', 'credit_debit_card', 'payment_service']"
      ]
     },
     "execution_count": 14,
     "metadata": {},
     "output_type": "execute_result"
    }
   ],
   "source": [
    "# Replacing payment methods into the main payment categories\n",
    "df['payment_method'] = df['payment_method'].replace('venmo', 'payment_service').replace('credit_card', 'credit_debit_card').replace('paypal', 'payment_service').replace('bank_transfer', 'cash').replace('debit_card', 'credit_debit_card')\n",
    "df['payment_method'].unique()"
   ]
  },
  {
   "cell_type": "code",
   "execution_count": 15,
   "metadata": {},
   "outputs": [
    {
     "data": {
      "text/plain": [
       "['fortnightly', 'weekly', 'annually', 'quarterly', 'bi-weekly', 'monthly', 'every_3_months']\n",
       "Categories (7, object): ['annually', 'bi-weekly', 'every_3_months', 'fortnightly', 'monthly', 'quarterly', 'weekly']"
      ]
     },
     "execution_count": 15,
     "metadata": {},
     "output_type": "execute_result"
    }
   ],
   "source": [
    "# The current order frequency categories are somewhat unclear, so I will standardize them by \n",
    "# converting the timeframes into the total number of orders made in the past year, since they \n",
    "# all represent either repeat or first-time orders.\n",
    "df['order_freq'].unique()"
   ]
  },
  {
   "cell_type": "code",
   "execution_count": 16,
   "metadata": {},
   "outputs": [
    {
     "name": "stderr",
     "output_type": "stream",
     "text": [
      "C:\\Users\\jason\\AppData\\Local\\Temp\\ipykernel_1824\\369253285.py:2: FutureWarning: The behavior of Series.replace (and DataFrame.replace) with CategoricalDtype is deprecated. In a future version, replace will only be used for cases that preserve the categories. To change the categories, use ser.cat.rename_categories instead.\n",
      "  df['order_freq'] = df['order_freq'].replace('fortnightly', 26).replace('weekly', 52).replace('annually', 1).replace('quarterly', 4).replace('bi-weekly', 26).replace('monthly', 12).replace('every_3_months', 4)\n",
      "C:\\Users\\jason\\AppData\\Local\\Temp\\ipykernel_1824\\369253285.py:2: FutureWarning: Downcasting behavior in `replace` is deprecated and will be removed in a future version. To retain the old behavior, explicitly call `result.infer_objects(copy=False)`. To opt-in to the future behavior, set `pd.set_option('future.no_silent_downcasting', True)`\n",
      "  df['order_freq'] = df['order_freq'].replace('fortnightly', 26).replace('weekly', 52).replace('annually', 1).replace('quarterly', 4).replace('bi-weekly', 26).replace('monthly', 12).replace('every_3_months', 4)\n",
      "C:\\Users\\jason\\AppData\\Local\\Temp\\ipykernel_1824\\369253285.py:2: FutureWarning: The behavior of Series.replace (and DataFrame.replace) with CategoricalDtype is deprecated. In a future version, replace will only be used for cases that preserve the categories. To change the categories, use ser.cat.rename_categories instead.\n",
      "  df['order_freq'] = df['order_freq'].replace('fortnightly', 26).replace('weekly', 52).replace('annually', 1).replace('quarterly', 4).replace('bi-weekly', 26).replace('monthly', 12).replace('every_3_months', 4)\n"
     ]
    },
    {
     "data": {
      "text/plain": [
       "array([26, 52,  1,  4, 12])"
      ]
     },
     "execution_count": 16,
     "metadata": {},
     "output_type": "execute_result"
    }
   ],
   "source": [
    "# Replacing current unique values into total orders made in the past year\n",
    "df['order_freq'] = df['order_freq'].replace('fortnightly', 26).replace('weekly', 52).replace('annually', 1).replace('quarterly', 4).replace('bi-weekly', 26).replace('monthly', 12).replace('every_3_months', 4)\n",
    "# Since all values are now numeric, I will convert the column's data type to integer\n",
    "df['order_freq'] = df['order_freq'].astype('int')\n",
    "# Renaming the column\n",
    "df = df.rename(columns={'order_freq': 'total_orders_past_year'})\n",
    "df['total_orders_past_year'].unique()"
   ]
  },
  {
   "cell_type": "markdown",
   "metadata": {},
   "source": [
    "[Back to Table of Contents](#back)"
   ]
  },
  {
   "cell_type": "markdown",
   "metadata": {},
   "source": [
    "### Removing Irrelevant Data"
   ]
  },
  {
   "cell_type": "code",
   "execution_count": 17,
   "metadata": {},
   "outputs": [
    {
     "name": "stdout",
     "output_type": "stream",
     "text": [
      "<class 'pandas.core.frame.DataFrame'>\n",
      "RangeIndex: 3900 entries, 0 to 3899\n",
      "Data columns (total 17 columns):\n",
      " #   Column                  Non-Null Count  Dtype   \n",
      "---  ------                  --------------  -----   \n",
      " 0   customer_id             3900 non-null   int64   \n",
      " 1   age                     3900 non-null   int64   \n",
      " 2   gender                  3900 non-null   category\n",
      " 3   item_purchased          3900 non-null   category\n",
      " 4   category                3900 non-null   category\n",
      " 5   usd_total               3900 non-null   int64   \n",
      " 6   location                3900 non-null   category\n",
      " 7   size                    3900 non-null   category\n",
      " 8   color                   3900 non-null   category\n",
      " 9   season                  3900 non-null   category\n",
      " 10  customer_rating         3900 non-null   float64 \n",
      " 11  sub_status              3900 non-null   category\n",
      " 12  shipping_type           3900 non-null   category\n",
      " 13  discount_applied        3900 non-null   category\n",
      " 14  previous_orders         3900 non-null   int64   \n",
      " 15  payment_method          3900 non-null   category\n",
      " 16  total_orders_past_year  3900 non-null   int32   \n",
      "dtypes: category(11), float64(1), int32(1), int64(4)\n",
      "memory usage: 214.7 KB\n"
     ]
    }
   ],
   "source": [
    "# Removing columns we do not need for this analysis\n",
    "df = df.drop(columns=['promo_code_applied'])\n",
    "df.info()"
   ]
  },
  {
   "cell_type": "markdown",
   "metadata": {},
   "source": [
    "[Back to Table of Contents](#back)"
   ]
  },
  {
   "cell_type": "markdown",
   "metadata": {},
   "source": [
    "## Customer Segmentation Analysis"
   ]
  },
  {
   "cell_type": "code",
   "execution_count": 18,
   "metadata": {},
   "outputs": [
    {
     "name": "stdout",
     "output_type": "stream",
     "text": [
      "<class 'pandas.core.frame.DataFrame'>\n",
      "RangeIndex: 3900 entries, 0 to 3899\n",
      "Data columns (total 17 columns):\n",
      " #   Column                  Non-Null Count  Dtype   \n",
      "---  ------                  --------------  -----   \n",
      " 0   customer_id             3900 non-null   int64   \n",
      " 1   age                     3900 non-null   int64   \n",
      " 2   gender                  3900 non-null   category\n",
      " 3   item_purchased          3900 non-null   category\n",
      " 4   category                3900 non-null   category\n",
      " 5   usd_total               3900 non-null   int64   \n",
      " 6   location                3900 non-null   category\n",
      " 7   size                    3900 non-null   category\n",
      " 8   color                   3900 non-null   category\n",
      " 9   season                  3900 non-null   category\n",
      " 10  customer_rating         3900 non-null   float64 \n",
      " 11  sub_status              3900 non-null   category\n",
      " 12  shipping_type           3900 non-null   category\n",
      " 13  discount_applied        3900 non-null   category\n",
      " 14  previous_orders         3900 non-null   int64   \n",
      " 15  payment_method          3900 non-null   category\n",
      " 16  total_orders_past_year  3900 non-null   int32   \n",
      "dtypes: category(11), float64(1), int32(1), int64(4)\n",
      "memory usage: 214.7 KB\n"
     ]
    },
    {
     "data": {
      "text/html": [
       "<div>\n",
       "<style scoped>\n",
       "    .dataframe tbody tr th:only-of-type {\n",
       "        vertical-align: middle;\n",
       "    }\n",
       "\n",
       "    .dataframe tbody tr th {\n",
       "        vertical-align: top;\n",
       "    }\n",
       "\n",
       "    .dataframe thead th {\n",
       "        text-align: right;\n",
       "    }\n",
       "</style>\n",
       "<table border=\"1\" class=\"dataframe\">\n",
       "  <thead>\n",
       "    <tr style=\"text-align: right;\">\n",
       "      <th></th>\n",
       "      <th>customer_id</th>\n",
       "      <th>age</th>\n",
       "      <th>gender</th>\n",
       "      <th>item_purchased</th>\n",
       "      <th>category</th>\n",
       "      <th>usd_total</th>\n",
       "      <th>location</th>\n",
       "      <th>size</th>\n",
       "      <th>color</th>\n",
       "      <th>season</th>\n",
       "      <th>customer_rating</th>\n",
       "      <th>sub_status</th>\n",
       "      <th>shipping_type</th>\n",
       "      <th>discount_applied</th>\n",
       "      <th>previous_orders</th>\n",
       "      <th>payment_method</th>\n",
       "      <th>total_orders_past_year</th>\n",
       "    </tr>\n",
       "  </thead>\n",
       "  <tbody>\n",
       "    <tr>\n",
       "      <th>0</th>\n",
       "      <td>1</td>\n",
       "      <td>55</td>\n",
       "      <td>male</td>\n",
       "      <td>blouse</td>\n",
       "      <td>clothing</td>\n",
       "      <td>53</td>\n",
       "      <td>kentucky</td>\n",
       "      <td>l</td>\n",
       "      <td>gray</td>\n",
       "      <td>winter</td>\n",
       "      <td>3.1</td>\n",
       "      <td>yes</td>\n",
       "      <td>paid_shipping</td>\n",
       "      <td>yes</td>\n",
       "      <td>14</td>\n",
       "      <td>payment_service</td>\n",
       "      <td>26</td>\n",
       "    </tr>\n",
       "    <tr>\n",
       "      <th>1</th>\n",
       "      <td>2</td>\n",
       "      <td>19</td>\n",
       "      <td>male</td>\n",
       "      <td>sweater</td>\n",
       "      <td>clothing</td>\n",
       "      <td>64</td>\n",
       "      <td>maine</td>\n",
       "      <td>l</td>\n",
       "      <td>maroon</td>\n",
       "      <td>winter</td>\n",
       "      <td>3.1</td>\n",
       "      <td>yes</td>\n",
       "      <td>paid_shipping</td>\n",
       "      <td>yes</td>\n",
       "      <td>2</td>\n",
       "      <td>cash</td>\n",
       "      <td>26</td>\n",
       "    </tr>\n",
       "    <tr>\n",
       "      <th>2</th>\n",
       "      <td>3</td>\n",
       "      <td>50</td>\n",
       "      <td>male</td>\n",
       "      <td>jeans</td>\n",
       "      <td>clothing</td>\n",
       "      <td>73</td>\n",
       "      <td>massachusetts</td>\n",
       "      <td>s</td>\n",
       "      <td>maroon</td>\n",
       "      <td>spring</td>\n",
       "      <td>3.1</td>\n",
       "      <td>yes</td>\n",
       "      <td>free_shipping</td>\n",
       "      <td>yes</td>\n",
       "      <td>23</td>\n",
       "      <td>credit_debit_card</td>\n",
       "      <td>52</td>\n",
       "    </tr>\n",
       "    <tr>\n",
       "      <th>3</th>\n",
       "      <td>4</td>\n",
       "      <td>21</td>\n",
       "      <td>male</td>\n",
       "      <td>sandals</td>\n",
       "      <td>footwear</td>\n",
       "      <td>90</td>\n",
       "      <td>rhode_island</td>\n",
       "      <td>m</td>\n",
       "      <td>maroon</td>\n",
       "      <td>spring</td>\n",
       "      <td>3.5</td>\n",
       "      <td>yes</td>\n",
       "      <td>paid_shipping</td>\n",
       "      <td>yes</td>\n",
       "      <td>49</td>\n",
       "      <td>payment_service</td>\n",
       "      <td>52</td>\n",
       "    </tr>\n",
       "    <tr>\n",
       "      <th>4</th>\n",
       "      <td>5</td>\n",
       "      <td>45</td>\n",
       "      <td>male</td>\n",
       "      <td>blouse</td>\n",
       "      <td>clothing</td>\n",
       "      <td>49</td>\n",
       "      <td>oregon</td>\n",
       "      <td>m</td>\n",
       "      <td>turquoise</td>\n",
       "      <td>spring</td>\n",
       "      <td>2.7</td>\n",
       "      <td>yes</td>\n",
       "      <td>free_shipping</td>\n",
       "      <td>yes</td>\n",
       "      <td>31</td>\n",
       "      <td>payment_service</td>\n",
       "      <td>1</td>\n",
       "    </tr>\n",
       "  </tbody>\n",
       "</table>\n",
       "</div>"
      ],
      "text/plain": [
       "   customer_id  age gender item_purchased  category  usd_total       location  \\\n",
       "0            1   55   male         blouse  clothing         53       kentucky   \n",
       "1            2   19   male        sweater  clothing         64          maine   \n",
       "2            3   50   male          jeans  clothing         73  massachusetts   \n",
       "3            4   21   male        sandals  footwear         90   rhode_island   \n",
       "4            5   45   male         blouse  clothing         49         oregon   \n",
       "\n",
       "  size      color  season  customer_rating sub_status  shipping_type  \\\n",
       "0    l       gray  winter              3.1        yes  paid_shipping   \n",
       "1    l     maroon  winter              3.1        yes  paid_shipping   \n",
       "2    s     maroon  spring              3.1        yes  free_shipping   \n",
       "3    m     maroon  spring              3.5        yes  paid_shipping   \n",
       "4    m  turquoise  spring              2.7        yes  free_shipping   \n",
       "\n",
       "  discount_applied  previous_orders     payment_method  total_orders_past_year  \n",
       "0              yes               14    payment_service                      26  \n",
       "1              yes                2               cash                      26  \n",
       "2              yes               23  credit_debit_card                      52  \n",
       "3              yes               49    payment_service                      52  \n",
       "4              yes               31    payment_service                       1  "
      ]
     },
     "execution_count": 18,
     "metadata": {},
     "output_type": "execute_result"
    }
   ],
   "source": [
    "# Getting general information about the dataset\n",
    "df.info()\n",
    "df.head()"
   ]
  },
  {
   "cell_type": "markdown",
   "metadata": {},
   "source": [
    "### Demographic Segmentation\n",
    "\n",
    "#### 1. Who are the most valuable customer segments by demographics and spending?"
   ]
  },
  {
   "cell_type": "code",
   "execution_count": 19,
   "metadata": {},
   "outputs": [
    {
     "name": "stderr",
     "output_type": "stream",
     "text": [
      "C:\\Users\\jason\\AppData\\Local\\Temp\\ipykernel_1824\\3636089088.py:2: FutureWarning: The default of observed=False is deprecated and will be changed to True in a future version of pandas. Pass observed=False to retain current behavior or observed=True to adopt the future default and silence this warning.\n",
      "  gender_demo = df.groupby('gender').agg({'usd_total': 'sum', 'gender': 'count'})\n"
     ]
    },
    {
     "data": {
      "text/html": [
       "<div>\n",
       "<style scoped>\n",
       "    .dataframe tbody tr th:only-of-type {\n",
       "        vertical-align: middle;\n",
       "    }\n",
       "\n",
       "    .dataframe tbody tr th {\n",
       "        vertical-align: top;\n",
       "    }\n",
       "\n",
       "    .dataframe thead th {\n",
       "        text-align: right;\n",
       "    }\n",
       "</style>\n",
       "<table border=\"1\" class=\"dataframe\">\n",
       "  <thead>\n",
       "    <tr style=\"text-align: right;\">\n",
       "      <th></th>\n",
       "      <th>gender</th>\n",
       "      <th>total_sales</th>\n",
       "      <th>total_customers</th>\n",
       "      <th>avg_sales_per_customer</th>\n",
       "      <th>percent_of_sales</th>\n",
       "      <th>percent_of_customers</th>\n",
       "    </tr>\n",
       "  </thead>\n",
       "  <tbody>\n",
       "    <tr>\n",
       "      <th>0</th>\n",
       "      <td>female</td>\n",
       "      <td>75191</td>\n",
       "      <td>1248</td>\n",
       "      <td>60.25</td>\n",
       "      <td>32.3</td>\n",
       "      <td>32.0</td>\n",
       "    </tr>\n",
       "    <tr>\n",
       "      <th>1</th>\n",
       "      <td>male</td>\n",
       "      <td>157890</td>\n",
       "      <td>2652</td>\n",
       "      <td>59.54</td>\n",
       "      <td>67.7</td>\n",
       "      <td>68.0</td>\n",
       "    </tr>\n",
       "  </tbody>\n",
       "</table>\n",
       "</div>"
      ],
      "text/plain": [
       "   gender  total_sales  total_customers  avg_sales_per_customer  \\\n",
       "0  female        75191             1248                   60.25   \n",
       "1    male       157890             2652                   59.54   \n",
       "\n",
       "   percent_of_sales  percent_of_customers  \n",
       "0              32.3                  32.0  \n",
       "1              67.7                  68.0  "
      ]
     },
     "execution_count": 19,
     "metadata": {},
     "output_type": "execute_result"
    }
   ],
   "source": [
    "# Grouping the total sales and customers for each demographic\n",
    "gender_demo = df.groupby('gender').agg({'usd_total': 'sum', 'gender': 'count'})\n",
    "\n",
    "# Naming columns\n",
    "gender_demo.columns = ['total_sales', 'total_customers']\n",
    "\n",
    "# Calculating the average sales per customer, sales market share, and demographic marketshare\n",
    "gender_demo['avg_sales_per_customer'] = (gender_demo['total_sales'] / gender_demo['total_customers']).round(2)\n",
    "gender_demo['percent_of_sales'] = ((gender_demo['total_sales'] / (gender_demo['total_sales'].sum())) * 100).round(1)\n",
    "gender_demo['percent_of_customers'] = ((gender_demo['total_customers'] / (gender_demo['total_customers'].sum())) * 100).round(1)\n",
    "\n",
    "gender_demo = gender_demo.reset_index()\n",
    "gender_demo"
   ]
  },
  {
   "cell_type": "markdown",
   "metadata": {},
   "source": [
    "Observation:\n",
    "\n",
    "- On average, female customers spend slightly more per transaction ($60.25) than male customers ($59.54)\n",
    "\n",
    "- However, males represent a substantially larger portion of the customer base, comprising 68% of the market compared to 32% for females. This distribution is reflected in the total sales percentages: 67.7% for men versus 32.3% for women.\n",
    "\n",
    "- Overall, males constitute the primary customer demographic in terms of both total sales and market share"
   ]
  },
  {
   "cell_type": "code",
   "execution_count": 20,
   "metadata": {},
   "outputs": [
    {
     "name": "stderr",
     "output_type": "stream",
     "text": [
      "C:\\Users\\jason\\AppData\\Local\\Temp\\ipykernel_1824\\265883651.py:2: FutureWarning: The default of observed=False is deprecated and will be changed to True in a future version of pandas. Pass observed=False to retain current behavior or observed=True to adopt the future default and silence this warning.\n",
      "  loc_demo = df.groupby('location').agg({'usd_total': 'sum', 'customer_id': 'count', 'customer_rating': 'mean'})\n"
     ]
    },
    {
     "data": {
      "text/html": [
       "<div>\n",
       "<style scoped>\n",
       "    .dataframe tbody tr th:only-of-type {\n",
       "        vertical-align: middle;\n",
       "    }\n",
       "\n",
       "    .dataframe tbody tr th {\n",
       "        vertical-align: top;\n",
       "    }\n",
       "\n",
       "    .dataframe thead th {\n",
       "        text-align: right;\n",
       "    }\n",
       "</style>\n",
       "<table border=\"1\" class=\"dataframe\">\n",
       "  <thead>\n",
       "    <tr style=\"text-align: right;\">\n",
       "      <th></th>\n",
       "      <th>location</th>\n",
       "      <th>total_sales</th>\n",
       "      <th>total_customers</th>\n",
       "      <th>avg_rating</th>\n",
       "      <th>avg_sales_per_customer</th>\n",
       "    </tr>\n",
       "  </thead>\n",
       "  <tbody>\n",
       "    <tr>\n",
       "      <th>0</th>\n",
       "      <td>montana</td>\n",
       "      <td>5784</td>\n",
       "      <td>96</td>\n",
       "      <td>3.81</td>\n",
       "      <td>60.25</td>\n",
       "    </tr>\n",
       "    <tr>\n",
       "      <th>1</th>\n",
       "      <td>illinois</td>\n",
       "      <td>5617</td>\n",
       "      <td>92</td>\n",
       "      <td>3.64</td>\n",
       "      <td>61.05</td>\n",
       "    </tr>\n",
       "    <tr>\n",
       "      <th>2</th>\n",
       "      <td>california</td>\n",
       "      <td>5605</td>\n",
       "      <td>95</td>\n",
       "      <td>3.83</td>\n",
       "      <td>59.00</td>\n",
       "    </tr>\n",
       "    <tr>\n",
       "      <th>3</th>\n",
       "      <td>idaho</td>\n",
       "      <td>5587</td>\n",
       "      <td>93</td>\n",
       "      <td>3.78</td>\n",
       "      <td>60.08</td>\n",
       "    </tr>\n",
       "    <tr>\n",
       "      <th>4</th>\n",
       "      <td>nevada</td>\n",
       "      <td>5514</td>\n",
       "      <td>87</td>\n",
       "      <td>3.71</td>\n",
       "      <td>63.38</td>\n",
       "    </tr>\n",
       "  </tbody>\n",
       "</table>\n",
       "</div>"
      ],
      "text/plain": [
       "     location  total_sales  total_customers  avg_rating  \\\n",
       "0     montana         5784               96        3.81   \n",
       "1    illinois         5617               92        3.64   \n",
       "2  california         5605               95        3.83   \n",
       "3       idaho         5587               93        3.78   \n",
       "4      nevada         5514               87        3.71   \n",
       "\n",
       "   avg_sales_per_customer  \n",
       "0                   60.25  \n",
       "1                   61.05  \n",
       "2                   59.00  \n",
       "3                   60.08  \n",
       "4                   63.38  "
      ]
     },
     "execution_count": 20,
     "metadata": {},
     "output_type": "execute_result"
    }
   ],
   "source": [
    "# Grouping total sales, customers, and average rating by location\n",
    "loc_demo = df.groupby('location').agg({'usd_total': 'sum', 'customer_id': 'count', 'customer_rating': 'mean'})\n",
    "\n",
    "# Naming columns\n",
    "loc_demo.columns = ['total_sales', 'total_customers', 'avg_rating']\n",
    "\n",
    "# Calculating average sales per customer \n",
    "loc_demo['avg_sales_per_customer'] = (loc_demo['total_sales'] / loc_demo['total_customers']).round(2)\n",
    "\n",
    "# Rounding the average ratings column\n",
    "loc_demo['avg_rating'] = loc_demo['avg_rating'].round(2)\n",
    "\n",
    "# Sorting values to get the top 5 locations based on sales generated\n",
    "loc_demo = loc_demo.sort_values(by='total_sales', ascending=False).reset_index().head()\n",
    "\n",
    "# Changing this column back to a string data type so seaborn can properly interact with the data and visualize it properly\n",
    "loc_demo['location'] = loc_demo['location'].astype('object')\n",
    "loc_demo"
   ]
  },
  {
   "cell_type": "markdown",
   "metadata": {},
   "source": [
    "Observation:\n",
    "\n",
    "- Montana, Illinois, California, Idaho, and Nevada represent the locations with the highest sales and largest customer bases.\n",
    "\n",
    "- Customer ratings in these top five locations range from 3.64 to 3.83.\n",
    "\n",
    "- Average sales per customer are relatively consistent across these locations, ranging from $59.00 to $63.38."
   ]
  },
  {
   "cell_type": "code",
   "execution_count": 21,
   "metadata": {},
   "outputs": [
    {
     "data": {
      "image/png": "[encoded data removed]",
      "text/plain": [
       "<Figure size 2400x500 with 4 Axes>"
      ]
     },
     "metadata": {},
     "output_type": "display_data"
    }
   ],
   "source": [
    "# Setting theme and figure size\n",
    "sns.set_theme(style='darkgrid')\n",
    "fig, axes = plt.subplots(1, 4, figsize=(24, 5))\n",
    "\n",
    "# Bar graph for total customer by gender demographic\n",
    "total_dem = sns.barplot(data=gender_demo,\n",
    "                        x='gender',\n",
    "                        y='total_customers',\n",
    "                        hue='gender',\n",
    "                        ax=axes[0])\n",
    "# Creating loop to display numeric value on graph\n",
    "for r in total_dem.patches:\n",
    "    y_value = r.get_height()\n",
    "    x_value = r.get_x() + r.get_width() / 2\n",
    "    label = '{:.0f}'.format(y_value)\n",
    "    total_dem.annotate(label,\n",
    "                       (x_value, y_value),\n",
    "                       xytext=(0, 1),\n",
    "                       textcoords='offset points',\n",
    "                       ha='center',\n",
    "                       va='bottom')\n",
    "axes[0].set_title('Customer Base Breakdown by Gender')\n",
    "axes[0].set_xlabel('Gender')\n",
    "axes[0].set_ylabel('Total Customers')\n",
    "axes[0].set_ylim(0, 2900)\n",
    "    \n",
    "# Creating histogram for gender and age groups\n",
    "sns.histplot(data=df,\n",
    "             x='age',\n",
    "             hue='gender',\n",
    "             ax=axes[1])\n",
    "axes[1].set_title('Customer Count Across Age Groups')\n",
    "axes[1].set_xlabel('Age Group')\n",
    "axes[1].set_ylabel('Total Customers')\n",
    "\n",
    "# Creating bar plot to compare average total (in USD) by each order and gender\n",
    "avg_sales = sns.barplot(data=gender_demo,\n",
    "                        x='gender',\n",
    "                        y='avg_sales_per_customer',\n",
    "                        hue='gender',\n",
    "                        ax=axes[2])\n",
    "# Creating loop to display numeric value on graph\n",
    "for r in avg_sales.patches:\n",
    "    y_value = r.get_height()\n",
    "    x_value = r.get_x() + r.get_width() / 2\n",
    "    label = '{:.2f}'.format(y_value)\n",
    "    avg_sales.annotate(label,\n",
    "                       (x_value, y_value),\n",
    "                       xytext=(0, 1),\n",
    "                       textcoords='offset points',\n",
    "                       ha='center',\n",
    "                       va='bottom')\n",
    "axes[2].set_title('Average Order Total by Gender (in USD)')\n",
    "axes[2].set_xlabel('Gender')\n",
    "axes[2].set_ylabel('Average Order Total (in USD)')\n",
    "axes[2].set_ylim(50, 63)\n",
    "\n",
    "# Creating bar plot to comparing total sales in the top 5 locations\n",
    "top_states = sns.barplot(data=loc_demo,\n",
    "                         x='location',\n",
    "                         y='total_sales',\n",
    "                         hue='location',\n",
    "                         ax=axes[3])\n",
    "# Creating loop to display numeric value on graph\n",
    "for r in top_states.patches:\n",
    "    y_value = r.get_height()\n",
    "    x_value = r.get_x() + r.get_width() / 2\n",
    "    label = '{:.0f}'.format(y_value)\n",
    "    top_states.annotate(label,\n",
    "                        (x_value, y_value),\n",
    "                        xytext=(0, 1),\n",
    "                        textcoords='offset points',\n",
    "                        ha='center',\n",
    "                        va='bottom')\n",
    "axes[3].set_title('Top 5 States in Total Sales (in USD)')\n",
    "axes[3].set_xlabel('Location')\n",
    "axes[3].set_ylabel('Total Sales (in USD)')\n",
    "axes[3].set_ylim(5000, 5900)\n",
    "\n",
    "plt.show()"
   ]
  },
  {
   "cell_type": "markdown",
   "metadata": {},
   "source": [
    "Observation:\n",
    "\n",
    "- "
   ]
  },
  {
   "cell_type": "markdown",
   "metadata": {},
   "source": [
    "#### 2. What product preferences differ across customer segments?"
   ]
  },
  {
   "cell_type": "code",
   "execution_count": 22,
   "metadata": {},
   "outputs": [
    {
     "name": "stderr",
     "output_type": "stream",
     "text": [
      "C:\\Users\\jason\\AppData\\Local\\Temp\\ipykernel_1824\\10343011.py:2: FutureWarning: The default of observed=False is deprecated and will be changed to True in a future version of pandas. Pass observed=False to retain current behavior or observed=True to adopt the future default and silence this warning.\n",
      "  m_products = df[df['gender'] == 'male'].groupby('item_purchased').agg({'item_purchased': 'count'})\n",
      "C:\\Users\\jason\\AppData\\Local\\Temp\\ipykernel_1824\\10343011.py:3: FutureWarning: The default of observed=False is deprecated and will be changed to True in a future version of pandas. Pass observed=False to retain current behavior or observed=True to adopt the future default and silence this warning.\n",
      "  f_products = df[df['gender'] == 'female'].groupby('item_purchased').agg({'item_purchased': 'count'})\n"
     ]
    }
   ],
   "source": [
    "# Counting the number of items purchased per sub-category by each demographic\n",
    "m_products = df[df['gender'] == 'male'].groupby('item_purchased').agg({'item_purchased': 'count'})\n",
    "f_products = df[df['gender'] == 'female'].groupby('item_purchased').agg({'item_purchased': 'count'})\n",
    "\n",
    "# Naming the columns\n",
    "m_products.columns = ['quantity_sold']\n",
    "f_products.columns = ['quantity_sold']\n",
    "\n",
    "# Turning data into a table and sorting the values to get the top 10 sold products\n",
    "top_mproducts = m_products.reset_index().sort_values(by='quantity_sold', ascending=False).head(10)\n",
    "top_fproducts = f_products.reset_index().sort_values(by='quantity_sold', ascending=False).head(10)\n",
    "\n",
    "# Changing this column back to a string data type so seaborn can properly interact with the data and visualize it properly\n",
    "top_mproducts['item_purchased'] = top_mproducts['item_purchased'].astype('object')\n",
    "top_fproducts['item_purchased'] = top_fproducts['item_purchased'].astype('object')"
   ]
  },
  {
   "cell_type": "code",
   "execution_count": 23,
   "metadata": {},
   "outputs": [
    {
     "data": {
      "image/png": "[encoded data removed]",
      "text/plain": [
       "<Figure size 1700x400 with 2 Axes>"
      ]
     },
     "metadata": {},
     "output_type": "display_data"
    }
   ],
   "source": [
    "# Setting theme and figure size\n",
    "fig, axes = plt.subplots(1, 2, figsize=(17, 4))\n",
    "\n",
    "# Creating bar plot count total items sold\n",
    "top_mproducts_plot = sns.barplot(data=top_mproducts,\n",
    "                                 x='quantity_sold',\n",
    "                                 y='item_purchased',\n",
    "                                 color='cornflowerblue',\n",
    "                                 ax=axes[0])\n",
    "# Creating loop to display numeric value on graph\n",
    "for r in top_mproducts_plot.patches:\n",
    "    y_value = r.get_y() + (r.get_height() + 0.2) / 2\n",
    "    x_value = r.get_width()\n",
    "    label = '{:.0f}'.format(x_value)\n",
    "    top_mproducts_plot.annotate(label,\n",
    "                                (x_value, y_value),\n",
    "                                xytext=(2, 1),\n",
    "                                textcoords='offset points',\n",
    "                                ha='left',\n",
    "                                va='center') \n",
    "axes[0].set_title('Top 5 Sold Male Products')\n",
    "axes[0].set_xlabel('Quantity Sold')\n",
    "axes[0].set_xlim(100, 130)\n",
    "axes[0].set_ylabel('Product Sub-Category')\n",
    "\n",
    "# # Creating bar plot count total items sold\n",
    "top_fproducts_plot = sns.barplot(data=top_fproducts,\n",
    "                                 x='quantity_sold',\n",
    "                                 y='item_purchased',\n",
    "                                 color='orange',\n",
    "                                 ax=axes[1])\n",
    "# Creating loop to display numeric value on graph\n",
    "for r in top_fproducts_plot.patches:\n",
    "    y_value = r.get_y() + (r.get_height() + 0.2) / 2\n",
    "    x_value = r.get_width()\n",
    "    label = '{:.0f}'.format(x_value)\n",
    "    top_fproducts_plot.annotate(label,\n",
    "                                (x_value, y_value),\n",
    "                                xytext=(2, 1),\n",
    "                                textcoords='offset points',\n",
    "                                ha='left',\n",
    "                                va='center') \n",
    "axes[1].set_title('Top 5 Sold Female Products')\n",
    "axes[1].set_xlabel('Quantity Sold')\n",
    "axes[1].set_xlim(40, 70)\n",
    "axes[1].set_ylabel('Product Sub-Category')\n",
    "\n",
    "plt.show()"
   ]
  },
  {
   "cell_type": "markdown",
   "metadata": {},
   "source": [
    "Observation:\n",
    "\n",
    "- "
   ]
  },
  {
   "cell_type": "markdown",
   "metadata": {},
   "source": [
    "#### 3. Which locations have the highest customer ratings? "
   ]
  },
  {
   "cell_type": "code",
   "execution_count": 24,
   "metadata": {},
   "outputs": [
    {
     "data": {
      "image/png": "[encoded data removed]",
      "text/plain": [
       "<Figure size 640x480 with 1 Axes>"
      ]
     },
     "metadata": {},
     "output_type": "display_data"
    }
   ],
   "source": [
    "loc_demo = loc_demo.sort_values(by='avg_rating', ascending=False).head()\n",
    "\n",
    "top_loc_rating = sns.barplot(data=loc_demo,\n",
    "                             x='location',\n",
    "                             y='avg_rating',\n",
    "                             color='cornflowerblue')\n",
    "for r in top_loc_rating.patches:\n",
    "    y_value = r.get_height()\n",
    "    x_value = r.get_x() + r.get_width() / 2\n",
    "    label = '{:.2f}'.format(y_value)\n",
    "    top_loc_rating.annotate(label,\n",
    "                            (x_value, y_value),\n",
    "                            xytext=(0, 1),\n",
    "                            textcoords='offset points',\n",
    "                            ha='center',\n",
    "                            va='bottom')"
   ]
  },
  {
   "cell_type": "markdown",
   "metadata": {},
   "source": [
    "Observation:\n",
    "\n",
    "- "
   ]
  },
  {
   "cell_type": "markdown",
   "metadata": {},
   "source": [
    "#### 4. Which gender and location shows the highest purchase frequency?"
   ]
  },
  {
   "cell_type": "code",
   "execution_count": 25,
   "metadata": {},
   "outputs": [
    {
     "name": "stderr",
     "output_type": "stream",
     "text": [
      "C:\\Users\\jason\\AppData\\Local\\Temp\\ipykernel_1824\\1949816904.py:1: FutureWarning: The default of observed=False is deprecated and will be changed to True in a future version of pandas. Pass observed=False to retain current behavior or observed=True to adopt the future default and silence this warning.\n",
      "  mf_customers = df.groupby('gender').agg({'total_orders_past_year': 'count'})\n",
      "C:\\Users\\jason\\AppData\\Local\\Temp\\ipykernel_1824\\1949816904.py:4: FutureWarning: The default of observed=False is deprecated and will be changed to True in a future version of pandas. Pass observed=False to retain current behavior or observed=True to adopt the future default and silence this warning.\n",
      "  mf_orders = df.groupby('gender').agg({'total_orders_past_year': 'sum'})\n"
     ]
    },
    {
     "data": {
      "text/html": [
       "<div>\n",
       "<style scoped>\n",
       "    .dataframe tbody tr th:only-of-type {\n",
       "        vertical-align: middle;\n",
       "    }\n",
       "\n",
       "    .dataframe tbody tr th {\n",
       "        vertical-align: top;\n",
       "    }\n",
       "\n",
       "    .dataframe thead th {\n",
       "        text-align: right;\n",
       "    }\n",
       "</style>\n",
       "<table border=\"1\" class=\"dataframe\">\n",
       "  <thead>\n",
       "    <tr style=\"text-align: right;\">\n",
       "      <th></th>\n",
       "      <th>gender</th>\n",
       "      <th>total_customers</th>\n",
       "      <th>est_total_reorders</th>\n",
       "    </tr>\n",
       "  </thead>\n",
       "  <tbody>\n",
       "    <tr>\n",
       "      <th>1</th>\n",
       "      <td>male</td>\n",
       "      <td>2652</td>\n",
       "      <td>46243</td>\n",
       "    </tr>\n",
       "    <tr>\n",
       "      <th>0</th>\n",
       "      <td>female</td>\n",
       "      <td>1248</td>\n",
       "      <td>21895</td>\n",
       "    </tr>\n",
       "  </tbody>\n",
       "</table>\n",
       "</div>"
      ],
      "text/plain": [
       "   gender  total_customers  est_total_reorders\n",
       "1    male             2652               46243\n",
       "0  female             1248               21895"
      ]
     },
     "execution_count": 25,
     "metadata": {},
     "output_type": "execute_result"
    }
   ],
   "source": [
    "mf_customers = df.groupby('gender').agg({'total_orders_past_year': 'count'})\n",
    "mf_customers.columns = ['total_customers']\n",
    "\n",
    "mf_orders = df.groupby('gender').agg({'total_orders_past_year': 'sum'})\n",
    "mf_orders.columns = ['est_total_reorders']\n",
    "\n",
    "order_freq_gender = mf_customers.merge(mf_orders, on='gender')\n",
    "order_freq_gender = order_freq_gender.reset_index().sort_values(by='est_total_reorders', ascending=False)\n",
    "order_freq_gender"
   ]
  },
  {
   "cell_type": "code",
   "execution_count": 26,
   "metadata": {},
   "outputs": [
    {
     "name": "stderr",
     "output_type": "stream",
     "text": [
      "C:\\Users\\jason\\AppData\\Local\\Temp\\ipykernel_1824\\344200245.py:1: FutureWarning: The default of observed=False is deprecated and will be changed to True in a future version of pandas. Pass observed=False to retain current behavior or observed=True to adopt the future default and silence this warning.\n",
      "  customers_per_yr = df.groupby('location').agg({'total_orders_past_year': 'count'})\n",
      "C:\\Users\\jason\\AppData\\Local\\Temp\\ipykernel_1824\\344200245.py:4: FutureWarning: The default of observed=False is deprecated and will be changed to True in a future version of pandas. Pass observed=False to retain current behavior or observed=True to adopt the future default and silence this warning.\n",
      "  orders_per_yr = df.groupby('location').agg({'total_orders_past_year': 'sum'})\n"
     ]
    },
    {
     "data": {
      "text/html": [
       "<div>\n",
       "<style scoped>\n",
       "    .dataframe tbody tr th:only-of-type {\n",
       "        vertical-align: middle;\n",
       "    }\n",
       "\n",
       "    .dataframe tbody tr th {\n",
       "        vertical-align: top;\n",
       "    }\n",
       "\n",
       "    .dataframe thead th {\n",
       "        text-align: right;\n",
       "    }\n",
       "</style>\n",
       "<table border=\"1\" class=\"dataframe\">\n",
       "  <thead>\n",
       "    <tr style=\"text-align: right;\">\n",
       "      <th></th>\n",
       "      <th>location</th>\n",
       "      <th>total_customers</th>\n",
       "      <th>est_total_reorders</th>\n",
       "    </tr>\n",
       "  </thead>\n",
       "  <tbody>\n",
       "    <tr>\n",
       "      <th>12</th>\n",
       "      <td>illinois</td>\n",
       "      <td>92</td>\n",
       "      <td>1826</td>\n",
       "    </tr>\n",
       "    <tr>\n",
       "      <th>17</th>\n",
       "      <td>louisiana</td>\n",
       "      <td>84</td>\n",
       "      <td>1764</td>\n",
       "    </tr>\n",
       "    <tr>\n",
       "      <th>31</th>\n",
       "      <td>new_york</td>\n",
       "      <td>87</td>\n",
       "      <td>1677</td>\n",
       "    </tr>\n",
       "    <tr>\n",
       "      <th>9</th>\n",
       "      <td>georgia</td>\n",
       "      <td>79</td>\n",
       "      <td>1629</td>\n",
       "    </tr>\n",
       "    <tr>\n",
       "      <th>0</th>\n",
       "      <td>alabama</td>\n",
       "      <td>89</td>\n",
       "      <td>1621</td>\n",
       "    </tr>\n",
       "  </tbody>\n",
       "</table>\n",
       "</div>"
      ],
      "text/plain": [
       "     location  total_customers  est_total_reorders\n",
       "12   illinois               92                1826\n",
       "17  louisiana               84                1764\n",
       "31   new_york               87                1677\n",
       "9     georgia               79                1629\n",
       "0     alabama               89                1621"
      ]
     },
     "execution_count": 26,
     "metadata": {},
     "output_type": "execute_result"
    }
   ],
   "source": [
    "customers_per_yr = df.groupby('location').agg({'total_orders_past_year': 'count'})\n",
    "customers_per_yr.columns = ['total_customers']\n",
    "\n",
    "orders_per_yr = df.groupby('location').agg({'total_orders_past_year': 'sum'})\n",
    "orders_per_yr.columns = ['est_total_reorders']\n",
    "\n",
    "order_freq_loc = customers_per_yr.merge(orders_per_yr, on='location')\n",
    "order_freq_loc = order_freq_loc.reset_index().sort_values(by='est_total_reorders', ascending=False).head()\n",
    "order_freq_loc['location'] = order_freq_loc['location'].astype('object')\n",
    "order_freq_loc"
   ]
  },
  {
   "cell_type": "code",
   "execution_count": 27,
   "metadata": {},
   "outputs": [
    {
     "data": {
      "image/png": "[encoded data removed]",
      "text/plain": [
       "<Figure size 1400x400 with 2 Axes>"
      ]
     },
     "metadata": {},
     "output_type": "display_data"
    }
   ],
   "source": [
    "fig, axes = plt.subplots(1, 2, figsize=(14, 4))\n",
    "\n",
    "gen_reorders = sns.barplot(data=order_freq_gender,\n",
    "                           x='gender',\n",
    "                           y='est_total_reorders',\n",
    "                           ax=axes[0])\n",
    "for r in gen_reorders.patches:\n",
    "    y_value = r.get_height()\n",
    "    x_value = r.get_x() + r.get_width() / 2\n",
    "    label = '{:.0f}'.format(y_value)\n",
    "    gen_reorders.annotate(label,\n",
    "                            (x_value, y_value),\n",
    "                            xytext=(0, 1),\n",
    "                            textcoords='offset points',\n",
    "                            ha='center',\n",
    "                            va='bottom')\n",
    "    \n",
    "loc_reorders = sns.barplot(data=order_freq_loc,\n",
    "                           x='location',\n",
    "                           y='est_total_reorders',\n",
    "                           ax=axes[1])\n",
    "for r in loc_reorders.patches:\n",
    "    y_value = r.get_height()\n",
    "    x_value = r.get_x() + r.get_width() / 2\n",
    "    label = '{:.0f}'.format(y_value)\n",
    "    loc_reorders.annotate(label,\n",
    "                            (x_value, y_value),\n",
    "                            xytext=(0, 1),\n",
    "                            textcoords='offset points',\n",
    "                            ha='center',\n",
    "                            va='bottom')\n",
    "\n",
    "plt.show()"
   ]
  },
  {
   "cell_type": "markdown",
   "metadata": {},
   "source": [
    "Observation:\n",
    "\n",
    "- "
   ]
  },
  {
   "cell_type": "markdown",
   "metadata": {},
   "source": [
    "### Behavioral Segmentation"
   ]
  },
  {
   "cell_type": "markdown",
   "metadata": {},
   "source": [
    "#### 5. How does subscription status and shipping type affect customer behavior?"
   ]
  },
  {
   "cell_type": "code",
   "execution_count": 28,
   "metadata": {},
   "outputs": [
    {
     "data": {
      "image/png": "[encoded data removed]",
      "text/plain": [
       "<Figure size 1500x400 with 3 Axes>"
      ]
     },
     "metadata": {},
     "output_type": "display_data"
    }
   ],
   "source": [
    "fig, axes = plt.subplots(1, 3, figsize=(15, 4))\n",
    "\n",
    "sub_rev = sns.barplot(data=df,\n",
    "                      x='sub_status',\n",
    "                      y='usd_total',\n",
    "                      estimator=np.mean,\n",
    "                      errorbar=None,\n",
    "                      ax=axes[0])\n",
    "for r in sub_rev.patches:\n",
    "    y_value = r.get_height()\n",
    "    x_value = r.get_x() + r.get_width() / 2\n",
    "    space = 1\n",
    "    label = '{:.1f}'.format(y_value)\n",
    "    sub_rev.annotate(label,\n",
    "                     (x_value, y_value),\n",
    "                     xytext=(0, space),\n",
    "                     textcoords='offset points',\n",
    "                     ha='center',\n",
    "                     va='bottom')\n",
    "\n",
    "sub_orders = sns.barplot(data=df,\n",
    "                      x='sub_status',\n",
    "                      y='previous_orders',\n",
    "                      estimator=np.mean,\n",
    "                      errorbar=None,\n",
    "                      ax=axes[1])\n",
    "# Creating loop to display numeric value on graph\n",
    "for r in sub_orders.patches:\n",
    "    y_value = r.get_height()\n",
    "    x_value = r.get_x() + r.get_width() / 2\n",
    "    space = 1\n",
    "    label = '{:.1f}'.format(y_value)\n",
    "    sub_orders.annotate(label,\n",
    "                        (x_value, y_value),\n",
    "                        xytext=(0, space),\n",
    "                        textcoords='offset points',\n",
    "                        ha='center',\n",
    "                        va='bottom')\n",
    "\n",
    "\n",
    "sub_rating = sns.barplot(data=df,\n",
    "                      x='sub_status',\n",
    "                      y='customer_rating',\n",
    "                      estimator=np.mean,\n",
    "                      errorbar=None,\n",
    "                      ax=axes[2])\n",
    "# Creating loop to display numeric value on graph\n",
    "for r in sub_rating.patches:\n",
    "    y_value = r.get_height()\n",
    "    x_value = r.get_x() + r.get_width() / 2\n",
    "    space = 1\n",
    "    label = '{:.1f}'.format(y_value)\n",
    "    sub_rating.annotate(label,\n",
    "                        (x_value, y_value),\n",
    "                        xytext=(0, space),\n",
    "                        textcoords='offset points',\n",
    "                        ha='center',\n",
    "                        va='bottom')\n"
   ]
  },
  {
   "cell_type": "markdown",
   "metadata": {},
   "source": [
    "Observation:\n",
    "\n",
    "- "
   ]
  },
  {
   "cell_type": "markdown",
   "metadata": {},
   "source": [
    "#### 6. Which segments respond best to discounts?"
   ]
  },
  {
   "cell_type": "code",
   "execution_count": 29,
   "metadata": {},
   "outputs": [
    {
     "name": "stderr",
     "output_type": "stream",
     "text": [
      "C:\\Users\\jason\\AppData\\Local\\Temp\\ipykernel_1824\\147839718.py:1: FutureWarning: The default of observed=False is deprecated and will be changed to True in a future version of pandas. Pass observed=False to retain current behavior or observed=True to adopt the future default and silence this warning.\n",
      "  discounts = df.groupby(['gender', 'discount_applied']).agg({'item_purchased': 'count',\n"
     ]
    },
    {
     "data": {
      "text/html": [
       "<div>\n",
       "<style scoped>\n",
       "    .dataframe tbody tr th:only-of-type {\n",
       "        vertical-align: middle;\n",
       "    }\n",
       "\n",
       "    .dataframe tbody tr th {\n",
       "        vertical-align: top;\n",
       "    }\n",
       "\n",
       "    .dataframe thead th {\n",
       "        text-align: right;\n",
       "    }\n",
       "</style>\n",
       "<table border=\"1\" class=\"dataframe\">\n",
       "  <thead>\n",
       "    <tr style=\"text-align: right;\">\n",
       "      <th></th>\n",
       "      <th>gender</th>\n",
       "      <th>discount_applied</th>\n",
       "      <th>item_purchased</th>\n",
       "      <th>usd_total</th>\n",
       "    </tr>\n",
       "  </thead>\n",
       "  <tbody>\n",
       "    <tr>\n",
       "      <th>0</th>\n",
       "      <td>female</td>\n",
       "      <td>no</td>\n",
       "      <td>1248</td>\n",
       "      <td>60.249199</td>\n",
       "    </tr>\n",
       "    <tr>\n",
       "      <th>1</th>\n",
       "      <td>male</td>\n",
       "      <td>no</td>\n",
       "      <td>975</td>\n",
       "      <td>59.978462</td>\n",
       "    </tr>\n",
       "    <tr>\n",
       "      <th>2</th>\n",
       "      <td>male</td>\n",
       "      <td>yes</td>\n",
       "      <td>1677</td>\n",
       "      <td>59.279070</td>\n",
       "    </tr>\n",
       "    <tr>\n",
       "      <th>3</th>\n",
       "      <td>female</td>\n",
       "      <td>yes</td>\n",
       "      <td>0</td>\n",
       "      <td>NaN</td>\n",
       "    </tr>\n",
       "  </tbody>\n",
       "</table>\n",
       "</div>"
      ],
      "text/plain": [
       "   gender discount_applied  item_purchased  usd_total\n",
       "0  female               no            1248  60.249199\n",
       "1    male               no             975  59.978462\n",
       "2    male              yes            1677  59.279070\n",
       "3  female              yes               0        NaN"
      ]
     },
     "execution_count": 29,
     "metadata": {},
     "output_type": "execute_result"
    }
   ],
   "source": [
    "discounts = df.groupby(['gender', 'discount_applied']).agg({'item_purchased': 'count',\n",
    "                                                            'usd_total': 'mean'})\n",
    "discounts = discounts.sort_values(by='usd_total', ascending=False).reset_index()\n",
    "discounts"
   ]
  },
  {
   "cell_type": "markdown",
   "metadata": {},
   "source": [
    "Observation:\n",
    "\n",
    "- "
   ]
  },
  {
   "cell_type": "markdown",
   "metadata": {},
   "source": [
    "#### 7. Which age ranges use the most discounts?"
   ]
  },
  {
   "cell_type": "code",
   "execution_count": 30,
   "metadata": {},
   "outputs": [],
   "source": [
    "disc_by_age = df[df['discount_applied'] == 'yes'].groupby('age').agg({'discount_applied': 'count'})\n",
    "disc_by_age.columns = ['total_discounts']\n",
    "disc_by_age = disc_by_age.reset_index()"
   ]
  },
  {
   "cell_type": "code",
   "execution_count": 31,
   "metadata": {},
   "outputs": [
    {
     "name": "stdout",
     "output_type": "stream",
     "text": [
      "age_group\n",
      "18-24     7\n",
      "25-34    10\n",
      "35-44    10\n",
      "45-54    10\n",
      "55-64    10\n",
      "65-70     6\n",
      "Name: count, dtype: int64\n"
     ]
    }
   ],
   "source": [
    "# Creating the bins and labels to count which age groups use the most discounts\n",
    "bins = [18, 24, 34, 44, 54, 64, 70]\n",
    "labels = ['18-24', '25-34', '35-44', '45-54', '55-64', '65-70']\n",
    "\n",
    "# Using the cut function to create the age_group column for bins\n",
    "disc_by_age['age_group'] = pd.cut(disc_by_age['age'], bins=bins, labels=labels, right=True, include_lowest=True)\n",
    "\n",
    "# Checking the age group bins to see if it worked\n",
    "print(disc_by_age['age_group'].value_counts().sort_index())"
   ]
  },
  {
   "cell_type": "code",
   "execution_count": 32,
   "metadata": {},
   "outputs": [
    {
     "data": {
      "text/plain": [
       "(25.0, 35.0)"
      ]
     },
     "execution_count": 32,
     "metadata": {},
     "output_type": "execute_result"
    },
    {
     "data": {
      "image/png": "[encoded data removed]",
      "text/plain": [
       "<Figure size 800x400 with 1 Axes>"
      ]
     },
     "metadata": {},
     "output_type": "display_data"
    }
   ],
   "source": [
    "fig, ax = plt.subplots(figsize=(8, 4))\n",
    "\n",
    "avg_disc_by_age = sns.barplot(data=disc_by_age,\n",
    "            x='age_group',\n",
    "            y='total_discounts',\n",
    "            label=labels,\n",
    "            errorbar=None)\n",
    "\n",
    "for r in avg_disc_by_age.patches:\n",
    "    y_value = r.get_height()\n",
    "    x_value = r.get_x() + r.get_width() / 2\n",
    "    label = '{:.2f}'.format(y_value)\n",
    "    avg_disc_by_age.annotate(label,\n",
    "                            (x_value, y_value),\n",
    "                            xytext=(0, 1),\n",
    "                            textcoords='offset points',\n",
    "                            ha='center',\n",
    "                            va='bottom')\n",
    "plt.legend('')\n",
    "plt.ylim([25, 35])"
   ]
  },
  {
   "cell_type": "code",
   "execution_count": 33,
   "metadata": {},
   "outputs": [
    {
     "data": {
      "text/plain": [
       "<Axes: xlabel='discount_applied', ylabel='previous_orders'>"
      ]
     },
     "execution_count": 33,
     "metadata": {},
     "output_type": "execute_result"
    },
    {
     "data": {
      "image/png": "[encoded data removed]",
      "text/plain": [
       "<Figure size 1500x400 with 2 Axes>"
      ]
     },
     "metadata": {},
     "output_type": "display_data"
    }
   ],
   "source": [
    "fig, axes = plt.subplots(1, 2, figsize=(15, 4))\n",
    "\n",
    "sns.barplot(data=df,\n",
    "            x='discount_applied',\n",
    "            y='usd_total',\n",
    "            estimator=np.mean,\n",
    "            errorbar=None,\n",
    "            ax=axes[0])\n",
    "\n",
    "sns.barplot(data=df,\n",
    "            x='discount_applied',\n",
    "            y='previous_orders',\n",
    "            estimator=np.mean,\n",
    "            errorbar=None,\n",
    "            ax=axes[1])"
   ]
  },
  {
   "cell_type": "markdown",
   "metadata": {},
   "source": [
    "Observation:\n",
    "\n",
    "- "
   ]
  },
  {
   "cell_type": "markdown",
   "metadata": {},
   "source": [
    "#### 8. What payment and location patterns exist among customer segments?"
   ]
  },
  {
   "cell_type": "code",
   "execution_count": 34,
   "metadata": {},
   "outputs": [
    {
     "data": {
      "text/html": [
       "<div>\n",
       "<style scoped>\n",
       "    .dataframe tbody tr th:only-of-type {\n",
       "        vertical-align: middle;\n",
       "    }\n",
       "\n",
       "    .dataframe tbody tr th {\n",
       "        vertical-align: top;\n",
       "    }\n",
       "\n",
       "    .dataframe thead th {\n",
       "        text-align: right;\n",
       "    }\n",
       "</style>\n",
       "<table border=\"1\" class=\"dataframe\">\n",
       "  <thead>\n",
       "    <tr style=\"text-align: right;\">\n",
       "      <th></th>\n",
       "      <th>customer_id</th>\n",
       "      <th>age</th>\n",
       "      <th>gender</th>\n",
       "      <th>item_purchased</th>\n",
       "      <th>category</th>\n",
       "      <th>usd_total</th>\n",
       "      <th>location</th>\n",
       "      <th>size</th>\n",
       "      <th>color</th>\n",
       "      <th>season</th>\n",
       "      <th>customer_rating</th>\n",
       "      <th>sub_status</th>\n",
       "      <th>shipping_type</th>\n",
       "      <th>discount_applied</th>\n",
       "      <th>previous_orders</th>\n",
       "      <th>payment_method</th>\n",
       "      <th>total_orders_past_year</th>\n",
       "    </tr>\n",
       "  </thead>\n",
       "  <tbody>\n",
       "    <tr>\n",
       "      <th>0</th>\n",
       "      <td>1</td>\n",
       "      <td>55</td>\n",
       "      <td>male</td>\n",
       "      <td>blouse</td>\n",
       "      <td>clothing</td>\n",
       "      <td>53</td>\n",
       "      <td>kentucky</td>\n",
       "      <td>l</td>\n",
       "      <td>gray</td>\n",
       "      <td>winter</td>\n",
       "      <td>3.1</td>\n",
       "      <td>yes</td>\n",
       "      <td>paid_shipping</td>\n",
       "      <td>yes</td>\n",
       "      <td>14</td>\n",
       "      <td>payment_service</td>\n",
       "      <td>26</td>\n",
       "    </tr>\n",
       "    <tr>\n",
       "      <th>1</th>\n",
       "      <td>2</td>\n",
       "      <td>19</td>\n",
       "      <td>male</td>\n",
       "      <td>sweater</td>\n",
       "      <td>clothing</td>\n",
       "      <td>64</td>\n",
       "      <td>maine</td>\n",
       "      <td>l</td>\n",
       "      <td>maroon</td>\n",
       "      <td>winter</td>\n",
       "      <td>3.1</td>\n",
       "      <td>yes</td>\n",
       "      <td>paid_shipping</td>\n",
       "      <td>yes</td>\n",
       "      <td>2</td>\n",
       "      <td>cash</td>\n",
       "      <td>26</td>\n",
       "    </tr>\n",
       "    <tr>\n",
       "      <th>2</th>\n",
       "      <td>3</td>\n",
       "      <td>50</td>\n",
       "      <td>male</td>\n",
       "      <td>jeans</td>\n",
       "      <td>clothing</td>\n",
       "      <td>73</td>\n",
       "      <td>massachusetts</td>\n",
       "      <td>s</td>\n",
       "      <td>maroon</td>\n",
       "      <td>spring</td>\n",
       "      <td>3.1</td>\n",
       "      <td>yes</td>\n",
       "      <td>free_shipping</td>\n",
       "      <td>yes</td>\n",
       "      <td>23</td>\n",
       "      <td>credit_debit_card</td>\n",
       "      <td>52</td>\n",
       "    </tr>\n",
       "    <tr>\n",
       "      <th>3</th>\n",
       "      <td>4</td>\n",
       "      <td>21</td>\n",
       "      <td>male</td>\n",
       "      <td>sandals</td>\n",
       "      <td>footwear</td>\n",
       "      <td>90</td>\n",
       "      <td>rhode_island</td>\n",
       "      <td>m</td>\n",
       "      <td>maroon</td>\n",
       "      <td>spring</td>\n",
       "      <td>3.5</td>\n",
       "      <td>yes</td>\n",
       "      <td>paid_shipping</td>\n",
       "      <td>yes</td>\n",
       "      <td>49</td>\n",
       "      <td>payment_service</td>\n",
       "      <td>52</td>\n",
       "    </tr>\n",
       "    <tr>\n",
       "      <th>4</th>\n",
       "      <td>5</td>\n",
       "      <td>45</td>\n",
       "      <td>male</td>\n",
       "      <td>blouse</td>\n",
       "      <td>clothing</td>\n",
       "      <td>49</td>\n",
       "      <td>oregon</td>\n",
       "      <td>m</td>\n",
       "      <td>turquoise</td>\n",
       "      <td>spring</td>\n",
       "      <td>2.7</td>\n",
       "      <td>yes</td>\n",
       "      <td>free_shipping</td>\n",
       "      <td>yes</td>\n",
       "      <td>31</td>\n",
       "      <td>payment_service</td>\n",
       "      <td>1</td>\n",
       "    </tr>\n",
       "  </tbody>\n",
       "</table>\n",
       "</div>"
      ],
      "text/plain": [
       "   customer_id  age gender item_purchased  category  usd_total       location  \\\n",
       "0            1   55   male         blouse  clothing         53       kentucky   \n",
       "1            2   19   male        sweater  clothing         64          maine   \n",
       "2            3   50   male          jeans  clothing         73  massachusetts   \n",
       "3            4   21   male        sandals  footwear         90   rhode_island   \n",
       "4            5   45   male         blouse  clothing         49         oregon   \n",
       "\n",
       "  size      color  season  customer_rating sub_status  shipping_type  \\\n",
       "0    l       gray  winter              3.1        yes  paid_shipping   \n",
       "1    l     maroon  winter              3.1        yes  paid_shipping   \n",
       "2    s     maroon  spring              3.1        yes  free_shipping   \n",
       "3    m     maroon  spring              3.5        yes  paid_shipping   \n",
       "4    m  turquoise  spring              2.7        yes  free_shipping   \n",
       "\n",
       "  discount_applied  previous_orders     payment_method  total_orders_past_year  \n",
       "0              yes               14    payment_service                      26  \n",
       "1              yes                2               cash                      26  \n",
       "2              yes               23  credit_debit_card                      52  \n",
       "3              yes               49    payment_service                      52  \n",
       "4              yes               31    payment_service                       1  "
      ]
     },
     "execution_count": 34,
     "metadata": {},
     "output_type": "execute_result"
    }
   ],
   "source": [
    "df.head()"
   ]
  },
  {
   "cell_type": "code",
   "execution_count": 35,
   "metadata": {},
   "outputs": [
    {
     "name": "stderr",
     "output_type": "stream",
     "text": [
      "C:\\Users\\jason\\AppData\\Local\\Temp\\ipykernel_1824\\1789473830.py:1: FutureWarning: The default of observed=False is deprecated and will be changed to True in a future version of pandas. Pass observed=False to retain current behavior or observed=True to adopt the future default and silence this warning.\n",
      "  payment = df.groupby('gender').agg({'payment_method': 'value_counts'})\n"
     ]
    },
    {
     "data": {
      "text/html": [
       "<div>\n",
       "<style scoped>\n",
       "    .dataframe tbody tr th:only-of-type {\n",
       "        vertical-align: middle;\n",
       "    }\n",
       "\n",
       "    .dataframe tbody tr th {\n",
       "        vertical-align: top;\n",
       "    }\n",
       "\n",
       "    .dataframe thead th {\n",
       "        text-align: right;\n",
       "    }\n",
       "</style>\n",
       "<table border=\"1\" class=\"dataframe\">\n",
       "  <thead>\n",
       "    <tr style=\"text-align: right;\">\n",
       "      <th></th>\n",
       "      <th>gender</th>\n",
       "      <th>payment_method</th>\n",
       "      <th>total_customers</th>\n",
       "    </tr>\n",
       "  </thead>\n",
       "  <tbody>\n",
       "    <tr>\n",
       "      <th>2</th>\n",
       "      <td>female</td>\n",
       "      <td>credit_debit_card</td>\n",
       "      <td>404</td>\n",
       "    </tr>\n",
       "    <tr>\n",
       "      <th>1</th>\n",
       "      <td>female</td>\n",
       "      <td>cash</td>\n",
       "      <td>415</td>\n",
       "    </tr>\n",
       "    <tr>\n",
       "      <th>0</th>\n",
       "      <td>female</td>\n",
       "      <td>payment_service</td>\n",
       "      <td>429</td>\n",
       "    </tr>\n",
       "    <tr>\n",
       "      <th>5</th>\n",
       "      <td>male</td>\n",
       "      <td>cash</td>\n",
       "      <td>867</td>\n",
       "    </tr>\n",
       "    <tr>\n",
       "      <th>4</th>\n",
       "      <td>male</td>\n",
       "      <td>payment_service</td>\n",
       "      <td>882</td>\n",
       "    </tr>\n",
       "    <tr>\n",
       "      <th>3</th>\n",
       "      <td>male</td>\n",
       "      <td>credit_debit_card</td>\n",
       "      <td>903</td>\n",
       "    </tr>\n",
       "  </tbody>\n",
       "</table>\n",
       "</div>"
      ],
      "text/plain": [
       "   gender     payment_method  total_customers\n",
       "2  female  credit_debit_card              404\n",
       "1  female               cash              415\n",
       "0  female    payment_service              429\n",
       "5    male               cash              867\n",
       "4    male    payment_service              882\n",
       "3    male  credit_debit_card              903"
      ]
     },
     "execution_count": 35,
     "metadata": {},
     "output_type": "execute_result"
    }
   ],
   "source": [
    "payment = df.groupby('gender').agg({'payment_method': 'value_counts'})\n",
    "payment.columns = ['total_customers']\n",
    "payment = payment.reset_index().sort_values(by='total_customers')\n",
    "payment"
   ]
  },
  {
   "cell_type": "code",
   "execution_count": 36,
   "metadata": {},
   "outputs": [],
   "source": [
    "m_count = df[df['gender'] == 'male'].agg({'location': 'value_counts'})\n",
    "m_count.columns = ['total_customers']\n",
    "m_count = m_count.reset_index()\n",
    "\n",
    "f_count = df[df['gender'] == 'female'].agg({'location': 'value_counts'})\n",
    "f_count.columns = ['total_customers']\n",
    "f_count = f_count.reset_index()"
   ]
  },
  {
   "cell_type": "code",
   "execution_count": 37,
   "metadata": {},
   "outputs": [
    {
     "data": {
      "text/html": [
       "<div>\n",
       "<style scoped>\n",
       "    .dataframe tbody tr th:only-of-type {\n",
       "        vertical-align: middle;\n",
       "    }\n",
       "\n",
       "    .dataframe tbody tr th {\n",
       "        vertical-align: top;\n",
       "    }\n",
       "\n",
       "    .dataframe thead th {\n",
       "        text-align: right;\n",
       "    }\n",
       "</style>\n",
       "<table border=\"1\" class=\"dataframe\">\n",
       "  <thead>\n",
       "    <tr style=\"text-align: right;\">\n",
       "      <th></th>\n",
       "      <th>location</th>\n",
       "      <th>total_customers</th>\n",
       "    </tr>\n",
       "  </thead>\n",
       "  <tbody>\n",
       "    <tr>\n",
       "      <th>0</th>\n",
       "      <td>california</td>\n",
       "      <td>66</td>\n",
       "    </tr>\n",
       "    <tr>\n",
       "      <th>1</th>\n",
       "      <td>missouri</td>\n",
       "      <td>63</td>\n",
       "    </tr>\n",
       "    <tr>\n",
       "      <th>2</th>\n",
       "      <td>alabama</td>\n",
       "      <td>62</td>\n",
       "    </tr>\n",
       "    <tr>\n",
       "      <th>3</th>\n",
       "      <td>vermont</td>\n",
       "      <td>62</td>\n",
       "    </tr>\n",
       "    <tr>\n",
       "      <th>4</th>\n",
       "      <td>new_york</td>\n",
       "      <td>62</td>\n",
       "    </tr>\n",
       "    <tr>\n",
       "      <th>5</th>\n",
       "      <td>illinois</td>\n",
       "      <td>62</td>\n",
       "    </tr>\n",
       "    <tr>\n",
       "      <th>6</th>\n",
       "      <td>indiana</td>\n",
       "      <td>62</td>\n",
       "    </tr>\n",
       "    <tr>\n",
       "      <th>7</th>\n",
       "      <td>delaware</td>\n",
       "      <td>61</td>\n",
       "    </tr>\n",
       "    <tr>\n",
       "      <th>8</th>\n",
       "      <td>new_mexico</td>\n",
       "      <td>61</td>\n",
       "    </tr>\n",
       "    <tr>\n",
       "      <th>9</th>\n",
       "      <td>minnesota</td>\n",
       "      <td>60</td>\n",
       "    </tr>\n",
       "    <tr>\n",
       "      <th>10</th>\n",
       "      <td>north_dakota</td>\n",
       "      <td>59</td>\n",
       "    </tr>\n",
       "    <tr>\n",
       "      <th>11</th>\n",
       "      <td>idaho</td>\n",
       "      <td>59</td>\n",
       "    </tr>\n",
       "    <tr>\n",
       "      <th>12</th>\n",
       "      <td>maryland</td>\n",
       "      <td>58</td>\n",
       "    </tr>\n",
       "    <tr>\n",
       "      <th>13</th>\n",
       "      <td>west_virginia</td>\n",
       "      <td>58</td>\n",
       "    </tr>\n",
       "    <tr>\n",
       "      <th>14</th>\n",
       "      <td>nevada</td>\n",
       "      <td>58</td>\n",
       "    </tr>\n",
       "    <tr>\n",
       "      <th>15</th>\n",
       "      <td>nebraska</td>\n",
       "      <td>58</td>\n",
       "    </tr>\n",
       "    <tr>\n",
       "      <th>16</th>\n",
       "      <td>montana</td>\n",
       "      <td>58</td>\n",
       "    </tr>\n",
       "    <tr>\n",
       "      <th>17</th>\n",
       "      <td>louisiana</td>\n",
       "      <td>57</td>\n",
       "    </tr>\n",
       "    <tr>\n",
       "      <th>18</th>\n",
       "      <td>massachusetts</td>\n",
       "      <td>56</td>\n",
       "    </tr>\n",
       "    <tr>\n",
       "      <th>19</th>\n",
       "      <td>south_carolina</td>\n",
       "      <td>55</td>\n",
       "    </tr>\n",
       "    <tr>\n",
       "      <th>20</th>\n",
       "      <td>mississippi</td>\n",
       "      <td>55</td>\n",
       "    </tr>\n",
       "    <tr>\n",
       "      <th>21</th>\n",
       "      <td>north_carolina</td>\n",
       "      <td>55</td>\n",
       "    </tr>\n",
       "    <tr>\n",
       "      <th>22</th>\n",
       "      <td>arkansas</td>\n",
       "      <td>54</td>\n",
       "    </tr>\n",
       "    <tr>\n",
       "      <th>23</th>\n",
       "      <td>virginia</td>\n",
       "      <td>53</td>\n",
       "    </tr>\n",
       "    <tr>\n",
       "      <th>24</th>\n",
       "      <td>oregon</td>\n",
       "      <td>53</td>\n",
       "    </tr>\n",
       "    <tr>\n",
       "      <th>25</th>\n",
       "      <td>iowa</td>\n",
       "      <td>52</td>\n",
       "    </tr>\n",
       "    <tr>\n",
       "      <th>26</th>\n",
       "      <td>oklahoma</td>\n",
       "      <td>52</td>\n",
       "    </tr>\n",
       "    <tr>\n",
       "      <th>27</th>\n",
       "      <td>connecticut</td>\n",
       "      <td>51</td>\n",
       "    </tr>\n",
       "    <tr>\n",
       "      <th>28</th>\n",
       "      <td>wyoming</td>\n",
       "      <td>51</td>\n",
       "    </tr>\n",
       "    <tr>\n",
       "      <th>29</th>\n",
       "      <td>hawaii</td>\n",
       "      <td>51</td>\n",
       "    </tr>\n",
       "    <tr>\n",
       "      <th>30</th>\n",
       "      <td>wisconsin</td>\n",
       "      <td>50</td>\n",
       "    </tr>\n",
       "    <tr>\n",
       "      <th>31</th>\n",
       "      <td>new_hampshire</td>\n",
       "      <td>50</td>\n",
       "    </tr>\n",
       "    <tr>\n",
       "      <th>32</th>\n",
       "      <td>maine</td>\n",
       "      <td>50</td>\n",
       "    </tr>\n",
       "    <tr>\n",
       "      <th>33</th>\n",
       "      <td>tennessee</td>\n",
       "      <td>50</td>\n",
       "    </tr>\n",
       "    <tr>\n",
       "      <th>34</th>\n",
       "      <td>colorado</td>\n",
       "      <td>49</td>\n",
       "    </tr>\n",
       "    <tr>\n",
       "      <th>35</th>\n",
       "      <td>michigan</td>\n",
       "      <td>49</td>\n",
       "    </tr>\n",
       "    <tr>\n",
       "      <th>36</th>\n",
       "      <td>kentucky</td>\n",
       "      <td>49</td>\n",
       "    </tr>\n",
       "    <tr>\n",
       "      <th>37</th>\n",
       "      <td>ohio</td>\n",
       "      <td>49</td>\n",
       "    </tr>\n",
       "    <tr>\n",
       "      <th>38</th>\n",
       "      <td>georgia</td>\n",
       "      <td>49</td>\n",
       "    </tr>\n",
       "    <tr>\n",
       "      <th>39</th>\n",
       "      <td>washington</td>\n",
       "      <td>48</td>\n",
       "    </tr>\n",
       "    <tr>\n",
       "      <th>40</th>\n",
       "      <td>alaska</td>\n",
       "      <td>48</td>\n",
       "    </tr>\n",
       "    <tr>\n",
       "      <th>41</th>\n",
       "      <td>florida</td>\n",
       "      <td>48</td>\n",
       "    </tr>\n",
       "    <tr>\n",
       "      <th>42</th>\n",
       "      <td>south_dakota</td>\n",
       "      <td>48</td>\n",
       "    </tr>\n",
       "    <tr>\n",
       "      <th>43</th>\n",
       "      <td>pennsylvania</td>\n",
       "      <td>47</td>\n",
       "    </tr>\n",
       "    <tr>\n",
       "      <th>44</th>\n",
       "      <td>texas</td>\n",
       "      <td>44</td>\n",
       "    </tr>\n",
       "    <tr>\n",
       "      <th>45</th>\n",
       "      <td>utah</td>\n",
       "      <td>44</td>\n",
       "    </tr>\n",
       "    <tr>\n",
       "      <th>46</th>\n",
       "      <td>new_jersey</td>\n",
       "      <td>43</td>\n",
       "    </tr>\n",
       "    <tr>\n",
       "      <th>47</th>\n",
       "      <td>arizona</td>\n",
       "      <td>40</td>\n",
       "    </tr>\n",
       "    <tr>\n",
       "      <th>48</th>\n",
       "      <td>rhode_island</td>\n",
       "      <td>40</td>\n",
       "    </tr>\n",
       "    <tr>\n",
       "      <th>49</th>\n",
       "      <td>kansas</td>\n",
       "      <td>33</td>\n",
       "    </tr>\n",
       "  </tbody>\n",
       "</table>\n",
       "</div>"
      ],
      "text/plain": [
       "          location  total_customers\n",
       "0       california               66\n",
       "1         missouri               63\n",
       "2          alabama               62\n",
       "3          vermont               62\n",
       "4         new_york               62\n",
       "5         illinois               62\n",
       "6          indiana               62\n",
       "7         delaware               61\n",
       "8       new_mexico               61\n",
       "9        minnesota               60\n",
       "10    north_dakota               59\n",
       "11           idaho               59\n",
       "12        maryland               58\n",
       "13   west_virginia               58\n",
       "14          nevada               58\n",
       "15        nebraska               58\n",
       "16         montana               58\n",
       "17       louisiana               57\n",
       "18   massachusetts               56\n",
       "19  south_carolina               55\n",
       "20     mississippi               55\n",
       "21  north_carolina               55\n",
       "22        arkansas               54\n",
       "23        virginia               53\n",
       "24          oregon               53\n",
       "25            iowa               52\n",
       "26        oklahoma               52\n",
       "27     connecticut               51\n",
       "28         wyoming               51\n",
       "29          hawaii               51\n",
       "30       wisconsin               50\n",
       "31   new_hampshire               50\n",
       "32           maine               50\n",
       "33       tennessee               50\n",
       "34        colorado               49\n",
       "35        michigan               49\n",
       "36        kentucky               49\n",
       "37            ohio               49\n",
       "38         georgia               49\n",
       "39      washington               48\n",
       "40          alaska               48\n",
       "41         florida               48\n",
       "42    south_dakota               48\n",
       "43    pennsylvania               47\n",
       "44           texas               44\n",
       "45            utah               44\n",
       "46      new_jersey               43\n",
       "47         arizona               40\n",
       "48    rhode_island               40\n",
       "49          kansas               33"
      ]
     },
     "execution_count": 37,
     "metadata": {},
     "output_type": "execute_result"
    }
   ],
   "source": [
    "m_count"
   ]
  },
  {
   "cell_type": "markdown",
   "metadata": {},
   "source": [
    "Observation:\n",
    "\n",
    "- "
   ]
  },
  {
   "cell_type": "markdown",
   "metadata": {},
   "source": [
    "[Back to Table of Contents](#back)"
   ]
  },
  {
   "cell_type": "markdown",
   "metadata": {},
   "source": [
    "## Conclusions and Reccomendations"
   ]
  },
  {
   "cell_type": "markdown",
   "metadata": {},
   "source": [
    "[Back to Table of Contents](#back)"
   ]
  },
  {
   "cell_type": "markdown",
   "metadata": {},
   "source": [
    "## Dataset Citation\n",
    "\n",
    "Zee solver. (2023, October). Consumer Behavior and Shopping Habits Dataset, Version 1. Retrieved September 23, 2025 from [Kaggle](https://www.kaggle.com/datasets/zeesolver/consumer-behavior-and-shopping-habits-dataset/data)."
   ]
  },
  {
   "cell_type": "markdown",
   "metadata": {},
   "source": [
    "[Back to Table of Contents](#back)"
   ]
  }
 ],
 "metadata": {
  "kernelspec": {
   "display_name": "base",
   "language": "python",
   "name": "python3"
  },
  "language_info": {
   "codemirror_mode": {
    "name": "ipython",
    "version": 3
   },
   "file_extension": ".py",
   "mimetype": "text/x-python",
   "name": "python",
   "nbconvert_exporter": "python",
   "pygments_lexer": "ipython3",
   "version": "3.12.7"
  },
  "orig_nbformat": 4
 },
 "nbformat": 4,
 "nbformat_minor": 2
}
