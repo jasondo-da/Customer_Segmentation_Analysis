{
 "cells": [
  {
   "cell_type": "markdown",
   "metadata": {},
   "source": [
    "# Customer Lifestyle and Purchase Trend Segmentation\n",
    "\n",
    "## Table of Contents <a id='back'></a>\n",
    "- [Project Introduction](#project-introduction)\n",
    "    - [Analysis Outline](#analysis-outline)\n",
    "    - [Results](#results)\n",
    "- [Importing Libraries and Opening Data Files](#importing-libraries-and-opening-data-files)\n",
    "- [Data Wrangling](#data-wrangling)\n",
    "    - [Duplicates](#duplicates)\n",
    "    - [Missing Values](#missing-values)\n",
    "    - [Formatting](#formatting)\n",
    "    - [Removing Irrelevant Data](#removing-irrelevant-data)\n",
    "- [Exploratory Data Analysis](#exploratory-data-analysis)\n",
    "- [Conclusions and Reccomendations](#conclusions-and-reccomendations)\n",
    "- [Dataset Citation](#dataset-citation)"
   ]
  },
  {
   "cell_type": "markdown",
   "metadata": {},
   "source": [
    "## Project Introduction\n",
    "\n",
    "[project intro]\n",
    "\n",
    "### Analysis Outline\n",
    "\n",
    "[Analysis Outline]\n",
    "\n",
    "### Results\n",
    "\n",
    "[Results]\n"
   ]
  },
  {
   "cell_type": "markdown",
   "metadata": {},
   "source": [
    "[Back to Table of Contents](#back)"
   ]
  },
  {
   "cell_type": "markdown",
   "metadata": {},
   "source": [
    "## Importing Libraries and Opening Data Files"
   ]
  },
  {
   "cell_type": "code",
   "execution_count": 1,
   "metadata": {},
   "outputs": [],
   "source": [
    "# Importing the needed libraries for this assignment\n",
    "import pandas as pd\n",
    "import numpy as np\n",
    "from matplotlib import pyplot as plt\n",
    "import seaborn as sns\n",
    "import math\n",
    "import folium\n",
    "from geopy.geocoders import Nominatim\n",
    "import requests"
   ]
  },
  {
   "cell_type": "code",
   "execution_count": 2,
   "metadata": {},
   "outputs": [],
   "source": [
    "# Importing file for assignment\n",
    "try:\n",
    "    df = pd.read_csv('shopping_behavior_updated.csv', sep=',')\n",
    "except:\n",
    "    df = pd.read_csv('/datasets/shopping_behavior_updated.csv', sep=',')"
   ]
  },
  {
   "cell_type": "markdown",
   "metadata": {},
   "source": [
    "[Back to Table of Contents](#back)"
   ]
  },
  {
   "cell_type": "markdown",
   "metadata": {},
   "source": [
    "## Data Wrangling"
   ]
  },
  {
   "cell_type": "code",
   "execution_count": 3,
   "metadata": {},
   "outputs": [
    {
     "name": "stdout",
     "output_type": "stream",
     "text": [
      "<class 'pandas.core.frame.DataFrame'>\n",
      "RangeIndex: 3900 entries, 0 to 3899\n",
      "Data columns (total 18 columns):\n",
      " #   Column                  Non-Null Count  Dtype  \n",
      "---  ------                  --------------  -----  \n",
      " 0   Customer ID             3900 non-null   int64  \n",
      " 1   Age                     3900 non-null   int64  \n",
      " 2   Gender                  3900 non-null   object \n",
      " 3   Item Purchased          3900 non-null   object \n",
      " 4   Category                3900 non-null   object \n",
      " 5   Purchase Amount (USD)   3900 non-null   int64  \n",
      " 6   Location                3900 non-null   object \n",
      " 7   Size                    3900 non-null   object \n",
      " 8   Color                   3900 non-null   object \n",
      " 9   Season                  3900 non-null   object \n",
      " 10  Review Rating           3900 non-null   float64\n",
      " 11  Subscription Status     3900 non-null   object \n",
      " 12  Shipping Type           3900 non-null   object \n",
      " 13  Discount Applied        3900 non-null   object \n",
      " 14  Promo Code Used         3900 non-null   object \n",
      " 15  Previous Purchases      3900 non-null   int64  \n",
      " 16  Payment Method          3900 non-null   object \n",
      " 17  Frequency of Purchases  3900 non-null   object \n",
      "dtypes: float64(1), int64(4), object(13)\n",
      "memory usage: 548.6+ KB\n"
     ]
    },
    {
     "data": {
      "text/html": [
       "<div>\n",
       "<style scoped>\n",
       "    .dataframe tbody tr th:only-of-type {\n",
       "        vertical-align: middle;\n",
       "    }\n",
       "\n",
       "    .dataframe tbody tr th {\n",
       "        vertical-align: top;\n",
       "    }\n",
       "\n",
       "    .dataframe thead th {\n",
       "        text-align: right;\n",
       "    }\n",
       "</style>\n",
       "<table border=\"1\" class=\"dataframe\">\n",
       "  <thead>\n",
       "    <tr style=\"text-align: right;\">\n",
       "      <th></th>\n",
       "      <th>Customer ID</th>\n",
       "      <th>Age</th>\n",
       "      <th>Gender</th>\n",
       "      <th>Item Purchased</th>\n",
       "      <th>Category</th>\n",
       "      <th>Purchase Amount (USD)</th>\n",
       "      <th>Location</th>\n",
       "      <th>Size</th>\n",
       "      <th>Color</th>\n",
       "      <th>Season</th>\n",
       "      <th>Review Rating</th>\n",
       "      <th>Subscription Status</th>\n",
       "      <th>Shipping Type</th>\n",
       "      <th>Discount Applied</th>\n",
       "      <th>Promo Code Used</th>\n",
       "      <th>Previous Purchases</th>\n",
       "      <th>Payment Method</th>\n",
       "      <th>Frequency of Purchases</th>\n",
       "    </tr>\n",
       "  </thead>\n",
       "  <tbody>\n",
       "    <tr>\n",
       "      <th>0</th>\n",
       "      <td>1</td>\n",
       "      <td>55</td>\n",
       "      <td>Male</td>\n",
       "      <td>Blouse</td>\n",
       "      <td>Clothing</td>\n",
       "      <td>53</td>\n",
       "      <td>Kentucky</td>\n",
       "      <td>L</td>\n",
       "      <td>Gray</td>\n",
       "      <td>Winter</td>\n",
       "      <td>3.1</td>\n",
       "      <td>Yes</td>\n",
       "      <td>Express</td>\n",
       "      <td>Yes</td>\n",
       "      <td>Yes</td>\n",
       "      <td>14</td>\n",
       "      <td>Venmo</td>\n",
       "      <td>Fortnightly</td>\n",
       "    </tr>\n",
       "    <tr>\n",
       "      <th>1</th>\n",
       "      <td>2</td>\n",
       "      <td>19</td>\n",
       "      <td>Male</td>\n",
       "      <td>Sweater</td>\n",
       "      <td>Clothing</td>\n",
       "      <td>64</td>\n",
       "      <td>Maine</td>\n",
       "      <td>L</td>\n",
       "      <td>Maroon</td>\n",
       "      <td>Winter</td>\n",
       "      <td>3.1</td>\n",
       "      <td>Yes</td>\n",
       "      <td>Express</td>\n",
       "      <td>Yes</td>\n",
       "      <td>Yes</td>\n",
       "      <td>2</td>\n",
       "      <td>Cash</td>\n",
       "      <td>Fortnightly</td>\n",
       "    </tr>\n",
       "    <tr>\n",
       "      <th>2</th>\n",
       "      <td>3</td>\n",
       "      <td>50</td>\n",
       "      <td>Male</td>\n",
       "      <td>Jeans</td>\n",
       "      <td>Clothing</td>\n",
       "      <td>73</td>\n",
       "      <td>Massachusetts</td>\n",
       "      <td>S</td>\n",
       "      <td>Maroon</td>\n",
       "      <td>Spring</td>\n",
       "      <td>3.1</td>\n",
       "      <td>Yes</td>\n",
       "      <td>Free Shipping</td>\n",
       "      <td>Yes</td>\n",
       "      <td>Yes</td>\n",
       "      <td>23</td>\n",
       "      <td>Credit Card</td>\n",
       "      <td>Weekly</td>\n",
       "    </tr>\n",
       "    <tr>\n",
       "      <th>3</th>\n",
       "      <td>4</td>\n",
       "      <td>21</td>\n",
       "      <td>Male</td>\n",
       "      <td>Sandals</td>\n",
       "      <td>Footwear</td>\n",
       "      <td>90</td>\n",
       "      <td>Rhode Island</td>\n",
       "      <td>M</td>\n",
       "      <td>Maroon</td>\n",
       "      <td>Spring</td>\n",
       "      <td>3.5</td>\n",
       "      <td>Yes</td>\n",
       "      <td>Next Day Air</td>\n",
       "      <td>Yes</td>\n",
       "      <td>Yes</td>\n",
       "      <td>49</td>\n",
       "      <td>PayPal</td>\n",
       "      <td>Weekly</td>\n",
       "    </tr>\n",
       "    <tr>\n",
       "      <th>4</th>\n",
       "      <td>5</td>\n",
       "      <td>45</td>\n",
       "      <td>Male</td>\n",
       "      <td>Blouse</td>\n",
       "      <td>Clothing</td>\n",
       "      <td>49</td>\n",
       "      <td>Oregon</td>\n",
       "      <td>M</td>\n",
       "      <td>Turquoise</td>\n",
       "      <td>Spring</td>\n",
       "      <td>2.7</td>\n",
       "      <td>Yes</td>\n",
       "      <td>Free Shipping</td>\n",
       "      <td>Yes</td>\n",
       "      <td>Yes</td>\n",
       "      <td>31</td>\n",
       "      <td>PayPal</td>\n",
       "      <td>Annually</td>\n",
       "    </tr>\n",
       "  </tbody>\n",
       "</table>\n",
       "</div>"
      ],
      "text/plain": [
       "   Customer ID  Age Gender Item Purchased  Category  Purchase Amount (USD)  \\\n",
       "0            1   55   Male         Blouse  Clothing                     53   \n",
       "1            2   19   Male        Sweater  Clothing                     64   \n",
       "2            3   50   Male          Jeans  Clothing                     73   \n",
       "3            4   21   Male        Sandals  Footwear                     90   \n",
       "4            5   45   Male         Blouse  Clothing                     49   \n",
       "\n",
       "        Location Size      Color  Season  Review Rating Subscription Status  \\\n",
       "0       Kentucky    L       Gray  Winter            3.1                 Yes   \n",
       "1          Maine    L     Maroon  Winter            3.1                 Yes   \n",
       "2  Massachusetts    S     Maroon  Spring            3.1                 Yes   \n",
       "3   Rhode Island    M     Maroon  Spring            3.5                 Yes   \n",
       "4         Oregon    M  Turquoise  Spring            2.7                 Yes   \n",
       "\n",
       "   Shipping Type Discount Applied Promo Code Used  Previous Purchases  \\\n",
       "0        Express              Yes             Yes                  14   \n",
       "1        Express              Yes             Yes                   2   \n",
       "2  Free Shipping              Yes             Yes                  23   \n",
       "3   Next Day Air              Yes             Yes                  49   \n",
       "4  Free Shipping              Yes             Yes                  31   \n",
       "\n",
       "  Payment Method Frequency of Purchases  \n",
       "0          Venmo            Fortnightly  \n",
       "1           Cash            Fortnightly  \n",
       "2    Credit Card                 Weekly  \n",
       "3         PayPal                 Weekly  \n",
       "4         PayPal               Annually  "
      ]
     },
     "execution_count": 3,
     "metadata": {},
     "output_type": "execute_result"
    }
   ],
   "source": [
    "df.info()\n",
    "df.head()"
   ]
  },
  {
   "cell_type": "markdown",
   "metadata": {},
   "source": [
    "### Duplicates"
   ]
  },
  {
   "cell_type": "code",
   "execution_count": 4,
   "metadata": {},
   "outputs": [
    {
     "data": {
      "text/plain": [
       "0"
      ]
     },
     "execution_count": 4,
     "metadata": {},
     "output_type": "execute_result"
    }
   ],
   "source": [
    "# Checking for duplicates\n",
    "df.duplicated().sum()"
   ]
  },
  {
   "cell_type": "markdown",
   "metadata": {},
   "source": [
    "[Back to Table of Contents](#back)"
   ]
  },
  {
   "cell_type": "markdown",
   "metadata": {},
   "source": [
    "### Missing Values"
   ]
  },
  {
   "cell_type": "code",
   "execution_count": 5,
   "metadata": {},
   "outputs": [
    {
     "data": {
      "text/plain": [
       "Customer ID               0\n",
       "Age                       0\n",
       "Gender                    0\n",
       "Item Purchased            0\n",
       "Category                  0\n",
       "Purchase Amount (USD)     0\n",
       "Location                  0\n",
       "Size                      0\n",
       "Color                     0\n",
       "Season                    0\n",
       "Review Rating             0\n",
       "Subscription Status       0\n",
       "Shipping Type             0\n",
       "Discount Applied          0\n",
       "Promo Code Used           0\n",
       "Previous Purchases        0\n",
       "Payment Method            0\n",
       "Frequency of Purchases    0\n",
       "dtype: int64"
      ]
     },
     "execution_count": 5,
     "metadata": {},
     "output_type": "execute_result"
    }
   ],
   "source": [
    "# Checking for null values\n",
    "df.isna().sum()"
   ]
  },
  {
   "cell_type": "markdown",
   "metadata": {},
   "source": [
    "[Back to Table of Contents](#back)"
   ]
  },
  {
   "cell_type": "markdown",
   "metadata": {},
   "source": [
    "### Formatting"
   ]
  },
  {
   "cell_type": "code",
   "execution_count": 6,
   "metadata": {},
   "outputs": [
    {
     "name": "stdout",
     "output_type": "stream",
     "text": [
      "<class 'pandas.core.frame.DataFrame'>\n",
      "RangeIndex: 3900 entries, 0 to 3899\n",
      "Data columns (total 18 columns):\n",
      " #   Column                  Non-Null Count  Dtype  \n",
      "---  ------                  --------------  -----  \n",
      " 0   Customer ID             3900 non-null   int64  \n",
      " 1   Age                     3900 non-null   int64  \n",
      " 2   Gender                  3900 non-null   object \n",
      " 3   Item Purchased          3900 non-null   object \n",
      " 4   Category                3900 non-null   object \n",
      " 5   Purchase Amount (USD)   3900 non-null   int64  \n",
      " 6   Location                3900 non-null   object \n",
      " 7   Size                    3900 non-null   object \n",
      " 8   Color                   3900 non-null   object \n",
      " 9   Season                  3900 non-null   object \n",
      " 10  Review Rating           3900 non-null   float64\n",
      " 11  Subscription Status     3900 non-null   object \n",
      " 12  Shipping Type           3900 non-null   object \n",
      " 13  Discount Applied        3900 non-null   object \n",
      " 14  Promo Code Used         3900 non-null   object \n",
      " 15  Previous Purchases      3900 non-null   int64  \n",
      " 16  Payment Method          3900 non-null   object \n",
      " 17  Frequency of Purchases  3900 non-null   object \n",
      "dtypes: float64(1), int64(4), object(13)\n",
      "memory usage: 548.6+ KB\n"
     ]
    },
    {
     "data": {
      "text/html": [
       "<div>\n",
       "<style scoped>\n",
       "    .dataframe tbody tr th:only-of-type {\n",
       "        vertical-align: middle;\n",
       "    }\n",
       "\n",
       "    .dataframe tbody tr th {\n",
       "        vertical-align: top;\n",
       "    }\n",
       "\n",
       "    .dataframe thead th {\n",
       "        text-align: right;\n",
       "    }\n",
       "</style>\n",
       "<table border=\"1\" class=\"dataframe\">\n",
       "  <thead>\n",
       "    <tr style=\"text-align: right;\">\n",
       "      <th></th>\n",
       "      <th>Customer ID</th>\n",
       "      <th>Age</th>\n",
       "      <th>Gender</th>\n",
       "      <th>Item Purchased</th>\n",
       "      <th>Category</th>\n",
       "      <th>Purchase Amount (USD)</th>\n",
       "      <th>Location</th>\n",
       "      <th>Size</th>\n",
       "      <th>Color</th>\n",
       "      <th>Season</th>\n",
       "      <th>Review Rating</th>\n",
       "      <th>Subscription Status</th>\n",
       "      <th>Shipping Type</th>\n",
       "      <th>Discount Applied</th>\n",
       "      <th>Promo Code Used</th>\n",
       "      <th>Previous Purchases</th>\n",
       "      <th>Payment Method</th>\n",
       "      <th>Frequency of Purchases</th>\n",
       "    </tr>\n",
       "  </thead>\n",
       "  <tbody>\n",
       "    <tr>\n",
       "      <th>0</th>\n",
       "      <td>1</td>\n",
       "      <td>55</td>\n",
       "      <td>Male</td>\n",
       "      <td>Blouse</td>\n",
       "      <td>Clothing</td>\n",
       "      <td>53</td>\n",
       "      <td>Kentucky</td>\n",
       "      <td>L</td>\n",
       "      <td>Gray</td>\n",
       "      <td>Winter</td>\n",
       "      <td>3.1</td>\n",
       "      <td>Yes</td>\n",
       "      <td>Express</td>\n",
       "      <td>Yes</td>\n",
       "      <td>Yes</td>\n",
       "      <td>14</td>\n",
       "      <td>Venmo</td>\n",
       "      <td>Fortnightly</td>\n",
       "    </tr>\n",
       "    <tr>\n",
       "      <th>1</th>\n",
       "      <td>2</td>\n",
       "      <td>19</td>\n",
       "      <td>Male</td>\n",
       "      <td>Sweater</td>\n",
       "      <td>Clothing</td>\n",
       "      <td>64</td>\n",
       "      <td>Maine</td>\n",
       "      <td>L</td>\n",
       "      <td>Maroon</td>\n",
       "      <td>Winter</td>\n",
       "      <td>3.1</td>\n",
       "      <td>Yes</td>\n",
       "      <td>Express</td>\n",
       "      <td>Yes</td>\n",
       "      <td>Yes</td>\n",
       "      <td>2</td>\n",
       "      <td>Cash</td>\n",
       "      <td>Fortnightly</td>\n",
       "    </tr>\n",
       "    <tr>\n",
       "      <th>2</th>\n",
       "      <td>3</td>\n",
       "      <td>50</td>\n",
       "      <td>Male</td>\n",
       "      <td>Jeans</td>\n",
       "      <td>Clothing</td>\n",
       "      <td>73</td>\n",
       "      <td>Massachusetts</td>\n",
       "      <td>S</td>\n",
       "      <td>Maroon</td>\n",
       "      <td>Spring</td>\n",
       "      <td>3.1</td>\n",
       "      <td>Yes</td>\n",
       "      <td>Free Shipping</td>\n",
       "      <td>Yes</td>\n",
       "      <td>Yes</td>\n",
       "      <td>23</td>\n",
       "      <td>Credit Card</td>\n",
       "      <td>Weekly</td>\n",
       "    </tr>\n",
       "    <tr>\n",
       "      <th>3</th>\n",
       "      <td>4</td>\n",
       "      <td>21</td>\n",
       "      <td>Male</td>\n",
       "      <td>Sandals</td>\n",
       "      <td>Footwear</td>\n",
       "      <td>90</td>\n",
       "      <td>Rhode Island</td>\n",
       "      <td>M</td>\n",
       "      <td>Maroon</td>\n",
       "      <td>Spring</td>\n",
       "      <td>3.5</td>\n",
       "      <td>Yes</td>\n",
       "      <td>Next Day Air</td>\n",
       "      <td>Yes</td>\n",
       "      <td>Yes</td>\n",
       "      <td>49</td>\n",
       "      <td>PayPal</td>\n",
       "      <td>Weekly</td>\n",
       "    </tr>\n",
       "    <tr>\n",
       "      <th>4</th>\n",
       "      <td>5</td>\n",
       "      <td>45</td>\n",
       "      <td>Male</td>\n",
       "      <td>Blouse</td>\n",
       "      <td>Clothing</td>\n",
       "      <td>49</td>\n",
       "      <td>Oregon</td>\n",
       "      <td>M</td>\n",
       "      <td>Turquoise</td>\n",
       "      <td>Spring</td>\n",
       "      <td>2.7</td>\n",
       "      <td>Yes</td>\n",
       "      <td>Free Shipping</td>\n",
       "      <td>Yes</td>\n",
       "      <td>Yes</td>\n",
       "      <td>31</td>\n",
       "      <td>PayPal</td>\n",
       "      <td>Annually</td>\n",
       "    </tr>\n",
       "  </tbody>\n",
       "</table>\n",
       "</div>"
      ],
      "text/plain": [
       "   Customer ID  Age Gender Item Purchased  Category  Purchase Amount (USD)  \\\n",
       "0            1   55   Male         Blouse  Clothing                     53   \n",
       "1            2   19   Male        Sweater  Clothing                     64   \n",
       "2            3   50   Male          Jeans  Clothing                     73   \n",
       "3            4   21   Male        Sandals  Footwear                     90   \n",
       "4            5   45   Male         Blouse  Clothing                     49   \n",
       "\n",
       "        Location Size      Color  Season  Review Rating Subscription Status  \\\n",
       "0       Kentucky    L       Gray  Winter            3.1                 Yes   \n",
       "1          Maine    L     Maroon  Winter            3.1                 Yes   \n",
       "2  Massachusetts    S     Maroon  Spring            3.1                 Yes   \n",
       "3   Rhode Island    M     Maroon  Spring            3.5                 Yes   \n",
       "4         Oregon    M  Turquoise  Spring            2.7                 Yes   \n",
       "\n",
       "   Shipping Type Discount Applied Promo Code Used  Previous Purchases  \\\n",
       "0        Express              Yes             Yes                  14   \n",
       "1        Express              Yes             Yes                   2   \n",
       "2  Free Shipping              Yes             Yes                  23   \n",
       "3   Next Day Air              Yes             Yes                  49   \n",
       "4  Free Shipping              Yes             Yes                  31   \n",
       "\n",
       "  Payment Method Frequency of Purchases  \n",
       "0          Venmo            Fortnightly  \n",
       "1           Cash            Fortnightly  \n",
       "2    Credit Card                 Weekly  \n",
       "3         PayPal                 Weekly  \n",
       "4         PayPal               Annually  "
      ]
     },
     "execution_count": 6,
     "metadata": {},
     "output_type": "execute_result"
    }
   ],
   "source": [
    "# Getting general information about the dataset\n",
    "df.info()\n",
    "df.head()"
   ]
  },
  {
   "cell_type": "code",
   "execution_count": 7,
   "metadata": {},
   "outputs": [
    {
     "data": {
      "text/plain": [
       "Index(['Customer ID', 'Age', 'Gender', 'Item Purchased', 'Category',\n",
       "       'Purchase Amount (USD)', 'Location', 'Size', 'Color', 'Season',\n",
       "       'Review Rating', 'Subscription Status', 'Shipping Type',\n",
       "       'Discount Applied', 'Promo Code Used', 'Previous Purchases',\n",
       "       'Payment Method', 'Frequency of Purchases'],\n",
       "      dtype='object')"
      ]
     },
     "execution_count": 7,
     "metadata": {},
     "output_type": "execute_result"
    }
   ],
   "source": [
    "#checking for snakecase format\n",
    "df.columns"
   ]
  },
  {
   "cell_type": "code",
   "execution_count": 8,
   "metadata": {},
   "outputs": [
    {
     "data": {
      "text/plain": [
       "Index(['customer_id', 'age', 'gender', 'item_purchased', 'category',\n",
       "       'usd_total', 'location', 'size', 'color', 'season', 'customer_rating',\n",
       "       'sub_status', 'shipping_type', 'discount_applied', 'promo_code_applied',\n",
       "       'previous_orders', 'payment_method', 'order_freq'],\n",
       "      dtype='object')"
      ]
     },
     "execution_count": 8,
     "metadata": {},
     "output_type": "execute_result"
    }
   ],
   "source": [
    "# Renaming column names to snake_case format\n",
    "df = df.rename(columns={'Customer ID': 'customer_id',\n",
    "                        'Age': 'age',\n",
    "                        'Gender': 'gender',\n",
    "                        'Item Purchased': 'item_purchased',\n",
    "                        'Category': 'category',\n",
    "                        'Purchase Amount (USD)': 'usd_total',\n",
    "                        'Location': 'location',\n",
    "                        'Size': 'size',\n",
    "                        'Color': 'color',\n",
    "                        'Season': 'season',\n",
    "                        'Review Rating': 'customer_rating',\n",
    "                        'Subscription Status': 'sub_status',\n",
    "                        'Shipping Type': 'shipping_type',\n",
    "                        'Discount Applied': 'discount_applied',\n",
    "                        'Promo Code Used': 'promo_code_applied',\n",
    "                        'Previous Purchases': 'previous_orders',\n",
    "                        'Payment Method': 'payment_method',\n",
    "                        'Frequency of Purchases': 'order_freq'})\n",
    "df.columns"
   ]
  },
  {
   "cell_type": "code",
   "execution_count": 9,
   "metadata": {},
   "outputs": [
    {
     "data": {
      "text/html": [
       "<div>\n",
       "<style scoped>\n",
       "    .dataframe tbody tr th:only-of-type {\n",
       "        vertical-align: middle;\n",
       "    }\n",
       "\n",
       "    .dataframe tbody tr th {\n",
       "        vertical-align: top;\n",
       "    }\n",
       "\n",
       "    .dataframe thead th {\n",
       "        text-align: right;\n",
       "    }\n",
       "</style>\n",
       "<table border=\"1\" class=\"dataframe\">\n",
       "  <thead>\n",
       "    <tr style=\"text-align: right;\">\n",
       "      <th></th>\n",
       "      <th>customer_id</th>\n",
       "      <th>age</th>\n",
       "      <th>gender</th>\n",
       "      <th>item_purchased</th>\n",
       "      <th>category</th>\n",
       "      <th>usd_total</th>\n",
       "      <th>location</th>\n",
       "      <th>size</th>\n",
       "      <th>color</th>\n",
       "      <th>season</th>\n",
       "      <th>customer_rating</th>\n",
       "      <th>sub_status</th>\n",
       "      <th>shipping_type</th>\n",
       "      <th>discount_applied</th>\n",
       "      <th>promo_code_applied</th>\n",
       "      <th>previous_orders</th>\n",
       "      <th>payment_method</th>\n",
       "      <th>order_freq</th>\n",
       "    </tr>\n",
       "  </thead>\n",
       "  <tbody>\n",
       "    <tr>\n",
       "      <th>0</th>\n",
       "      <td>1</td>\n",
       "      <td>55</td>\n",
       "      <td>Male</td>\n",
       "      <td>Blouse</td>\n",
       "      <td>Clothing</td>\n",
       "      <td>53</td>\n",
       "      <td>Kentucky</td>\n",
       "      <td>L</td>\n",
       "      <td>Gray</td>\n",
       "      <td>Winter</td>\n",
       "      <td>3.1</td>\n",
       "      <td>Yes</td>\n",
       "      <td>Express</td>\n",
       "      <td>Yes</td>\n",
       "      <td>Yes</td>\n",
       "      <td>14</td>\n",
       "      <td>Venmo</td>\n",
       "      <td>Fortnightly</td>\n",
       "    </tr>\n",
       "    <tr>\n",
       "      <th>1</th>\n",
       "      <td>2</td>\n",
       "      <td>19</td>\n",
       "      <td>Male</td>\n",
       "      <td>Sweater</td>\n",
       "      <td>Clothing</td>\n",
       "      <td>64</td>\n",
       "      <td>Maine</td>\n",
       "      <td>L</td>\n",
       "      <td>Maroon</td>\n",
       "      <td>Winter</td>\n",
       "      <td>3.1</td>\n",
       "      <td>Yes</td>\n",
       "      <td>Express</td>\n",
       "      <td>Yes</td>\n",
       "      <td>Yes</td>\n",
       "      <td>2</td>\n",
       "      <td>Cash</td>\n",
       "      <td>Fortnightly</td>\n",
       "    </tr>\n",
       "    <tr>\n",
       "      <th>2</th>\n",
       "      <td>3</td>\n",
       "      <td>50</td>\n",
       "      <td>Male</td>\n",
       "      <td>Jeans</td>\n",
       "      <td>Clothing</td>\n",
       "      <td>73</td>\n",
       "      <td>Massachusetts</td>\n",
       "      <td>S</td>\n",
       "      <td>Maroon</td>\n",
       "      <td>Spring</td>\n",
       "      <td>3.1</td>\n",
       "      <td>Yes</td>\n",
       "      <td>Free Shipping</td>\n",
       "      <td>Yes</td>\n",
       "      <td>Yes</td>\n",
       "      <td>23</td>\n",
       "      <td>Credit Card</td>\n",
       "      <td>Weekly</td>\n",
       "    </tr>\n",
       "    <tr>\n",
       "      <th>3</th>\n",
       "      <td>4</td>\n",
       "      <td>21</td>\n",
       "      <td>Male</td>\n",
       "      <td>Sandals</td>\n",
       "      <td>Footwear</td>\n",
       "      <td>90</td>\n",
       "      <td>Rhode Island</td>\n",
       "      <td>M</td>\n",
       "      <td>Maroon</td>\n",
       "      <td>Spring</td>\n",
       "      <td>3.5</td>\n",
       "      <td>Yes</td>\n",
       "      <td>Next Day Air</td>\n",
       "      <td>Yes</td>\n",
       "      <td>Yes</td>\n",
       "      <td>49</td>\n",
       "      <td>PayPal</td>\n",
       "      <td>Weekly</td>\n",
       "    </tr>\n",
       "    <tr>\n",
       "      <th>4</th>\n",
       "      <td>5</td>\n",
       "      <td>45</td>\n",
       "      <td>Male</td>\n",
       "      <td>Blouse</td>\n",
       "      <td>Clothing</td>\n",
       "      <td>49</td>\n",
       "      <td>Oregon</td>\n",
       "      <td>M</td>\n",
       "      <td>Turquoise</td>\n",
       "      <td>Spring</td>\n",
       "      <td>2.7</td>\n",
       "      <td>Yes</td>\n",
       "      <td>Free Shipping</td>\n",
       "      <td>Yes</td>\n",
       "      <td>Yes</td>\n",
       "      <td>31</td>\n",
       "      <td>PayPal</td>\n",
       "      <td>Annually</td>\n",
       "    </tr>\n",
       "  </tbody>\n",
       "</table>\n",
       "</div>"
      ],
      "text/plain": [
       "   customer_id  age gender item_purchased  category  usd_total       location  \\\n",
       "0            1   55   Male         Blouse  Clothing         53       Kentucky   \n",
       "1            2   19   Male        Sweater  Clothing         64          Maine   \n",
       "2            3   50   Male          Jeans  Clothing         73  Massachusetts   \n",
       "3            4   21   Male        Sandals  Footwear         90   Rhode Island   \n",
       "4            5   45   Male         Blouse  Clothing         49         Oregon   \n",
       "\n",
       "  size      color  season  customer_rating sub_status  shipping_type  \\\n",
       "0    L       Gray  Winter              3.1        Yes        Express   \n",
       "1    L     Maroon  Winter              3.1        Yes        Express   \n",
       "2    S     Maroon  Spring              3.1        Yes  Free Shipping   \n",
       "3    M     Maroon  Spring              3.5        Yes   Next Day Air   \n",
       "4    M  Turquoise  Spring              2.7        Yes  Free Shipping   \n",
       "\n",
       "  discount_applied promo_code_applied  previous_orders payment_method  \\\n",
       "0              Yes                Yes               14          Venmo   \n",
       "1              Yes                Yes                2           Cash   \n",
       "2              Yes                Yes               23    Credit Card   \n",
       "3              Yes                Yes               49         PayPal   \n",
       "4              Yes                Yes               31         PayPal   \n",
       "\n",
       "    order_freq  \n",
       "0  Fortnightly  \n",
       "1  Fortnightly  \n",
       "2       Weekly  \n",
       "3       Weekly  \n",
       "4     Annually  "
      ]
     },
     "execution_count": 9,
     "metadata": {},
     "output_type": "execute_result"
    }
   ],
   "source": [
    "df.head()"
   ]
  },
  {
   "cell_type": "code",
   "execution_count": 10,
   "metadata": {},
   "outputs": [
    {
     "name": "stdout",
     "output_type": "stream",
     "text": [
      "<class 'pandas.core.frame.DataFrame'>\n",
      "RangeIndex: 3900 entries, 0 to 3899\n",
      "Data columns (total 18 columns):\n",
      " #   Column              Non-Null Count  Dtype   \n",
      "---  ------              --------------  -----   \n",
      " 0   customer_id         3900 non-null   int64   \n",
      " 1   age                 3900 non-null   int64   \n",
      " 2   gender              3900 non-null   category\n",
      " 3   item_purchased      3900 non-null   category\n",
      " 4   category            3900 non-null   category\n",
      " 5   usd_total           3900 non-null   int64   \n",
      " 6   location            3900 non-null   category\n",
      " 7   size                3900 non-null   category\n",
      " 8   color               3900 non-null   category\n",
      " 9   season              3900 non-null   category\n",
      " 10  customer_rating     3900 non-null   float64 \n",
      " 11  sub_status          3900 non-null   category\n",
      " 12  shipping_type       3900 non-null   category\n",
      " 13  discount_applied    3900 non-null   category\n",
      " 14  promo_code_applied  3900 non-null   category\n",
      " 15  previous_orders     3900 non-null   int64   \n",
      " 16  payment_method      3900 non-null   category\n",
      " 17  order_freq          3900 non-null   category\n",
      "dtypes: category(13), float64(1), int64(4)\n",
      "memory usage: 207.8 KB\n"
     ]
    },
    {
     "data": {
      "text/html": [
       "<div>\n",
       "<style scoped>\n",
       "    .dataframe tbody tr th:only-of-type {\n",
       "        vertical-align: middle;\n",
       "    }\n",
       "\n",
       "    .dataframe tbody tr th {\n",
       "        vertical-align: top;\n",
       "    }\n",
       "\n",
       "    .dataframe thead th {\n",
       "        text-align: right;\n",
       "    }\n",
       "</style>\n",
       "<table border=\"1\" class=\"dataframe\">\n",
       "  <thead>\n",
       "    <tr style=\"text-align: right;\">\n",
       "      <th></th>\n",
       "      <th>customer_id</th>\n",
       "      <th>age</th>\n",
       "      <th>gender</th>\n",
       "      <th>item_purchased</th>\n",
       "      <th>category</th>\n",
       "      <th>usd_total</th>\n",
       "      <th>location</th>\n",
       "      <th>size</th>\n",
       "      <th>color</th>\n",
       "      <th>season</th>\n",
       "      <th>customer_rating</th>\n",
       "      <th>sub_status</th>\n",
       "      <th>shipping_type</th>\n",
       "      <th>discount_applied</th>\n",
       "      <th>promo_code_applied</th>\n",
       "      <th>previous_orders</th>\n",
       "      <th>payment_method</th>\n",
       "      <th>order_freq</th>\n",
       "    </tr>\n",
       "  </thead>\n",
       "  <tbody>\n",
       "    <tr>\n",
       "      <th>0</th>\n",
       "      <td>1</td>\n",
       "      <td>55</td>\n",
       "      <td>male</td>\n",
       "      <td>blouse</td>\n",
       "      <td>clothing</td>\n",
       "      <td>53</td>\n",
       "      <td>kentucky</td>\n",
       "      <td>l</td>\n",
       "      <td>gray</td>\n",
       "      <td>winter</td>\n",
       "      <td>3.1</td>\n",
       "      <td>yes</td>\n",
       "      <td>express</td>\n",
       "      <td>yes</td>\n",
       "      <td>yes</td>\n",
       "      <td>14</td>\n",
       "      <td>venmo</td>\n",
       "      <td>fortnightly</td>\n",
       "    </tr>\n",
       "    <tr>\n",
       "      <th>1</th>\n",
       "      <td>2</td>\n",
       "      <td>19</td>\n",
       "      <td>male</td>\n",
       "      <td>sweater</td>\n",
       "      <td>clothing</td>\n",
       "      <td>64</td>\n",
       "      <td>maine</td>\n",
       "      <td>l</td>\n",
       "      <td>maroon</td>\n",
       "      <td>winter</td>\n",
       "      <td>3.1</td>\n",
       "      <td>yes</td>\n",
       "      <td>express</td>\n",
       "      <td>yes</td>\n",
       "      <td>yes</td>\n",
       "      <td>2</td>\n",
       "      <td>cash</td>\n",
       "      <td>fortnightly</td>\n",
       "    </tr>\n",
       "    <tr>\n",
       "      <th>2</th>\n",
       "      <td>3</td>\n",
       "      <td>50</td>\n",
       "      <td>male</td>\n",
       "      <td>jeans</td>\n",
       "      <td>clothing</td>\n",
       "      <td>73</td>\n",
       "      <td>massachusetts</td>\n",
       "      <td>s</td>\n",
       "      <td>maroon</td>\n",
       "      <td>spring</td>\n",
       "      <td>3.1</td>\n",
       "      <td>yes</td>\n",
       "      <td>free_shipping</td>\n",
       "      <td>yes</td>\n",
       "      <td>yes</td>\n",
       "      <td>23</td>\n",
       "      <td>credit_card</td>\n",
       "      <td>weekly</td>\n",
       "    </tr>\n",
       "    <tr>\n",
       "      <th>3</th>\n",
       "      <td>4</td>\n",
       "      <td>21</td>\n",
       "      <td>male</td>\n",
       "      <td>sandals</td>\n",
       "      <td>footwear</td>\n",
       "      <td>90</td>\n",
       "      <td>rhode_island</td>\n",
       "      <td>m</td>\n",
       "      <td>maroon</td>\n",
       "      <td>spring</td>\n",
       "      <td>3.5</td>\n",
       "      <td>yes</td>\n",
       "      <td>next_day_air</td>\n",
       "      <td>yes</td>\n",
       "      <td>yes</td>\n",
       "      <td>49</td>\n",
       "      <td>paypal</td>\n",
       "      <td>weekly</td>\n",
       "    </tr>\n",
       "    <tr>\n",
       "      <th>4</th>\n",
       "      <td>5</td>\n",
       "      <td>45</td>\n",
       "      <td>male</td>\n",
       "      <td>blouse</td>\n",
       "      <td>clothing</td>\n",
       "      <td>49</td>\n",
       "      <td>oregon</td>\n",
       "      <td>m</td>\n",
       "      <td>turquoise</td>\n",
       "      <td>spring</td>\n",
       "      <td>2.7</td>\n",
       "      <td>yes</td>\n",
       "      <td>free_shipping</td>\n",
       "      <td>yes</td>\n",
       "      <td>yes</td>\n",
       "      <td>31</td>\n",
       "      <td>paypal</td>\n",
       "      <td>annually</td>\n",
       "    </tr>\n",
       "  </tbody>\n",
       "</table>\n",
       "</div>"
      ],
      "text/plain": [
       "   customer_id  age gender item_purchased  category  usd_total       location  \\\n",
       "0            1   55   male         blouse  clothing         53       kentucky   \n",
       "1            2   19   male        sweater  clothing         64          maine   \n",
       "2            3   50   male          jeans  clothing         73  massachusetts   \n",
       "3            4   21   male        sandals  footwear         90   rhode_island   \n",
       "4            5   45   male         blouse  clothing         49         oregon   \n",
       "\n",
       "  size      color  season  customer_rating sub_status  shipping_type  \\\n",
       "0    l       gray  winter              3.1        yes        express   \n",
       "1    l     maroon  winter              3.1        yes        express   \n",
       "2    s     maroon  spring              3.1        yes  free_shipping   \n",
       "3    m     maroon  spring              3.5        yes   next_day_air   \n",
       "4    m  turquoise  spring              2.7        yes  free_shipping   \n",
       "\n",
       "  discount_applied promo_code_applied  previous_orders payment_method  \\\n",
       "0              yes                yes               14          venmo   \n",
       "1              yes                yes                2           cash   \n",
       "2              yes                yes               23    credit_card   \n",
       "3              yes                yes               49         paypal   \n",
       "4              yes                yes               31         paypal   \n",
       "\n",
       "    order_freq  \n",
       "0  fortnightly  \n",
       "1  fortnightly  \n",
       "2       weekly  \n",
       "3       weekly  \n",
       "4     annually  "
      ]
     },
     "execution_count": 10,
     "metadata": {},
     "output_type": "execute_result"
    }
   ],
   "source": [
    "# Converting all elements into snakecase format and removing all nonlegible characters\n",
    "for column in df.columns:\n",
    "    if df[column].dtype == 'object':\n",
    "        df[column] = df[column].str.lower()\n",
    "        df[column] = df[column].str.strip()\n",
    "        df[column] = df[column].str.rstrip()\n",
    "        df[column] = df[column].str.replace(' ', '_')\n",
    "        df[column] = df[column].str.replace('[^a-z0-9_]', '')\n",
    "        df[column] = df[column].astype('category')\n",
    "df.info()\n",
    "df.head()"
   ]
  },
  {
   "cell_type": "markdown",
   "metadata": {},
   "source": [
    "Observation:\n",
    "\n",
    "- By converting string columns to snake_case and refining table data types, data usage has dropped 62.1%, from over 548.6 KB at the start to 207.8 KB. This optimization process will help reduce data costs and enhance performance as more data is added in the future."
   ]
  },
  {
   "cell_type": "code",
   "execution_count": 11,
   "metadata": {},
   "outputs": [
    {
     "name": "stdout",
     "output_type": "stream",
     "text": [
      "     discount_applied promo_code_applied\n",
      "3433               no                 no\n",
      "2766               no                 no\n",
      "2473               no                 no\n",
      "2001               no                 no\n",
      "671               yes                yes\n",
      "1731               no                 no\n",
      "3060               no                 no\n",
      "627               yes                yes\n",
      "729               yes                yes\n",
      "3649               no                 no\n",
      "discount_applied\n",
      "no     2223\n",
      "yes    1677\n",
      "Name: count, dtype: int64\n",
      "promo_code_applied\n",
      "no     2223\n",
      "yes    1677\n",
      "Name: count, dtype: int64\n"
     ]
    }
   ],
   "source": [
    "discount = df[['discount_applied', 'promo_code_applied']]\n",
    "\n",
    "print(discount.sample(10))\n",
    "print(df['discount_applied'].value_counts())\n",
    "print(df['promo_code_applied'].value_counts())"
   ]
  },
  {
   "cell_type": "markdown",
   "metadata": {},
   "source": [
    "Observation:\n",
    "\n",
    "- It appears the promo_code_applied column is a redundant duplicate of the discount_applied column, and can be removed to further reduce data usage"
   ]
  },
  {
   "cell_type": "code",
   "execution_count": 12,
   "metadata": {},
   "outputs": [
    {
     "data": {
      "text/plain": [
       "['express', 'free_shipping', 'next_day_air', 'standard', '2-day_shipping', 'store_pickup']\n",
       "Categories (6, object): ['2-day_shipping', 'express', 'free_shipping', 'next_day_air', 'standard', 'store_pickup']"
      ]
     },
     "execution_count": 12,
     "metadata": {},
     "output_type": "execute_result"
    }
   ],
   "source": [
    "df['shipping_type'].unique()"
   ]
  },
  {
   "cell_type": "code",
   "execution_count": 13,
   "metadata": {},
   "outputs": [
    {
     "name": "stderr",
     "output_type": "stream",
     "text": [
      "C:\\Users\\jason\\AppData\\Local\\Temp\\ipykernel_22288\\1118386650.py:2: FutureWarning: The behavior of Series.replace (and DataFrame.replace) with CategoricalDtype is deprecated. In a future version, replace will only be used for cases that preserve the categories. To change the categories, use ser.cat.rename_categories instead.\n",
      "  df['shipping_type'] = df['shipping_type'].replace('express', 'paid_shipping').replace('next_day_air', 'paid_shipping').replace('standard', 'paid_shipping').replace('2-day_shipping', 'paid_shipping').replace('store_pickup', 'free_shipping')\n"
     ]
    },
    {
     "data": {
      "text/plain": [
       "['paid_shipping', 'free_shipping']\n",
       "Categories (2, object): ['paid_shipping', 'free_shipping']"
      ]
     },
     "execution_count": 13,
     "metadata": {},
     "output_type": "execute_result"
    }
   ],
   "source": [
    "# Many unique values are very similar and can be consolidated to simplify the analysis\n",
    "df['shipping_type'] = df['shipping_type'].replace('express', 'paid_shipping').replace('next_day_air', 'paid_shipping').replace('standard', 'paid_shipping').replace('2-day_shipping', 'paid_shipping').replace('store_pickup', 'free_shipping')\n",
    "df['shipping_type'].unique()"
   ]
  },
  {
   "cell_type": "code",
   "execution_count": 14,
   "metadata": {},
   "outputs": [
    {
     "data": {
      "text/plain": [
       "['venmo', 'cash', 'credit_card', 'paypal', 'bank_transfer', 'debit_card']\n",
       "Categories (6, object): ['bank_transfer', 'cash', 'credit_card', 'debit_card', 'paypal', 'venmo']"
      ]
     },
     "execution_count": 14,
     "metadata": {},
     "output_type": "execute_result"
    }
   ],
   "source": [
    "df['payment_method'].unique()"
   ]
  },
  {
   "cell_type": "code",
   "execution_count": 15,
   "metadata": {},
   "outputs": [
    {
     "name": "stderr",
     "output_type": "stream",
     "text": [
      "C:\\Users\\jason\\AppData\\Local\\Temp\\ipykernel_22288\\3976137506.py:2: FutureWarning: The behavior of Series.replace (and DataFrame.replace) with CategoricalDtype is deprecated. In a future version, replace will only be used for cases that preserve the categories. To change the categories, use ser.cat.rename_categories instead.\n",
      "  df['payment_method'] = df['payment_method'].replace('venmo', 'payment_service').replace('credit_card', 'credit_debit_card').replace('paypal', 'payment_service').replace('bank_transfer', 'cash').replace('debit_card', 'credit_debit_card')\n"
     ]
    },
    {
     "data": {
      "text/plain": [
       "['payment_service', 'cash', 'credit_debit_card']\n",
       "Categories (3, object): ['cash', 'credit_debit_card', 'payment_service']"
      ]
     },
     "execution_count": 15,
     "metadata": {},
     "output_type": "execute_result"
    }
   ],
   "source": [
    "# Many unique values are very similar and can be consolidated to simplify the analysis\n",
    "df['payment_method'] = df['payment_method'].replace('venmo', 'payment_service').replace('credit_card', 'credit_debit_card').replace('paypal', 'payment_service').replace('bank_transfer', 'cash').replace('debit_card', 'credit_debit_card')\n",
    "df['payment_method'].unique()"
   ]
  },
  {
   "cell_type": "code",
   "execution_count": 16,
   "metadata": {},
   "outputs": [
    {
     "data": {
      "text/plain": [
       "['fortnightly', 'weekly', 'annually', 'quarterly', 'bi-weekly', 'monthly', 'every_3_months']\n",
       "Categories (7, object): ['annually', 'bi-weekly', 'every_3_months', 'fortnightly', 'monthly', 'quarterly', 'weekly']"
      ]
     },
     "execution_count": 16,
     "metadata": {},
     "output_type": "execute_result"
    }
   ],
   "source": [
    "df['order_freq'].unique()"
   ]
  },
  {
   "cell_type": "code",
   "execution_count": 51,
   "metadata": {},
   "outputs": [
    {
     "data": {
      "text/plain": [
       "array([ 14,   7, 365,  91,  30])"
      ]
     },
     "execution_count": 51,
     "metadata": {},
     "output_type": "execute_result"
    }
   ],
   "source": [
    "df['order_freq'] = df['order_freq'].replace('fortnightly', 26).replace('weekly', 52).replace('annually', 1).replace('quarterly', 4).replace('bi-weekly', 26).replace('monthly', 12).replace('every_3_months', 4)\n",
    "df['order_freq'] = df['order_freq'].astype('int')\n",
    "df = df.rename(columns={'order_freq': 'est_orders_per_year'})\n",
    "df['est_orders_per_year'].unique()"
   ]
  },
  {
   "cell_type": "markdown",
   "metadata": {},
   "source": [
    "[Back to Table of Contents](#back)"
   ]
  },
  {
   "cell_type": "markdown",
   "metadata": {},
   "source": [
    "### Removing Irrelevant Data"
   ]
  },
  {
   "cell_type": "code",
   "execution_count": 18,
   "metadata": {},
   "outputs": [
    {
     "name": "stdout",
     "output_type": "stream",
     "text": [
      "<class 'pandas.core.frame.DataFrame'>\n",
      "RangeIndex: 3900 entries, 0 to 3899\n",
      "Data columns (total 17 columns):\n",
      " #   Column            Non-Null Count  Dtype   \n",
      "---  ------            --------------  -----   \n",
      " 0   customer_id       3900 non-null   int64   \n",
      " 1   age               3900 non-null   int64   \n",
      " 2   gender            3900 non-null   category\n",
      " 3   item_purchased    3900 non-null   category\n",
      " 4   category          3900 non-null   category\n",
      " 5   usd_total         3900 non-null   int64   \n",
      " 6   location          3900 non-null   category\n",
      " 7   size              3900 non-null   category\n",
      " 8   color             3900 non-null   category\n",
      " 9   season            3900 non-null   category\n",
      " 10  customer_rating   3900 non-null   float64 \n",
      " 11  sub_status        3900 non-null   category\n",
      " 12  shipping_type     3900 non-null   category\n",
      " 13  discount_applied  3900 non-null   category\n",
      " 14  previous_orders   3900 non-null   int64   \n",
      " 15  payment_method    3900 non-null   category\n",
      " 16  order_freq        3900 non-null   int32   \n",
      "dtypes: category(11), float64(1), int32(1), int64(4)\n",
      "memory usage: 214.7 KB\n"
     ]
    }
   ],
   "source": [
    "# Removing columns we do not need for this analysis\n",
    "df = df.drop(columns=['promo_code_applied'])\n",
    "df.info()"
   ]
  },
  {
   "cell_type": "markdown",
   "metadata": {},
   "source": [
    "[Back to Table of Contents](#back)"
   ]
  },
  {
   "cell_type": "markdown",
   "metadata": {},
   "source": [
    "## Customer Segmentation Analysis"
   ]
  },
  {
   "cell_type": "code",
   "execution_count": 19,
   "metadata": {},
   "outputs": [
    {
     "name": "stdout",
     "output_type": "stream",
     "text": [
      "<class 'pandas.core.frame.DataFrame'>\n",
      "RangeIndex: 3900 entries, 0 to 3899\n",
      "Data columns (total 17 columns):\n",
      " #   Column            Non-Null Count  Dtype   \n",
      "---  ------            --------------  -----   \n",
      " 0   customer_id       3900 non-null   int64   \n",
      " 1   age               3900 non-null   int64   \n",
      " 2   gender            3900 non-null   category\n",
      " 3   item_purchased    3900 non-null   category\n",
      " 4   category          3900 non-null   category\n",
      " 5   usd_total         3900 non-null   int64   \n",
      " 6   location          3900 non-null   category\n",
      " 7   size              3900 non-null   category\n",
      " 8   color             3900 non-null   category\n",
      " 9   season            3900 non-null   category\n",
      " 10  customer_rating   3900 non-null   float64 \n",
      " 11  sub_status        3900 non-null   category\n",
      " 12  shipping_type     3900 non-null   category\n",
      " 13  discount_applied  3900 non-null   category\n",
      " 14  previous_orders   3900 non-null   int64   \n",
      " 15  payment_method    3900 non-null   category\n",
      " 16  order_freq        3900 non-null   int32   \n",
      "dtypes: category(11), float64(1), int32(1), int64(4)\n",
      "memory usage: 214.7 KB\n"
     ]
    },
    {
     "data": {
      "text/html": [
       "<div>\n",
       "<style scoped>\n",
       "    .dataframe tbody tr th:only-of-type {\n",
       "        vertical-align: middle;\n",
       "    }\n",
       "\n",
       "    .dataframe tbody tr th {\n",
       "        vertical-align: top;\n",
       "    }\n",
       "\n",
       "    .dataframe thead th {\n",
       "        text-align: right;\n",
       "    }\n",
       "</style>\n",
       "<table border=\"1\" class=\"dataframe\">\n",
       "  <thead>\n",
       "    <tr style=\"text-align: right;\">\n",
       "      <th></th>\n",
       "      <th>customer_id</th>\n",
       "      <th>age</th>\n",
       "      <th>gender</th>\n",
       "      <th>item_purchased</th>\n",
       "      <th>category</th>\n",
       "      <th>usd_total</th>\n",
       "      <th>location</th>\n",
       "      <th>size</th>\n",
       "      <th>color</th>\n",
       "      <th>season</th>\n",
       "      <th>customer_rating</th>\n",
       "      <th>sub_status</th>\n",
       "      <th>shipping_type</th>\n",
       "      <th>discount_applied</th>\n",
       "      <th>previous_orders</th>\n",
       "      <th>payment_method</th>\n",
       "      <th>order_freq</th>\n",
       "    </tr>\n",
       "  </thead>\n",
       "  <tbody>\n",
       "    <tr>\n",
       "      <th>0</th>\n",
       "      <td>1</td>\n",
       "      <td>55</td>\n",
       "      <td>male</td>\n",
       "      <td>blouse</td>\n",
       "      <td>clothing</td>\n",
       "      <td>53</td>\n",
       "      <td>kentucky</td>\n",
       "      <td>l</td>\n",
       "      <td>gray</td>\n",
       "      <td>winter</td>\n",
       "      <td>3.1</td>\n",
       "      <td>yes</td>\n",
       "      <td>paid_shipping</td>\n",
       "      <td>yes</td>\n",
       "      <td>14</td>\n",
       "      <td>payment_service</td>\n",
       "      <td>14</td>\n",
       "    </tr>\n",
       "    <tr>\n",
       "      <th>1</th>\n",
       "      <td>2</td>\n",
       "      <td>19</td>\n",
       "      <td>male</td>\n",
       "      <td>sweater</td>\n",
       "      <td>clothing</td>\n",
       "      <td>64</td>\n",
       "      <td>maine</td>\n",
       "      <td>l</td>\n",
       "      <td>maroon</td>\n",
       "      <td>winter</td>\n",
       "      <td>3.1</td>\n",
       "      <td>yes</td>\n",
       "      <td>paid_shipping</td>\n",
       "      <td>yes</td>\n",
       "      <td>2</td>\n",
       "      <td>cash</td>\n",
       "      <td>14</td>\n",
       "    </tr>\n",
       "    <tr>\n",
       "      <th>2</th>\n",
       "      <td>3</td>\n",
       "      <td>50</td>\n",
       "      <td>male</td>\n",
       "      <td>jeans</td>\n",
       "      <td>clothing</td>\n",
       "      <td>73</td>\n",
       "      <td>massachusetts</td>\n",
       "      <td>s</td>\n",
       "      <td>maroon</td>\n",
       "      <td>spring</td>\n",
       "      <td>3.1</td>\n",
       "      <td>yes</td>\n",
       "      <td>free_shipping</td>\n",
       "      <td>yes</td>\n",
       "      <td>23</td>\n",
       "      <td>credit_debit_card</td>\n",
       "      <td>7</td>\n",
       "    </tr>\n",
       "    <tr>\n",
       "      <th>3</th>\n",
       "      <td>4</td>\n",
       "      <td>21</td>\n",
       "      <td>male</td>\n",
       "      <td>sandals</td>\n",
       "      <td>footwear</td>\n",
       "      <td>90</td>\n",
       "      <td>rhode_island</td>\n",
       "      <td>m</td>\n",
       "      <td>maroon</td>\n",
       "      <td>spring</td>\n",
       "      <td>3.5</td>\n",
       "      <td>yes</td>\n",
       "      <td>paid_shipping</td>\n",
       "      <td>yes</td>\n",
       "      <td>49</td>\n",
       "      <td>payment_service</td>\n",
       "      <td>7</td>\n",
       "    </tr>\n",
       "    <tr>\n",
       "      <th>4</th>\n",
       "      <td>5</td>\n",
       "      <td>45</td>\n",
       "      <td>male</td>\n",
       "      <td>blouse</td>\n",
       "      <td>clothing</td>\n",
       "      <td>49</td>\n",
       "      <td>oregon</td>\n",
       "      <td>m</td>\n",
       "      <td>turquoise</td>\n",
       "      <td>spring</td>\n",
       "      <td>2.7</td>\n",
       "      <td>yes</td>\n",
       "      <td>free_shipping</td>\n",
       "      <td>yes</td>\n",
       "      <td>31</td>\n",
       "      <td>payment_service</td>\n",
       "      <td>365</td>\n",
       "    </tr>\n",
       "  </tbody>\n",
       "</table>\n",
       "</div>"
      ],
      "text/plain": [
       "   customer_id  age gender item_purchased  category  usd_total       location  \\\n",
       "0            1   55   male         blouse  clothing         53       kentucky   \n",
       "1            2   19   male        sweater  clothing         64          maine   \n",
       "2            3   50   male          jeans  clothing         73  massachusetts   \n",
       "3            4   21   male        sandals  footwear         90   rhode_island   \n",
       "4            5   45   male         blouse  clothing         49         oregon   \n",
       "\n",
       "  size      color  season  customer_rating sub_status  shipping_type  \\\n",
       "0    l       gray  winter              3.1        yes  paid_shipping   \n",
       "1    l     maroon  winter              3.1        yes  paid_shipping   \n",
       "2    s     maroon  spring              3.1        yes  free_shipping   \n",
       "3    m     maroon  spring              3.5        yes  paid_shipping   \n",
       "4    m  turquoise  spring              2.7        yes  free_shipping   \n",
       "\n",
       "  discount_applied  previous_orders     payment_method  order_freq  \n",
       "0              yes               14    payment_service          14  \n",
       "1              yes                2               cash          14  \n",
       "2              yes               23  credit_debit_card           7  \n",
       "3              yes               49    payment_service           7  \n",
       "4              yes               31    payment_service         365  "
      ]
     },
     "execution_count": 19,
     "metadata": {},
     "output_type": "execute_result"
    }
   ],
   "source": [
    "df.info()\n",
    "df.head()"
   ]
  },
  {
   "cell_type": "markdown",
   "metadata": {},
   "source": [
    "### Demographic Segmentation\n",
    "\n",
    "#### 1. Who are my most valuable customer segments by demographics and spending?"
   ]
  },
  {
   "cell_type": "code",
   "execution_count": 20,
   "metadata": {},
   "outputs": [
    {
     "name": "stderr",
     "output_type": "stream",
     "text": [
      "C:\\Users\\jason\\AppData\\Local\\Temp\\ipykernel_22288\\1784339576.py:1: FutureWarning: The default of observed=False is deprecated and will be changed to True in a future version of pandas. Pass observed=False to retain current behavior or observed=True to adopt the future default and silence this warning.\n",
      "  gender_demo = df.groupby('gender').agg({'usd_total': 'sum',\n"
     ]
    },
    {
     "data": {
      "text/html": [
       "<div>\n",
       "<style scoped>\n",
       "    .dataframe tbody tr th:only-of-type {\n",
       "        vertical-align: middle;\n",
       "    }\n",
       "\n",
       "    .dataframe tbody tr th {\n",
       "        vertical-align: top;\n",
       "    }\n",
       "\n",
       "    .dataframe thead th {\n",
       "        text-align: right;\n",
       "    }\n",
       "</style>\n",
       "<table border=\"1\" class=\"dataframe\">\n",
       "  <thead>\n",
       "    <tr style=\"text-align: right;\">\n",
       "      <th></th>\n",
       "      <th>gender</th>\n",
       "      <th>total_sales</th>\n",
       "      <th>total_customers</th>\n",
       "      <th>avg_sales_per_customer</th>\n",
       "    </tr>\n",
       "  </thead>\n",
       "  <tbody>\n",
       "    <tr>\n",
       "      <th>0</th>\n",
       "      <td>female</td>\n",
       "      <td>75191</td>\n",
       "      <td>1248</td>\n",
       "      <td>60.25</td>\n",
       "    </tr>\n",
       "    <tr>\n",
       "      <th>1</th>\n",
       "      <td>male</td>\n",
       "      <td>157890</td>\n",
       "      <td>2652</td>\n",
       "      <td>59.54</td>\n",
       "    </tr>\n",
       "  </tbody>\n",
       "</table>\n",
       "</div>"
      ],
      "text/plain": [
       "   gender  total_sales  total_customers  avg_sales_per_customer\n",
       "0  female        75191             1248                   60.25\n",
       "1    male       157890             2652                   59.54"
      ]
     },
     "execution_count": 20,
     "metadata": {},
     "output_type": "execute_result"
    }
   ],
   "source": [
    "gender_demo = df.groupby('gender').agg({'usd_total': 'sum',\n",
    "                                        'gender': 'count'})\n",
    "gender_demo.columns = ['total_sales', 'total_customers']\n",
    "gender_demo['avg_sales_per_customer'] = (gender_demo['total_sales'] / gender_demo['total_customers']).round(2)\n",
    "gender_demo = gender_demo.reset_index()\n",
    "gender_demo"
   ]
  },
  {
   "cell_type": "code",
   "execution_count": 21,
   "metadata": {},
   "outputs": [
    {
     "name": "stderr",
     "output_type": "stream",
     "text": [
      "C:\\Users\\jason\\AppData\\Local\\Temp\\ipykernel_22288\\3343323054.py:1: FutureWarning: The default of observed=False is deprecated and will be changed to True in a future version of pandas. Pass observed=False to retain current behavior or observed=True to adopt the future default and silence this warning.\n",
      "  loc_demo = df.groupby('location').agg({'usd_total': 'sum', 'gender': 'count', 'customer_rating': 'mean'})\n"
     ]
    },
    {
     "data": {
      "text/html": [
       "<div>\n",
       "<style scoped>\n",
       "    .dataframe tbody tr th:only-of-type {\n",
       "        vertical-align: middle;\n",
       "    }\n",
       "\n",
       "    .dataframe tbody tr th {\n",
       "        vertical-align: top;\n",
       "    }\n",
       "\n",
       "    .dataframe thead th {\n",
       "        text-align: right;\n",
       "    }\n",
       "</style>\n",
       "<table border=\"1\" class=\"dataframe\">\n",
       "  <thead>\n",
       "    <tr style=\"text-align: right;\">\n",
       "      <th></th>\n",
       "      <th>location</th>\n",
       "      <th>total_sales</th>\n",
       "      <th>total_customers</th>\n",
       "      <th>avg_rating</th>\n",
       "      <th>avg_sales_per_customer</th>\n",
       "    </tr>\n",
       "  </thead>\n",
       "  <tbody>\n",
       "    <tr>\n",
       "      <th>0</th>\n",
       "      <td>montana</td>\n",
       "      <td>5784</td>\n",
       "      <td>96</td>\n",
       "      <td>3.808333</td>\n",
       "      <td>60.25</td>\n",
       "    </tr>\n",
       "    <tr>\n",
       "      <th>1</th>\n",
       "      <td>illinois</td>\n",
       "      <td>5617</td>\n",
       "      <td>92</td>\n",
       "      <td>3.644565</td>\n",
       "      <td>61.05</td>\n",
       "    </tr>\n",
       "    <tr>\n",
       "      <th>2</th>\n",
       "      <td>california</td>\n",
       "      <td>5605</td>\n",
       "      <td>95</td>\n",
       "      <td>3.834737</td>\n",
       "      <td>59.00</td>\n",
       "    </tr>\n",
       "    <tr>\n",
       "      <th>3</th>\n",
       "      <td>idaho</td>\n",
       "      <td>5587</td>\n",
       "      <td>93</td>\n",
       "      <td>3.781720</td>\n",
       "      <td>60.08</td>\n",
       "    </tr>\n",
       "    <tr>\n",
       "      <th>4</th>\n",
       "      <td>nevada</td>\n",
       "      <td>5514</td>\n",
       "      <td>87</td>\n",
       "      <td>3.712644</td>\n",
       "      <td>63.38</td>\n",
       "    </tr>\n",
       "  </tbody>\n",
       "</table>\n",
       "</div>"
      ],
      "text/plain": [
       "     location  total_sales  total_customers  avg_rating  \\\n",
       "0     montana         5784               96    3.808333   \n",
       "1    illinois         5617               92    3.644565   \n",
       "2  california         5605               95    3.834737   \n",
       "3       idaho         5587               93    3.781720   \n",
       "4      nevada         5514               87    3.712644   \n",
       "\n",
       "   avg_sales_per_customer  \n",
       "0                   60.25  \n",
       "1                   61.05  \n",
       "2                   59.00  \n",
       "3                   60.08  \n",
       "4                   63.38  "
      ]
     },
     "execution_count": 21,
     "metadata": {},
     "output_type": "execute_result"
    }
   ],
   "source": [
    "loc_demo = df.groupby('location').agg({'usd_total': 'sum', 'gender': 'count', 'customer_rating': 'mean'})\n",
    "loc_demo.columns = ['total_sales', 'total_customers', 'avg_rating']\n",
    "loc_demo['avg_sales_per_customer'] = (loc_demo['total_sales'] / loc_demo['total_customers']).round(2)\n",
    "loc_demo = loc_demo.sort_values(by='total_sales', ascending=False).reset_index().head()\n",
    "# Changing this column back to a string data type so seaborn can properly interact with the data\n",
    "loc_demo['location'] = loc_demo['location'].astype('object')\n",
    "\n",
    "loc_demo"
   ]
  },
  {
   "cell_type": "code",
   "execution_count": 22,
   "metadata": {},
   "outputs": [
    {
     "data": {
      "image/png": "[encoded data removed]",
      "text/plain": [
       "<Figure size 2400x500 with 5 Axes>"
      ]
     },
     "metadata": {},
     "output_type": "display_data"
    }
   ],
   "source": [
    "# Setting theme and figure size\n",
    "sns.set_theme(style='darkgrid')\n",
    "fig, axes = plt.subplots(1, 4, figsize=(24, 5))\n",
    "\n",
    "#\n",
    "total_dem = sns.barplot(data=gender_demo,\n",
    "                        x='gender',\n",
    "                        y='total_customers',\n",
    "                        ax=axes[0])\n",
    "# Creating loop to display numeric value on graph\n",
    "for r in total_dem.patches:\n",
    "    y_value = r.get_height()\n",
    "    x_value = r.get_x() + r.get_width() / 2\n",
    "    label = '{:.0f}'.format(y_value)\n",
    "    total_dem.annotate(label,\n",
    "                         (x_value, y_value),\n",
    "                         xytext=(0, 1),\n",
    "                         textcoords='offset points',\n",
    "                         ha='center',\n",
    "                         va='bottom')\n",
    "    \n",
    "# \n",
    "sns.histplot(data=df,\n",
    "             x='age',\n",
    "             hue='gender',\n",
    "             ax=axes[1])\n",
    "\n",
    "#\n",
    "avg_sales = sns.barplot(data=gender_demo,\n",
    "                        x='gender',\n",
    "                        y='avg_sales_per_customer',\n",
    "                        color='orange',\n",
    "                        ax=axes[2])\n",
    "# Creating loop to display numeric value on graph\n",
    "for r in avg_sales.patches:\n",
    "    y_value = r.get_height()\n",
    "    x_value = r.get_x() + r.get_width() / 2\n",
    "    label = '{:.2f}'.format(y_value)\n",
    "    avg_sales.annotate(label,\n",
    "                       (x_value, y_value),\n",
    "                       xytext=(0, 1),\n",
    "                       textcoords='offset points',\n",
    "                       ha='center',\n",
    "                       va='bottom')\n",
    "\n",
    "\n",
    "# \n",
    "top_states = sns.barplot(data=loc_demo,\n",
    "                        x='location',\n",
    "                        y='total_sales',\n",
    "                        color='cornflowerblue',\n",
    "                        ax=axes[3])\n",
    "\n",
    "state_customers = sns.lineplot(data=loc_demo,\n",
    "                            x='location',\n",
    "                            y='total_customers',\n",
    "                            color='orange',\n",
    "                            ax=axes[3].twinx())\n",
    "\n",
    "plt.show()"
   ]
  },
  {
   "cell_type": "markdown",
   "metadata": {},
   "source": [
    "Observation:\n",
    "\n",
    "- "
   ]
  },
  {
   "cell_type": "markdown",
   "metadata": {},
   "source": [
    "#### 2. What product preferences differ across customer segments?"
   ]
  },
  {
   "cell_type": "code",
   "execution_count": 23,
   "metadata": {},
   "outputs": [
    {
     "name": "stderr",
     "output_type": "stream",
     "text": [
      "C:\\Users\\jason\\AppData\\Local\\Temp\\ipykernel_22288\\78282919.py:2: FutureWarning: The default of observed=False is deprecated and will be changed to True in a future version of pandas. Pass observed=False to retain current behavior or observed=True to adopt the future default and silence this warning.\n",
      "  m_products = df[df['gender'] == 'male'].groupby('item_purchased').agg({'item_purchased': 'count'})\n",
      "C:\\Users\\jason\\AppData\\Local\\Temp\\ipykernel_22288\\78282919.py:3: FutureWarning: The default of observed=False is deprecated and will be changed to True in a future version of pandas. Pass observed=False to retain current behavior or observed=True to adopt the future default and silence this warning.\n",
      "  f_products = df[df['gender'] == 'female'].groupby('item_purchased').agg({'item_purchased': 'count'})\n"
     ]
    }
   ],
   "source": [
    "# \n",
    "m_products = df[df['gender'] == 'male'].groupby('item_purchased').agg({'item_purchased': 'count'})\n",
    "f_products = df[df['gender'] == 'female'].groupby('item_purchased').agg({'item_purchased': 'count'})\n",
    "\n",
    "#\n",
    "m_products.columns = ['quantity_sold']\n",
    "f_products.columns = ['quantity_sold']\n",
    "\n",
    "#\n",
    "top5_mproducts = m_products.reset_index().sort_values(by='quantity_sold', ascending=False).head()\n",
    "top5_fproducts = f_products.reset_index().sort_values(by='quantity_sold', ascending=False).head()\n",
    "\n",
    "#\n",
    "top5_mproducts['item_purchased'] = top5_mproducts['item_purchased'].astype('object')\n",
    "top5_fproducts['item_purchased'] = top5_fproducts['item_purchased'].astype('object')"
   ]
  },
  {
   "cell_type": "code",
   "execution_count": 24,
   "metadata": {},
   "outputs": [
    {
     "data": {
      "image/png": "[encoded data removed]",
      "text/plain": [
       "<Figure size 1400x400 with 2 Axes>"
      ]
     },
     "metadata": {},
     "output_type": "display_data"
    }
   ],
   "source": [
    "fig, axes = plt.subplots(1, 2, figsize=(14, 4))\n",
    "\n",
    "# \n",
    "top_mproducts = sns.barplot(data=top5_mproducts,\n",
    "                            x='quantity_sold',\n",
    "                        y='item_purchased',\n",
    "                        color='cornflowerblue',\n",
    "                        ax=axes[0])\n",
    "\n",
    "top_fproducts = sns.barplot(data=top5_fproducts,\n",
    "                           x='quantity_sold',\n",
    "                        y='item_purchased',\n",
    "                        color='orange',\n",
    "                        ax=axes[1])"
   ]
  },
  {
   "cell_type": "markdown",
   "metadata": {},
   "source": [
    "Observation:\n",
    "\n",
    "- "
   ]
  },
  {
   "cell_type": "markdown",
   "metadata": {},
   "source": [
    "#### 3. Which locations have the highest customer ratings? "
   ]
  },
  {
   "cell_type": "code",
   "execution_count": 25,
   "metadata": {},
   "outputs": [
    {
     "data": {
      "image/png": "[encoded data removed]",
      "text/plain": [
       "<Figure size 640x480 with 1 Axes>"
      ]
     },
     "metadata": {},
     "output_type": "display_data"
    }
   ],
   "source": [
    "loc_demo = loc_demo.sort_values(by='avg_rating', ascending=False).head()\n",
    "\n",
    "top_loc_rating = sns.barplot(data=loc_demo,\n",
    "                             x='location',\n",
    "                             y='avg_rating',\n",
    "                             color='cornflowerblue')\n",
    "for r in top_loc_rating.patches:\n",
    "    y_value = r.get_height()\n",
    "    x_value = r.get_x() + r.get_width() / 2\n",
    "    label = '{:.2f}'.format(y_value)\n",
    "    top_loc_rating.annotate(label,\n",
    "                            (x_value, y_value),\n",
    "                            xytext=(0, 1),\n",
    "                            textcoords='offset points',\n",
    "                            ha='center',\n",
    "                            va='bottom')"
   ]
  },
  {
   "cell_type": "markdown",
   "metadata": {},
   "source": [
    "Observation:\n",
    "\n",
    "- "
   ]
  },
  {
   "cell_type": "markdown",
   "metadata": {},
   "source": [
    "#### 4. Which age ranges use the most discounts?"
   ]
  },
  {
   "cell_type": "code",
   "execution_count": 26,
   "metadata": {},
   "outputs": [
    {
     "data": {
      "text/html": [
       "<div>\n",
       "<style scoped>\n",
       "    .dataframe tbody tr th:only-of-type {\n",
       "        vertical-align: middle;\n",
       "    }\n",
       "\n",
       "    .dataframe tbody tr th {\n",
       "        vertical-align: top;\n",
       "    }\n",
       "\n",
       "    .dataframe thead th {\n",
       "        text-align: right;\n",
       "    }\n",
       "</style>\n",
       "<table border=\"1\" class=\"dataframe\">\n",
       "  <thead>\n",
       "    <tr style=\"text-align: right;\">\n",
       "      <th></th>\n",
       "      <th>customer_id</th>\n",
       "      <th>age</th>\n",
       "      <th>gender</th>\n",
       "      <th>item_purchased</th>\n",
       "      <th>category</th>\n",
       "      <th>usd_total</th>\n",
       "      <th>location</th>\n",
       "      <th>size</th>\n",
       "      <th>color</th>\n",
       "      <th>season</th>\n",
       "      <th>customer_rating</th>\n",
       "      <th>sub_status</th>\n",
       "      <th>shipping_type</th>\n",
       "      <th>discount_applied</th>\n",
       "      <th>previous_orders</th>\n",
       "      <th>payment_method</th>\n",
       "      <th>order_freq</th>\n",
       "    </tr>\n",
       "  </thead>\n",
       "  <tbody>\n",
       "    <tr>\n",
       "      <th>0</th>\n",
       "      <td>1</td>\n",
       "      <td>55</td>\n",
       "      <td>male</td>\n",
       "      <td>blouse</td>\n",
       "      <td>clothing</td>\n",
       "      <td>53</td>\n",
       "      <td>kentucky</td>\n",
       "      <td>l</td>\n",
       "      <td>gray</td>\n",
       "      <td>winter</td>\n",
       "      <td>3.1</td>\n",
       "      <td>yes</td>\n",
       "      <td>paid_shipping</td>\n",
       "      <td>yes</td>\n",
       "      <td>14</td>\n",
       "      <td>payment_service</td>\n",
       "      <td>14</td>\n",
       "    </tr>\n",
       "    <tr>\n",
       "      <th>1</th>\n",
       "      <td>2</td>\n",
       "      <td>19</td>\n",
       "      <td>male</td>\n",
       "      <td>sweater</td>\n",
       "      <td>clothing</td>\n",
       "      <td>64</td>\n",
       "      <td>maine</td>\n",
       "      <td>l</td>\n",
       "      <td>maroon</td>\n",
       "      <td>winter</td>\n",
       "      <td>3.1</td>\n",
       "      <td>yes</td>\n",
       "      <td>paid_shipping</td>\n",
       "      <td>yes</td>\n",
       "      <td>2</td>\n",
       "      <td>cash</td>\n",
       "      <td>14</td>\n",
       "    </tr>\n",
       "    <tr>\n",
       "      <th>2</th>\n",
       "      <td>3</td>\n",
       "      <td>50</td>\n",
       "      <td>male</td>\n",
       "      <td>jeans</td>\n",
       "      <td>clothing</td>\n",
       "      <td>73</td>\n",
       "      <td>massachusetts</td>\n",
       "      <td>s</td>\n",
       "      <td>maroon</td>\n",
       "      <td>spring</td>\n",
       "      <td>3.1</td>\n",
       "      <td>yes</td>\n",
       "      <td>free_shipping</td>\n",
       "      <td>yes</td>\n",
       "      <td>23</td>\n",
       "      <td>credit_debit_card</td>\n",
       "      <td>7</td>\n",
       "    </tr>\n",
       "    <tr>\n",
       "      <th>3</th>\n",
       "      <td>4</td>\n",
       "      <td>21</td>\n",
       "      <td>male</td>\n",
       "      <td>sandals</td>\n",
       "      <td>footwear</td>\n",
       "      <td>90</td>\n",
       "      <td>rhode_island</td>\n",
       "      <td>m</td>\n",
       "      <td>maroon</td>\n",
       "      <td>spring</td>\n",
       "      <td>3.5</td>\n",
       "      <td>yes</td>\n",
       "      <td>paid_shipping</td>\n",
       "      <td>yes</td>\n",
       "      <td>49</td>\n",
       "      <td>payment_service</td>\n",
       "      <td>7</td>\n",
       "    </tr>\n",
       "    <tr>\n",
       "      <th>4</th>\n",
       "      <td>5</td>\n",
       "      <td>45</td>\n",
       "      <td>male</td>\n",
       "      <td>blouse</td>\n",
       "      <td>clothing</td>\n",
       "      <td>49</td>\n",
       "      <td>oregon</td>\n",
       "      <td>m</td>\n",
       "      <td>turquoise</td>\n",
       "      <td>spring</td>\n",
       "      <td>2.7</td>\n",
       "      <td>yes</td>\n",
       "      <td>free_shipping</td>\n",
       "      <td>yes</td>\n",
       "      <td>31</td>\n",
       "      <td>payment_service</td>\n",
       "      <td>365</td>\n",
       "    </tr>\n",
       "  </tbody>\n",
       "</table>\n",
       "</div>"
      ],
      "text/plain": [
       "   customer_id  age gender item_purchased  category  usd_total       location  \\\n",
       "0            1   55   male         blouse  clothing         53       kentucky   \n",
       "1            2   19   male        sweater  clothing         64          maine   \n",
       "2            3   50   male          jeans  clothing         73  massachusetts   \n",
       "3            4   21   male        sandals  footwear         90   rhode_island   \n",
       "4            5   45   male         blouse  clothing         49         oregon   \n",
       "\n",
       "  size      color  season  customer_rating sub_status  shipping_type  \\\n",
       "0    l       gray  winter              3.1        yes  paid_shipping   \n",
       "1    l     maroon  winter              3.1        yes  paid_shipping   \n",
       "2    s     maroon  spring              3.1        yes  free_shipping   \n",
       "3    m     maroon  spring              3.5        yes  paid_shipping   \n",
       "4    m  turquoise  spring              2.7        yes  free_shipping   \n",
       "\n",
       "  discount_applied  previous_orders     payment_method  order_freq  \n",
       "0              yes               14    payment_service          14  \n",
       "1              yes                2               cash          14  \n",
       "2              yes               23  credit_debit_card           7  \n",
       "3              yes               49    payment_service           7  \n",
       "4              yes               31    payment_service         365  "
      ]
     },
     "execution_count": 26,
     "metadata": {},
     "output_type": "execute_result"
    }
   ],
   "source": [
    "df.head()"
   ]
  },
  {
   "cell_type": "code",
   "execution_count": 27,
   "metadata": {},
   "outputs": [],
   "source": [
    "disc_by_age = df[df['discount_applied'] == 'yes'].groupby('age').agg({'discount_applied': 'count'})\n",
    "disc_by_age.columns = ['total_discounts']\n",
    "disc_by_age = disc_by_age.reset_index()"
   ]
  },
  {
   "cell_type": "code",
   "execution_count": 36,
   "metadata": {},
   "outputs": [
    {
     "name": "stdout",
     "output_type": "stream",
     "text": [
      "age_group\n",
      "18-24     7\n",
      "25-34    10\n",
      "35-44    10\n",
      "45-54    10\n",
      "55-64    10\n",
      "65-70     6\n",
      "Name: count, dtype: int64\n"
     ]
    }
   ],
   "source": [
    "bins = [18, 24, 34, 44, 54, 64, 70]   # right endpoint inclusive by default behavior depends on pd.cut right=True\n",
    "labels = ['18-24', '25-34', '35-44', '45-54', '55-64', '65-70']\n",
    "\n",
    "disc_by_age['age_group'] = pd.cut(disc_by_age['age'], bins=bins, labels=labels, right=True, include_lowest=True)\n",
    "\n",
    "# check counts (important)\n",
    "print(disc_by_age['age_group'].value_counts().sort_index())"
   ]
  },
  {
   "cell_type": "code",
   "execution_count": 47,
   "metadata": {},
   "outputs": [
    {
     "data": {
      "text/plain": [
       "(25.0, 35.0)"
      ]
     },
     "execution_count": 47,
     "metadata": {},
     "output_type": "execute_result"
    },
    {
     "data": {
      "image/png": "[encoded data removed]",
      "text/plain": [
       "<Figure size 800x400 with 1 Axes>"
      ]
     },
     "metadata": {},
     "output_type": "display_data"
    }
   ],
   "source": [
    "fig, ax = plt.subplots(figsize=(8, 4))\n",
    "\n",
    "avg_disc_by_age = sns.barplot(data=disc_by_age,\n",
    "            x='age_group',\n",
    "            y='total_discounts',\n",
    "            label=labels,\n",
    "            errorbar=None)\n",
    "\n",
    "for r in avg_disc_by_age.patches:\n",
    "    y_value = r.get_height()\n",
    "    x_value = r.get_x() + r.get_width() / 2\n",
    "    label = '{:.2f}'.format(y_value)\n",
    "    avg_disc_by_age.annotate(label,\n",
    "                            (x_value, y_value),\n",
    "                            xytext=(0, 1),\n",
    "                            textcoords='offset points',\n",
    "                            ha='center',\n",
    "                            va='bottom')\n",
    "plt.legend('')\n",
    "plt.ylim([25, 35])"
   ]
  },
  {
   "cell_type": "markdown",
   "metadata": {},
   "source": [
    "Observation:\n",
    "\n",
    "- "
   ]
  },
  {
   "cell_type": "markdown",
   "metadata": {},
   "source": [
    "#### 5. Which gender and location shows the highest purchase frequency?"
   ]
  },
  {
   "cell_type": "code",
   "execution_count": 48,
   "metadata": {},
   "outputs": [
    {
     "data": {
      "text/html": [
       "<div>\n",
       "<style scoped>\n",
       "    .dataframe tbody tr th:only-of-type {\n",
       "        vertical-align: middle;\n",
       "    }\n",
       "\n",
       "    .dataframe tbody tr th {\n",
       "        vertical-align: top;\n",
       "    }\n",
       "\n",
       "    .dataframe thead th {\n",
       "        text-align: right;\n",
       "    }\n",
       "</style>\n",
       "<table border=\"1\" class=\"dataframe\">\n",
       "  <thead>\n",
       "    <tr style=\"text-align: right;\">\n",
       "      <th></th>\n",
       "      <th>customer_id</th>\n",
       "      <th>age</th>\n",
       "      <th>gender</th>\n",
       "      <th>item_purchased</th>\n",
       "      <th>category</th>\n",
       "      <th>usd_total</th>\n",
       "      <th>location</th>\n",
       "      <th>size</th>\n",
       "      <th>color</th>\n",
       "      <th>season</th>\n",
       "      <th>customer_rating</th>\n",
       "      <th>sub_status</th>\n",
       "      <th>shipping_type</th>\n",
       "      <th>discount_applied</th>\n",
       "      <th>previous_orders</th>\n",
       "      <th>payment_method</th>\n",
       "      <th>order_freq</th>\n",
       "    </tr>\n",
       "  </thead>\n",
       "  <tbody>\n",
       "    <tr>\n",
       "      <th>0</th>\n",
       "      <td>1</td>\n",
       "      <td>55</td>\n",
       "      <td>male</td>\n",
       "      <td>blouse</td>\n",
       "      <td>clothing</td>\n",
       "      <td>53</td>\n",
       "      <td>kentucky</td>\n",
       "      <td>l</td>\n",
       "      <td>gray</td>\n",
       "      <td>winter</td>\n",
       "      <td>3.1</td>\n",
       "      <td>yes</td>\n",
       "      <td>paid_shipping</td>\n",
       "      <td>yes</td>\n",
       "      <td>14</td>\n",
       "      <td>payment_service</td>\n",
       "      <td>14</td>\n",
       "    </tr>\n",
       "    <tr>\n",
       "      <th>1</th>\n",
       "      <td>2</td>\n",
       "      <td>19</td>\n",
       "      <td>male</td>\n",
       "      <td>sweater</td>\n",
       "      <td>clothing</td>\n",
       "      <td>64</td>\n",
       "      <td>maine</td>\n",
       "      <td>l</td>\n",
       "      <td>maroon</td>\n",
       "      <td>winter</td>\n",
       "      <td>3.1</td>\n",
       "      <td>yes</td>\n",
       "      <td>paid_shipping</td>\n",
       "      <td>yes</td>\n",
       "      <td>2</td>\n",
       "      <td>cash</td>\n",
       "      <td>14</td>\n",
       "    </tr>\n",
       "    <tr>\n",
       "      <th>2</th>\n",
       "      <td>3</td>\n",
       "      <td>50</td>\n",
       "      <td>male</td>\n",
       "      <td>jeans</td>\n",
       "      <td>clothing</td>\n",
       "      <td>73</td>\n",
       "      <td>massachusetts</td>\n",
       "      <td>s</td>\n",
       "      <td>maroon</td>\n",
       "      <td>spring</td>\n",
       "      <td>3.1</td>\n",
       "      <td>yes</td>\n",
       "      <td>free_shipping</td>\n",
       "      <td>yes</td>\n",
       "      <td>23</td>\n",
       "      <td>credit_debit_card</td>\n",
       "      <td>7</td>\n",
       "    </tr>\n",
       "    <tr>\n",
       "      <th>3</th>\n",
       "      <td>4</td>\n",
       "      <td>21</td>\n",
       "      <td>male</td>\n",
       "      <td>sandals</td>\n",
       "      <td>footwear</td>\n",
       "      <td>90</td>\n",
       "      <td>rhode_island</td>\n",
       "      <td>m</td>\n",
       "      <td>maroon</td>\n",
       "      <td>spring</td>\n",
       "      <td>3.5</td>\n",
       "      <td>yes</td>\n",
       "      <td>paid_shipping</td>\n",
       "      <td>yes</td>\n",
       "      <td>49</td>\n",
       "      <td>payment_service</td>\n",
       "      <td>7</td>\n",
       "    </tr>\n",
       "    <tr>\n",
       "      <th>4</th>\n",
       "      <td>5</td>\n",
       "      <td>45</td>\n",
       "      <td>male</td>\n",
       "      <td>blouse</td>\n",
       "      <td>clothing</td>\n",
       "      <td>49</td>\n",
       "      <td>oregon</td>\n",
       "      <td>m</td>\n",
       "      <td>turquoise</td>\n",
       "      <td>spring</td>\n",
       "      <td>2.7</td>\n",
       "      <td>yes</td>\n",
       "      <td>free_shipping</td>\n",
       "      <td>yes</td>\n",
       "      <td>31</td>\n",
       "      <td>payment_service</td>\n",
       "      <td>365</td>\n",
       "    </tr>\n",
       "  </tbody>\n",
       "</table>\n",
       "</div>"
      ],
      "text/plain": [
       "   customer_id  age gender item_purchased  category  usd_total       location  \\\n",
       "0            1   55   male         blouse  clothing         53       kentucky   \n",
       "1            2   19   male        sweater  clothing         64          maine   \n",
       "2            3   50   male          jeans  clothing         73  massachusetts   \n",
       "3            4   21   male        sandals  footwear         90   rhode_island   \n",
       "4            5   45   male         blouse  clothing         49         oregon   \n",
       "\n",
       "  size      color  season  customer_rating sub_status  shipping_type  \\\n",
       "0    l       gray  winter              3.1        yes  paid_shipping   \n",
       "1    l     maroon  winter              3.1        yes  paid_shipping   \n",
       "2    s     maroon  spring              3.1        yes  free_shipping   \n",
       "3    m     maroon  spring              3.5        yes  paid_shipping   \n",
       "4    m  turquoise  spring              2.7        yes  free_shipping   \n",
       "\n",
       "  discount_applied  previous_orders     payment_method  order_freq  \n",
       "0              yes               14    payment_service          14  \n",
       "1              yes                2               cash          14  \n",
       "2              yes               23  credit_debit_card           7  \n",
       "3              yes               49    payment_service           7  \n",
       "4              yes               31    payment_service         365  "
      ]
     },
     "execution_count": 48,
     "metadata": {},
     "output_type": "execute_result"
    }
   ],
   "source": [
    "df.head()"
   ]
  },
  {
   "cell_type": "code",
   "execution_count": null,
   "metadata": {},
   "outputs": [
    {
     "data": {
      "text/plain": [
       "order_freq\n",
       "91     1147\n",
       "14     1089\n",
       "365     572\n",
       "30      553\n",
       "7       539\n",
       "Name: count, dtype: int64"
      ]
     },
     "execution_count": 50,
     "metadata": {},
     "output_type": "execute_result"
    }
   ],
   "source": [
    "df['est_orders_per_year'].value_counts()"
   ]
  },
  {
   "cell_type": "code",
   "execution_count": null,
   "metadata": {},
   "outputs": [
    {
     "name": "stderr",
     "output_type": "stream",
     "text": [
      "C:\\Users\\jason\\AppData\\Local\\Temp\\ipykernel_22288\\827642088.py:1: FutureWarning: The default of observed=False is deprecated and will be changed to True in a future version of pandas. Pass observed=False to retain current behavior or observed=True to adopt the future default and silence this warning.\n",
      "  df.groupby(['location', 'gender']).agg({'order_freq': 'value_counts'})\n"
     ]
    },
    {
     "data": {
      "text/html": [
       "<div>\n",
       "<style scoped>\n",
       "    .dataframe tbody tr th:only-of-type {\n",
       "        vertical-align: middle;\n",
       "    }\n",
       "\n",
       "    .dataframe tbody tr th {\n",
       "        vertical-align: top;\n",
       "    }\n",
       "\n",
       "    .dataframe thead th {\n",
       "        text-align: right;\n",
       "    }\n",
       "</style>\n",
       "<table border=\"1\" class=\"dataframe\">\n",
       "  <thead>\n",
       "    <tr style=\"text-align: right;\">\n",
       "      <th></th>\n",
       "      <th></th>\n",
       "      <th></th>\n",
       "      <th>order_freq</th>\n",
       "    </tr>\n",
       "    <tr>\n",
       "      <th>location</th>\n",
       "      <th>gender</th>\n",
       "      <th>order_freq</th>\n",
       "      <th></th>\n",
       "    </tr>\n",
       "  </thead>\n",
       "  <tbody>\n",
       "    <tr>\n",
       "      <th rowspan=\"5\" valign=\"top\">alabama</th>\n",
       "      <th rowspan=\"5\" valign=\"top\">female</th>\n",
       "      <th>91</th>\n",
       "      <td>10</td>\n",
       "    </tr>\n",
       "    <tr>\n",
       "      <th>14</th>\n",
       "      <td>9</td>\n",
       "    </tr>\n",
       "    <tr>\n",
       "      <th>7</th>\n",
       "      <td>6</td>\n",
       "    </tr>\n",
       "    <tr>\n",
       "      <th>30</th>\n",
       "      <td>1</td>\n",
       "    </tr>\n",
       "    <tr>\n",
       "      <th>365</th>\n",
       "      <td>1</td>\n",
       "    </tr>\n",
       "    <tr>\n",
       "      <th>...</th>\n",
       "      <th>...</th>\n",
       "      <th>...</th>\n",
       "      <td>...</td>\n",
       "    </tr>\n",
       "    <tr>\n",
       "      <th rowspan=\"5\" valign=\"top\">wyoming</th>\n",
       "      <th rowspan=\"5\" valign=\"top\">male</th>\n",
       "      <th>14</th>\n",
       "      <td>13</td>\n",
       "    </tr>\n",
       "    <tr>\n",
       "      <th>91</th>\n",
       "      <td>12</td>\n",
       "    </tr>\n",
       "    <tr>\n",
       "      <th>7</th>\n",
       "      <td>11</td>\n",
       "    </tr>\n",
       "    <tr>\n",
       "      <th>365</th>\n",
       "      <td>11</td>\n",
       "    </tr>\n",
       "    <tr>\n",
       "      <th>30</th>\n",
       "      <td>4</td>\n",
       "    </tr>\n",
       "  </tbody>\n",
       "</table>\n",
       "<p>500 rows × 1 columns</p>\n",
       "</div>"
      ],
      "text/plain": [
       "                            order_freq\n",
       "location gender order_freq            \n",
       "alabama  female 91                  10\n",
       "                14                   9\n",
       "                7                    6\n",
       "                30                   1\n",
       "                365                  1\n",
       "...                                ...\n",
       "wyoming  male   14                  13\n",
       "                91                  12\n",
       "                7                   11\n",
       "                365                 11\n",
       "                30                   4\n",
       "\n",
       "[500 rows x 1 columns]"
      ]
     },
     "execution_count": 49,
     "metadata": {},
     "output_type": "execute_result"
    }
   ],
   "source": [
    "df.groupby(['location', 'gender']).agg({'est_orders_per_year': 'value_counts'})"
   ]
  },
  {
   "cell_type": "markdown",
   "metadata": {},
   "source": [
    "Observation:\n",
    "\n",
    "- "
   ]
  },
  {
   "cell_type": "markdown",
   "metadata": {},
   "source": [
    "### Behavioral Segmentation"
   ]
  },
  {
   "cell_type": "markdown",
   "metadata": {},
   "source": [
    "#### 6. How does subscription status and shipping type affect customer behavior?"
   ]
  },
  {
   "cell_type": "code",
   "execution_count": null,
   "metadata": {},
   "outputs": [],
   "source": [
    "fig, axes = plt.subplots(1, 3, figsize=(15, 4))\n",
    "\n",
    "sub_rev = sns.barplot(data=df,\n",
    "                      x='sub_status',\n",
    "                      y='usd_total',\n",
    "                      estimator=np.mean,\n",
    "                      errorbar=None,\n",
    "                      ax=axes[0])\n",
    "for r in sub_rev.patches:\n",
    "    y_value = r.get_height()\n",
    "    x_value = r.get_x() + r.get_width() / 2\n",
    "    space = 1\n",
    "    label = '{:.1f}'.format(y_value)\n",
    "    sub_rev.annotate(label,\n",
    "                     (x_value, y_value),\n",
    "                     xytext=(0, space),\n",
    "                     textcoords='offset points',\n",
    "                     ha='center',\n",
    "                     va='bottom')\n",
    "\n",
    "sub_orders = sns.barplot(data=df,\n",
    "                      x='sub_status',\n",
    "                      y='previous_orders',\n",
    "                      estimator=np.mean,\n",
    "                      errorbar=None,\n",
    "                      ax=axes[1])\n",
    "# Creating loop to display numeric value on graph\n",
    "for r in sub_orders.patches:\n",
    "    y_value = r.get_height()\n",
    "    x_value = r.get_x() + r.get_width() / 2\n",
    "    space = 1\n",
    "    label = '{:.1f}'.format(y_value)\n",
    "    sub_orders.annotate(label,\n",
    "                        (x_value, y_value),\n",
    "                        xytext=(0, space),\n",
    "                        textcoords='offset points',\n",
    "                        ha='center',\n",
    "                        va='bottom')\n",
    "\n",
    "\n",
    "sub_rating = sns.barplot(data=df,\n",
    "                      x='sub_status',\n",
    "                      y='customer_rating',\n",
    "                      estimator=np.mean,\n",
    "                      errorbar=None,\n",
    "                      ax=axes[2])\n",
    "# Creating loop to display numeric value on graph\n",
    "for r in sub_rating.patches:\n",
    "    y_value = r.get_height()\n",
    "    x_value = r.get_x() + r.get_width() / 2\n",
    "    space = 1\n",
    "    label = '{:.1f}'.format(y_value)\n",
    "    sub_rating.annotate(label,\n",
    "                        (x_value, y_value),\n",
    "                        xytext=(0, space),\n",
    "                        textcoords='offset points',\n",
    "                        ha='center',\n",
    "                        va='bottom')\n"
   ]
  },
  {
   "cell_type": "markdown",
   "metadata": {},
   "source": [
    "Observation:\n",
    "\n",
    "- "
   ]
  },
  {
   "cell_type": "markdown",
   "metadata": {},
   "source": [
    "### 4. Which segments respond best to discounts?"
   ]
  },
  {
   "cell_type": "code",
   "execution_count": null,
   "metadata": {},
   "outputs": [],
   "source": [
    "discounts = df.groupby(['gender', 'discount_applied']).agg({'item_purchased': 'count',\n",
    "                                                            'usd_total': 'mean'})\n",
    "discounts = discounts.sort_values(by='usd_total', ascending=False).reset_index()\n",
    "discounts"
   ]
  },
  {
   "cell_type": "markdown",
   "metadata": {},
   "source": [
    "Observation:\n",
    "\n",
    "- "
   ]
  },
  {
   "cell_type": "code",
   "execution_count": null,
   "metadata": {},
   "outputs": [],
   "source": [
    "fig, axes = plt.subplots(1, 2, figsize=(15, 4))\n",
    "\n",
    "sns.barplot(data=df,\n",
    "            x='discount_applied',\n",
    "            y='usd_total',\n",
    "            estimator=np.mean,\n",
    "            errorbar=None,\n",
    "            ax=axes[0])\n",
    "\n",
    "sns.barplot(data=df,\n",
    "            x='discount_applied',\n",
    "            y='previous_orders',\n",
    "            estimator=np.mean,\n",
    "            errorbar=None,\n",
    "            ax=axes[1])"
   ]
  },
  {
   "cell_type": "markdown",
   "metadata": {},
   "source": [
    "Observation:\n",
    "\n",
    "- "
   ]
  },
  {
   "cell_type": "markdown",
   "metadata": {},
   "source": [
    "### 5. What payment and location patterns exist among customer segments?"
   ]
  },
  {
   "cell_type": "code",
   "execution_count": null,
   "metadata": {},
   "outputs": [],
   "source": [
    "df.head()"
   ]
  },
  {
   "cell_type": "code",
   "execution_count": null,
   "metadata": {},
   "outputs": [],
   "source": [
    "df.columns"
   ]
  },
  {
   "cell_type": "code",
   "execution_count": null,
   "metadata": {},
   "outputs": [],
   "source": [
    "pd.set_option('display.max_rows', None)"
   ]
  },
  {
   "cell_type": "code",
   "execution_count": null,
   "metadata": {},
   "outputs": [],
   "source": [
    "df.groupby('gender').agg({'payment_method': 'value_counts'})"
   ]
  },
  {
   "cell_type": "code",
   "execution_count": null,
   "metadata": {},
   "outputs": [],
   "source": [
    "df.groupby(['location', 'gender']).agg({'payment_method': 'value_counts'})"
   ]
  },
  {
   "cell_type": "markdown",
   "metadata": {},
   "source": [
    "Observation:\n",
    "\n",
    "- "
   ]
  },
  {
   "cell_type": "markdown",
   "metadata": {},
   "source": [
    "[Back to Table of Contents](#back)"
   ]
  },
  {
   "cell_type": "markdown",
   "metadata": {},
   "source": [
    "## Conclusions and Reccomendations"
   ]
  },
  {
   "cell_type": "markdown",
   "metadata": {},
   "source": [
    "[Back to Table of Contents](#back)"
   ]
  },
  {
   "cell_type": "markdown",
   "metadata": {},
   "source": [
    "## Dataset Citation\n",
    "\n",
    "Zee solver. (2023, October). Consumer Behavior and Shopping Habits Dataset, Version 1. Retrieved September 23, 2025 from [Kaggle](https://www.kaggle.com/datasets/zeesolver/consumer-behavior-and-shopping-habits-dataset/data)."
   ]
  },
  {
   "cell_type": "markdown",
   "metadata": {},
   "source": [
    "[Back to Table of Contents](#back)"
   ]
  }
 ],
 "metadata": {
  "kernelspec": {
   "display_name": "base",
   "language": "python",
   "name": "python3"
  },
  "language_info": {
   "codemirror_mode": {
    "name": "ipython",
    "version": 3
   },
   "file_extension": ".py",
   "mimetype": "text/x-python",
   "name": "python",
   "nbconvert_exporter": "python",
   "pygments_lexer": "ipython3",
   "version": "3.12.7"
  },
  "orig_nbformat": 4
 },
 "nbformat": 4,
 "nbformat_minor": 2
}
